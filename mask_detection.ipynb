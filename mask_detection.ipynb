{
 "cells": [
  {
   "cell_type": "code",
   "execution_count": 3,
   "id": "707e7d2c-eee7-4113-adfb-a90b40de8bb2",
   "metadata": {},
   "outputs": [],
   "source": [
    "import numpy as np\n",
    "import pandas as pd\n",
    "import matplotlib.pyplot as plt\n",
    "import os\n",
    "import xml.etree.ElementTree as ET\n",
    "import glob\n",
    "from PIL import Image\n",
    "from sklearn.model_selection import train_test_split\n",
    "from tensorflow.keras.models import Sequential\n",
    "from tensorflow.keras.layers import Conv2D, MaxPooling2D, Flatten, Dense, Dropout\n",
    "from tensorflow.keras.preprocessing.image import ImageDataGenerator\n",
    "from tensorflow.keras.callbacks import EarlyStopping, ReduceLROnPlateau\n",
    "from sklearn.metrics import confusion_matrix, classification_report\n",
    "from sklearn.metrics import precision_score, recall_score, accuracy_score,f1_score, classification_report\n",
    "import cv2\n",
    "import seaborn as sns \n",
    "\n",
    "\n",
    "input_data_path = \"D:/face_mask/images\"\n",
    "annotations_path = \"D:/face_mask/annotations\"\n",
    "images = [*os.listdir(input_data_path)]\n",
    "output_data_path =  '.'"
   ]
  },
  {
   "cell_type": "code",
   "execution_count": 4,
   "id": "7c474b6f-4cf7-47bf-9e15-7f9b6af4480b",
   "metadata": {},
   "outputs": [],
   "source": [
    "def parse_annotation(path):\n",
    "    tree = ET.parse(path)\n",
    "    root = tree.getroot()\n",
    "    constants = {}\n",
    "    objects = [child for child in root if child.tag == 'object']\n",
    "    for element in tree.iter():\n",
    "        if element.tag == 'filename':\n",
    "            constants['file'] = element.text[0:-4]\n",
    "        if element.tag == 'size':\n",
    "            for dim in list(element):\n",
    "                if dim.tag == 'width':\n",
    "                    constants['width'] = int(dim.text)\n",
    "                if dim.tag == 'height':\n",
    "                    constants['height'] = int(dim.text)\n",
    "                if dim.tag == 'depth':\n",
    "                    constants['depth'] = int(dim.text)\n",
    "    object_params = [parse_annotation_object(obj) for obj in objects]\n",
    "    #print(constants)\n",
    "    full_result = [merge(constants,ob) for ob in object_params]\n",
    "    return full_result\n",
    "\n",
    "def parse_annotation_object(annotation_object):\n",
    "    params = {}\n",
    "    for param in list(annotation_object):\n",
    "        if param.tag == 'name':\n",
    "            params['name'] = param.text\n",
    "        if param.tag == 'bndbox':\n",
    "            for coord in list(param):\n",
    "                if coord.tag == 'xmin':\n",
    "                    params['xmin'] = int(coord.text)              \n",
    "                if coord.tag == 'ymin':\n",
    "                    params['ymin'] = int(coord.text)\n",
    "                if coord.tag == 'xmax':\n",
    "                    params['xmax'] = int(coord.text)\n",
    "                if coord.tag == 'ymax':\n",
    "                    params['ymax'] = int(coord.text)\n",
    "            \n",
    "    return params       \n",
    " \n",
    "def merge(dict1, dict2):\n",
    "    res = {**dict1, **dict2}\n",
    "    return res"
   ]
  },
  {
   "cell_type": "code",
   "execution_count": 5,
   "id": "220426ff-1087-428f-9e29-0f721b18d458",
   "metadata": {},
   "outputs": [
    {
     "data": {
      "text/plain": [
       "(4072, 9)"
      ]
     },
     "execution_count": 5,
     "metadata": {},
     "output_type": "execute_result"
    }
   ],
   "source": [
    "dataset = [parse_annotation(anno) for anno in glob.glob(annotations_path+\"/*.xml\") ]\n",
    "\n",
    "full_dataset = sum(dataset, [])\n",
    "\n",
    "df = pd.DataFrame(full_dataset)\n",
    "df.shape"
   ]
  },
  {
   "cell_type": "code",
   "execution_count": 6,
   "id": "b6b34b0c-d427-48b6-9e4a-a6d0a191c17e",
   "metadata": {},
   "outputs": [
    {
     "data": {
      "text/html": [
       "<div>\n",
       "<style scoped>\n",
       "    .dataframe tbody tr th:only-of-type {\n",
       "        vertical-align: middle;\n",
       "    }\n",
       "\n",
       "    .dataframe tbody tr th {\n",
       "        vertical-align: top;\n",
       "    }\n",
       "\n",
       "    .dataframe thead th {\n",
       "        text-align: right;\n",
       "    }\n",
       "</style>\n",
       "<table border=\"1\" class=\"dataframe\">\n",
       "  <thead>\n",
       "    <tr style=\"text-align: right;\">\n",
       "      <th></th>\n",
       "      <th>file</th>\n",
       "      <th>width</th>\n",
       "      <th>height</th>\n",
       "      <th>depth</th>\n",
       "      <th>name</th>\n",
       "      <th>xmin</th>\n",
       "      <th>ymin</th>\n",
       "      <th>xmax</th>\n",
       "      <th>ymax</th>\n",
       "    </tr>\n",
       "  </thead>\n",
       "  <tbody>\n",
       "    <tr>\n",
       "      <th>0</th>\n",
       "      <td>maksssksksss0</td>\n",
       "      <td>512</td>\n",
       "      <td>366</td>\n",
       "      <td>3</td>\n",
       "      <td>without_mask</td>\n",
       "      <td>79</td>\n",
       "      <td>105</td>\n",
       "      <td>109</td>\n",
       "      <td>142</td>\n",
       "    </tr>\n",
       "    <tr>\n",
       "      <th>1</th>\n",
       "      <td>maksssksksss0</td>\n",
       "      <td>512</td>\n",
       "      <td>366</td>\n",
       "      <td>3</td>\n",
       "      <td>with_mask</td>\n",
       "      <td>185</td>\n",
       "      <td>100</td>\n",
       "      <td>226</td>\n",
       "      <td>144</td>\n",
       "    </tr>\n",
       "    <tr>\n",
       "      <th>2</th>\n",
       "      <td>maksssksksss0</td>\n",
       "      <td>512</td>\n",
       "      <td>366</td>\n",
       "      <td>3</td>\n",
       "      <td>without_mask</td>\n",
       "      <td>325</td>\n",
       "      <td>90</td>\n",
       "      <td>360</td>\n",
       "      <td>141</td>\n",
       "    </tr>\n",
       "    <tr>\n",
       "      <th>3</th>\n",
       "      <td>maksssksksss1</td>\n",
       "      <td>400</td>\n",
       "      <td>156</td>\n",
       "      <td>3</td>\n",
       "      <td>with_mask</td>\n",
       "      <td>321</td>\n",
       "      <td>34</td>\n",
       "      <td>354</td>\n",
       "      <td>69</td>\n",
       "    </tr>\n",
       "    <tr>\n",
       "      <th>4</th>\n",
       "      <td>maksssksksss1</td>\n",
       "      <td>400</td>\n",
       "      <td>156</td>\n",
       "      <td>3</td>\n",
       "      <td>with_mask</td>\n",
       "      <td>224</td>\n",
       "      <td>38</td>\n",
       "      <td>261</td>\n",
       "      <td>73</td>\n",
       "    </tr>\n",
       "  </tbody>\n",
       "</table>\n",
       "</div>"
      ],
      "text/plain": [
       "            file  width  height  depth          name  xmin  ymin  xmax  ymax\n",
       "0  maksssksksss0    512     366      3  without_mask    79   105   109   142\n",
       "1  maksssksksss0    512     366      3     with_mask   185   100   226   144\n",
       "2  maksssksksss0    512     366      3  without_mask   325    90   360   141\n",
       "3  maksssksksss1    400     156      3     with_mask   321    34   354    69\n",
       "4  maksssksksss1    400     156      3     with_mask   224    38   261    73"
      ]
     },
     "execution_count": 6,
     "metadata": {},
     "output_type": "execute_result"
    }
   ],
   "source": [
    "df.head()"
   ]
  },
  {
   "cell_type": "code",
   "execution_count": 7,
   "id": "ab8ce410-15f4-4e02-9303-f71ccd17dc38",
   "metadata": {},
   "outputs": [],
   "source": [
    "final_test_image = 'maksssksksss0'\n",
    "df_final_test = df.loc[df[\"file\"] == final_test_image]\n",
    "images.remove(f'{final_test_image}.png')\n",
    "df = df.loc[df[\"file\"] != final_test_image]"
   ]
  },
  {
   "cell_type": "code",
   "execution_count": 8,
   "id": "eeffa524-5751-415b-af52-13d051cf4115",
   "metadata": {},
   "outputs": [
    {
     "data": {
      "text/html": [
       "<div>\n",
       "<style scoped>\n",
       "    .dataframe tbody tr th:only-of-type {\n",
       "        vertical-align: middle;\n",
       "    }\n",
       "\n",
       "    .dataframe tbody tr th {\n",
       "        vertical-align: top;\n",
       "    }\n",
       "\n",
       "    .dataframe thead th {\n",
       "        text-align: right;\n",
       "    }\n",
       "</style>\n",
       "<table border=\"1\" class=\"dataframe\">\n",
       "  <thead>\n",
       "    <tr style=\"text-align: right;\">\n",
       "      <th></th>\n",
       "      <th>file</th>\n",
       "      <th>width</th>\n",
       "      <th>height</th>\n",
       "      <th>depth</th>\n",
       "      <th>name</th>\n",
       "      <th>xmin</th>\n",
       "      <th>ymin</th>\n",
       "      <th>xmax</th>\n",
       "      <th>ymax</th>\n",
       "    </tr>\n",
       "  </thead>\n",
       "  <tbody>\n",
       "    <tr>\n",
       "      <th>3</th>\n",
       "      <td>maksssksksss1</td>\n",
       "      <td>400</td>\n",
       "      <td>156</td>\n",
       "      <td>3</td>\n",
       "      <td>with_mask</td>\n",
       "      <td>321</td>\n",
       "      <td>34</td>\n",
       "      <td>354</td>\n",
       "      <td>69</td>\n",
       "    </tr>\n",
       "    <tr>\n",
       "      <th>4</th>\n",
       "      <td>maksssksksss1</td>\n",
       "      <td>400</td>\n",
       "      <td>156</td>\n",
       "      <td>3</td>\n",
       "      <td>with_mask</td>\n",
       "      <td>224</td>\n",
       "      <td>38</td>\n",
       "      <td>261</td>\n",
       "      <td>73</td>\n",
       "    </tr>\n",
       "    <tr>\n",
       "      <th>5</th>\n",
       "      <td>maksssksksss1</td>\n",
       "      <td>400</td>\n",
       "      <td>156</td>\n",
       "      <td>3</td>\n",
       "      <td>with_mask</td>\n",
       "      <td>299</td>\n",
       "      <td>58</td>\n",
       "      <td>315</td>\n",
       "      <td>81</td>\n",
       "    </tr>\n",
       "    <tr>\n",
       "      <th>6</th>\n",
       "      <td>maksssksksss1</td>\n",
       "      <td>400</td>\n",
       "      <td>156</td>\n",
       "      <td>3</td>\n",
       "      <td>with_mask</td>\n",
       "      <td>143</td>\n",
       "      <td>74</td>\n",
       "      <td>174</td>\n",
       "      <td>115</td>\n",
       "    </tr>\n",
       "    <tr>\n",
       "      <th>7</th>\n",
       "      <td>maksssksksss1</td>\n",
       "      <td>400</td>\n",
       "      <td>156</td>\n",
       "      <td>3</td>\n",
       "      <td>with_mask</td>\n",
       "      <td>74</td>\n",
       "      <td>69</td>\n",
       "      <td>95</td>\n",
       "      <td>99</td>\n",
       "    </tr>\n",
       "    <tr>\n",
       "      <th>...</th>\n",
       "      <td>...</td>\n",
       "      <td>...</td>\n",
       "      <td>...</td>\n",
       "      <td>...</td>\n",
       "      <td>...</td>\n",
       "      <td>...</td>\n",
       "      <td>...</td>\n",
       "      <td>...</td>\n",
       "      <td>...</td>\n",
       "    </tr>\n",
       "    <tr>\n",
       "      <th>4067</th>\n",
       "      <td>maksssksksss98</td>\n",
       "      <td>400</td>\n",
       "      <td>267</td>\n",
       "      <td>3</td>\n",
       "      <td>with_mask</td>\n",
       "      <td>263</td>\n",
       "      <td>62</td>\n",
       "      <td>287</td>\n",
       "      <td>85</td>\n",
       "    </tr>\n",
       "    <tr>\n",
       "      <th>4068</th>\n",
       "      <td>maksssksksss98</td>\n",
       "      <td>400</td>\n",
       "      <td>267</td>\n",
       "      <td>3</td>\n",
       "      <td>with_mask</td>\n",
       "      <td>344</td>\n",
       "      <td>80</td>\n",
       "      <td>377</td>\n",
       "      <td>106</td>\n",
       "    </tr>\n",
       "    <tr>\n",
       "      <th>4069</th>\n",
       "      <td>maksssksksss99</td>\n",
       "      <td>400</td>\n",
       "      <td>267</td>\n",
       "      <td>3</td>\n",
       "      <td>mask_weared_incorrect</td>\n",
       "      <td>181</td>\n",
       "      <td>54</td>\n",
       "      <td>273</td>\n",
       "      <td>162</td>\n",
       "    </tr>\n",
       "    <tr>\n",
       "      <th>4070</th>\n",
       "      <td>maksssksksss99</td>\n",
       "      <td>400</td>\n",
       "      <td>267</td>\n",
       "      <td>3</td>\n",
       "      <td>with_mask</td>\n",
       "      <td>99</td>\n",
       "      <td>87</td>\n",
       "      <td>176</td>\n",
       "      <td>165</td>\n",
       "    </tr>\n",
       "    <tr>\n",
       "      <th>4071</th>\n",
       "      <td>maksssksksss99</td>\n",
       "      <td>400</td>\n",
       "      <td>267</td>\n",
       "      <td>3</td>\n",
       "      <td>with_mask</td>\n",
       "      <td>289</td>\n",
       "      <td>99</td>\n",
       "      <td>355</td>\n",
       "      <td>233</td>\n",
       "    </tr>\n",
       "  </tbody>\n",
       "</table>\n",
       "<p>4069 rows × 9 columns</p>\n",
       "</div>"
      ],
      "text/plain": [
       "                file  width  height  depth                   name  xmin  ymin  \\\n",
       "3      maksssksksss1    400     156      3              with_mask   321    34   \n",
       "4      maksssksksss1    400     156      3              with_mask   224    38   \n",
       "5      maksssksksss1    400     156      3              with_mask   299    58   \n",
       "6      maksssksksss1    400     156      3              with_mask   143    74   \n",
       "7      maksssksksss1    400     156      3              with_mask    74    69   \n",
       "...              ...    ...     ...    ...                    ...   ...   ...   \n",
       "4067  maksssksksss98    400     267      3              with_mask   263    62   \n",
       "4068  maksssksksss98    400     267      3              with_mask   344    80   \n",
       "4069  maksssksksss99    400     267      3  mask_weared_incorrect   181    54   \n",
       "4070  maksssksksss99    400     267      3              with_mask    99    87   \n",
       "4071  maksssksksss99    400     267      3              with_mask   289    99   \n",
       "\n",
       "      xmax  ymax  \n",
       "3      354    69  \n",
       "4      261    73  \n",
       "5      315    81  \n",
       "6      174   115  \n",
       "7       95    99  \n",
       "...    ...   ...  \n",
       "4067   287    85  \n",
       "4068   377   106  \n",
       "4069   273   162  \n",
       "4070   176   165  \n",
       "4071   355   233  \n",
       "\n",
       "[4069 rows x 9 columns]"
      ]
     },
     "execution_count": 8,
     "metadata": {},
     "output_type": "execute_result"
    }
   ],
   "source": [
    "df"
   ]
  },
  {
   "cell_type": "code",
   "execution_count": 9,
   "id": "4580142b-1e36-4ba5-a865-18655b21ac68",
   "metadata": {},
   "outputs": [
    {
     "data": {
      "text/plain": [
       "name\n",
       "with_mask                3231\n",
       "without_mask              715\n",
       "mask_weared_incorrect     123\n",
       "Name: count, dtype: int64"
      ]
     },
     "execution_count": 9,
     "metadata": {},
     "output_type": "execute_result"
    }
   ],
   "source": [
    "df[\"name\"].value_counts()"
   ]
  },
  {
   "cell_type": "code",
   "execution_count": 10,
   "id": "30cb25b5-4f36-4bd1-83d4-a240396f657c",
   "metadata": {},
   "outputs": [
    {
     "data": {
      "text/plain": [
       "Text(0, 0.5, 'name')"
      ]
     },
     "execution_count": 10,
     "metadata": {},
     "output_type": "execute_result"
    },
    {
     "data": {
      "image/png": "[encoded data removed]",
      "text/plain": [
       "<Figure size 640x480 with 1 Axes>"
      ]
     },
     "metadata": {},
     "output_type": "display_data"
    }
   ],
   "source": [
    "df[\"name\"].value_counts().plot(kind='barh')\n",
    "plt.xlabel('Count', fontsize = 10, fontweight = 'bold')\n",
    "plt.ylabel('name', fontsize = 10, fontweight = 'bold')"
   ]
  },
  {
   "cell_type": "code",
   "execution_count": 11,
   "id": "f1379f2a-1e13-47df-8d3b-f7996b1302e7",
   "metadata": {},
   "outputs": [],
   "source": [
    "labels = df['name'].unique()\n",
    "directory = ['train', 'test', 'val']\n",
    "output_data_path =  '.'\n",
    "\n",
    "import os\n",
    "for label in labels:\n",
    "    for d in directory:\n",
    "        path = os.path.join(output_data_path, d, label)\n",
    "        if not os.path.exists(path):\n",
    "            os.makedirs(path)"
   ]
  },
  {
   "cell_type": "code",
   "execution_count": 12,
   "id": "44a78da3-2a85-4987-b69f-2d89971129c0",
   "metadata": {},
   "outputs": [],
   "source": [
    "def crop_img(image_path, x_min, y_min, x_max, y_max):\n",
    "    x_shift = (x_max - x_min) * 0.1\n",
    "    y_shift = (y_max - y_min) * 0.1\n",
    "    img = Image.open(image_path)\n",
    "    cropped = img.crop((x_min - x_shift, y_min - y_shift, x_max + x_shift, y_max + y_shift))\n",
    "    return cropped"
   ]
  },
  {
   "cell_type": "code",
   "execution_count": 13,
   "id": "97fb408f-acbc-48f0-864f-47e48fa2b979",
   "metadata": {},
   "outputs": [],
   "source": [
    "def extract_faces(image_name, image_info):\n",
    "    faces = []\n",
    "    df_one_img = image_info[image_info['file'] == image_name[:-4]][['xmin', 'ymin', 'xmax', 'ymax', 'name']]\n",
    "    for row_num in range(len(df_one_img)):\n",
    "        x_min, y_min, x_max, y_max, label = df_one_img.iloc[row_num] \n",
    "        image_path = os.path.join(input_data_path, image_name)\n",
    "        faces.append((crop_img(image_path, x_min, y_min, x_max, y_max), label,f'{image_name[:-4]}_{(x_min, y_min)}'))\n",
    "    return faces"
   ]
  },
  {
   "cell_type": "code",
   "execution_count": 14,
   "id": "75a32293-ba1f-47d2-95ca-63e11a63672b",
   "metadata": {},
   "outputs": [],
   "source": [
    "cropped_faces = [extract_faces(img, df) for img in images]"
   ]
  },
  {
   "cell_type": "code",
   "execution_count": 15,
   "id": "d0273db0-727b-4cf3-b84d-b222ab207638",
   "metadata": {},
   "outputs": [],
   "source": [
    "flat_cropped_faces = sum(cropped_faces, [])"
   ]
  },
  {
   "cell_type": "code",
   "execution_count": 16,
   "id": "8364c2e2-731c-40ae-aff2-2bea56c80872",
   "metadata": {},
   "outputs": [],
   "source": [
    "with_mask = [(img, image_name) for img, label,image_name in flat_cropped_faces if label == \"with_mask\"]\n",
    "mask_weared_incorrect = [(img, image_name) for img, label,image_name in flat_cropped_faces if label == \"mask_weared_incorrect\"]\n",
    "without_mask = [(img, image_name) for img, label,image_name in flat_cropped_faces if label == \"without_mask\"]"
   ]
  },
  {
   "cell_type": "code",
   "execution_count": 17,
   "id": "b1d365f4-840d-4130-8903-02399ce4fbc4",
   "metadata": {},
   "outputs": [
    {
     "name": "stdout",
     "output_type": "stream",
     "text": [
      "3231\n",
      "715\n",
      "123\n",
      "4069\n"
     ]
    }
   ],
   "source": [
    "print(len(with_mask))\n",
    "print(len(without_mask))\n",
    "print(len(mask_weared_incorrect))\n",
    "print(len(with_mask) + len(without_mask) + len(mask_weared_incorrect))"
   ]
  },
  {
   "cell_type": "code",
   "execution_count": 18,
   "id": "a391e990-f499-410a-8fe1-9c0d24971b66",
   "metadata": {},
   "outputs": [],
   "source": [
    "train_with_mask, test_with_mask = train_test_split(with_mask, test_size=0.20, random_state=42)\n",
    "test_with_mask, val_with_mask = train_test_split(test_with_mask, test_size=0.7, random_state=42)\n",
    "\n",
    "train_mask_weared_incorrect, test_mask_weared_incorrect = train_test_split(mask_weared_incorrect, test_size=0.20, random_state=42)\n",
    "test_mask_weared_incorrect, val_mask_weared_incorrect = train_test_split(test_mask_weared_incorrect, test_size=0.7, random_state=42)\n",
    "\n",
    "train_without_mask, test_without_mask = train_test_split(without_mask, test_size=0.20, random_state=42)\n",
    "test_without_mask, val_without_mask = train_test_split(test_without_mask, test_size=0.7, random_state=42)"
   ]
  },
  {
   "cell_type": "code",
   "execution_count": 19,
   "id": "41e0aefc-307d-4249-836f-a1b03f0ddacb",
   "metadata": {},
   "outputs": [],
   "source": [
    "def save_image(image, image_name, output_data_path,  dataset_type, label):\n",
    "    output_path = os.path.join(output_data_path, dataset_type, label ,f'{image_name}.png')\n",
    "    image.save(output_path)"
   ]
  },
  {
   "cell_type": "code",
   "execution_count": 20,
   "id": "61997ea9-18a2-4695-900f-0add3ba2f36e",
   "metadata": {},
   "outputs": [],
   "source": [
    "for image, image_name in train_with_mask:\n",
    "    save_image(image, image_name, output_data_path, 'train', 'with_mask')\n",
    "\n",
    "for image, image_name in train_mask_weared_incorrect:\n",
    "    save_image(image, image_name, output_data_path, 'train', 'mask_weared_incorrect')\n",
    "\n",
    "for image, image_name in train_without_mask:\n",
    "    save_image(image, image_name, output_data_path, 'train', 'without_mask')\n",
    "\n",
    "for image, image_name in test_with_mask:\n",
    "    save_image(image, image_name, output_data_path, 'test', 'with_mask')\n",
    "\n",
    "for image, image_name in test_mask_weared_incorrect:\n",
    "    save_image(image, image_name, output_data_path, 'test', 'mask_weared_incorrect')\n",
    "\n",
    "for image, image_name in test_without_mask:\n",
    "    save_image(image, image_name, output_data_path, 'test', 'without_mask')\n",
    "        \n",
    "for image, image_name in val_with_mask:\n",
    "    save_image(image, image_name, output_data_path, 'val', 'with_mask')\n",
    "\n",
    "for image, image_name in val_without_mask:\n",
    "    save_image(image, image_name, output_data_path, 'val', 'without_mask')\n",
    "\n",
    "for image, image_name in val_mask_weared_incorrect:\n",
    "    save_image(image, image_name, output_data_path, 'val', 'mask_weared_incorrect')"
   ]
  },
  {
   "cell_type": "code",
   "execution_count": 21,
   "id": "2d7ce113-ca53-4852-954e-2dd9f3a9faa0",
   "metadata": {},
   "outputs": [
    {
     "name": "stderr",
     "output_type": "stream",
     "text": [
      "C:\\Users\\mrroy\\AppData\\Local\\Programs\\Python\\Python312\\Lib\\site-packages\\keras\\src\\layers\\convolutional\\base_conv.py:107: UserWarning: Do not pass an `input_shape`/`input_dim` argument to a layer. When using Sequential models, prefer using an `Input(shape)` object as the first layer in the model instead.\n",
      "  super().__init__(activity_regularizer=activity_regularizer, **kwargs)\n"
     ]
    },
    {
     "data": {
      "text/html": [
       "<pre style=\"white-space:pre;overflow-x:auto;line-height:normal;font-family:Menlo,'DejaVu Sans Mono',consolas,'Courier New',monospace\"><span style=\"font-weight: bold\">Model: \"sequential\"</span>\n",
       "</pre>\n"
      ],
      "text/plain": [
       "\u001b[1mModel: \"sequential\"\u001b[0m\n"
      ]
     },
     "metadata": {},
     "output_type": "display_data"
    },
    {
     "data": {
      "text/html": [
       "<pre style=\"white-space:pre;overflow-x:auto;line-height:normal;font-family:Menlo,'DejaVu Sans Mono',consolas,'Courier New',monospace\">┏━━━━━━━━━━━━━━━━━━━━━━━━━━━━━━━━━━━━━━┳━━━━━━━━━━━━━━━━━━━━━━━━━━━━━┳━━━━━━━━━━━━━━━━━┓\n",
       "┃<span style=\"font-weight: bold\"> Layer (type)                         </span>┃<span style=\"font-weight: bold\"> Output Shape                </span>┃<span style=\"font-weight: bold\">         Param # </span>┃\n",
       "┡━━━━━━━━━━━━━━━━━━━━━━━━━━━━━━━━━━━━━━╇━━━━━━━━━━━━━━━━━━━━━━━━━━━━━╇━━━━━━━━━━━━━━━━━┩\n",
       "│ conv2d (<span style=\"color: #0087ff; text-decoration-color: #0087ff\">Conv2D</span>)                      │ (<span style=\"color: #00d7ff; text-decoration-color: #00d7ff\">None</span>, <span style=\"color: #00af00; text-decoration-color: #00af00\">35</span>, <span style=\"color: #00af00; text-decoration-color: #00af00\">35</span>, <span style=\"color: #00af00; text-decoration-color: #00af00\">16</span>)          │             <span style=\"color: #00af00; text-decoration-color: #00af00\">448</span> │\n",
       "├──────────────────────────────────────┼─────────────────────────────┼─────────────────┤\n",
       "│ max_pooling2d (<span style=\"color: #0087ff; text-decoration-color: #0087ff\">MaxPooling2D</span>)         │ (<span style=\"color: #00d7ff; text-decoration-color: #00d7ff\">None</span>, <span style=\"color: #00af00; text-decoration-color: #00af00\">17</span>, <span style=\"color: #00af00; text-decoration-color: #00af00\">17</span>, <span style=\"color: #00af00; text-decoration-color: #00af00\">16</span>)          │               <span style=\"color: #00af00; text-decoration-color: #00af00\">0</span> │\n",
       "├──────────────────────────────────────┼─────────────────────────────┼─────────────────┤\n",
       "│ conv2d_1 (<span style=\"color: #0087ff; text-decoration-color: #0087ff\">Conv2D</span>)                    │ (<span style=\"color: #00d7ff; text-decoration-color: #00d7ff\">None</span>, <span style=\"color: #00af00; text-decoration-color: #00af00\">17</span>, <span style=\"color: #00af00; text-decoration-color: #00af00\">17</span>, <span style=\"color: #00af00; text-decoration-color: #00af00\">32</span>)          │           <span style=\"color: #00af00; text-decoration-color: #00af00\">4,640</span> │\n",
       "├──────────────────────────────────────┼─────────────────────────────┼─────────────────┤\n",
       "│ max_pooling2d_1 (<span style=\"color: #0087ff; text-decoration-color: #0087ff\">MaxPooling2D</span>)       │ (<span style=\"color: #00d7ff; text-decoration-color: #00d7ff\">None</span>, <span style=\"color: #00af00; text-decoration-color: #00af00\">8</span>, <span style=\"color: #00af00; text-decoration-color: #00af00\">8</span>, <span style=\"color: #00af00; text-decoration-color: #00af00\">32</span>)            │               <span style=\"color: #00af00; text-decoration-color: #00af00\">0</span> │\n",
       "├──────────────────────────────────────┼─────────────────────────────┼─────────────────┤\n",
       "│ conv2d_2 (<span style=\"color: #0087ff; text-decoration-color: #0087ff\">Conv2D</span>)                    │ (<span style=\"color: #00d7ff; text-decoration-color: #00d7ff\">None</span>, <span style=\"color: #00af00; text-decoration-color: #00af00\">8</span>, <span style=\"color: #00af00; text-decoration-color: #00af00\">8</span>, <span style=\"color: #00af00; text-decoration-color: #00af00\">64</span>)            │          <span style=\"color: #00af00; text-decoration-color: #00af00\">18,496</span> │\n",
       "├──────────────────────────────────────┼─────────────────────────────┼─────────────────┤\n",
       "│ max_pooling2d_2 (<span style=\"color: #0087ff; text-decoration-color: #0087ff\">MaxPooling2D</span>)       │ (<span style=\"color: #00d7ff; text-decoration-color: #00d7ff\">None</span>, <span style=\"color: #00af00; text-decoration-color: #00af00\">4</span>, <span style=\"color: #00af00; text-decoration-color: #00af00\">4</span>, <span style=\"color: #00af00; text-decoration-color: #00af00\">64</span>)            │               <span style=\"color: #00af00; text-decoration-color: #00af00\">0</span> │\n",
       "├──────────────────────────────────────┼─────────────────────────────┼─────────────────┤\n",
       "│ dropout (<span style=\"color: #0087ff; text-decoration-color: #0087ff\">Dropout</span>)                    │ (<span style=\"color: #00d7ff; text-decoration-color: #00d7ff\">None</span>, <span style=\"color: #00af00; text-decoration-color: #00af00\">4</span>, <span style=\"color: #00af00; text-decoration-color: #00af00\">4</span>, <span style=\"color: #00af00; text-decoration-color: #00af00\">64</span>)            │               <span style=\"color: #00af00; text-decoration-color: #00af00\">0</span> │\n",
       "├──────────────────────────────────────┼─────────────────────────────┼─────────────────┤\n",
       "│ flatten (<span style=\"color: #0087ff; text-decoration-color: #0087ff\">Flatten</span>)                    │ (<span style=\"color: #00d7ff; text-decoration-color: #00d7ff\">None</span>, <span style=\"color: #00af00; text-decoration-color: #00af00\">1024</span>)                │               <span style=\"color: #00af00; text-decoration-color: #00af00\">0</span> │\n",
       "├──────────────────────────────────────┼─────────────────────────────┼─────────────────┤\n",
       "│ dense (<span style=\"color: #0087ff; text-decoration-color: #0087ff\">Dense</span>)                        │ (<span style=\"color: #00d7ff; text-decoration-color: #00d7ff\">None</span>, <span style=\"color: #00af00; text-decoration-color: #00af00\">500</span>)                 │         <span style=\"color: #00af00; text-decoration-color: #00af00\">512,500</span> │\n",
       "├──────────────────────────────────────┼─────────────────────────────┼─────────────────┤\n",
       "│ dropout_1 (<span style=\"color: #0087ff; text-decoration-color: #0087ff\">Dropout</span>)                  │ (<span style=\"color: #00d7ff; text-decoration-color: #00d7ff\">None</span>, <span style=\"color: #00af00; text-decoration-color: #00af00\">500</span>)                 │               <span style=\"color: #00af00; text-decoration-color: #00af00\">0</span> │\n",
       "├──────────────────────────────────────┼─────────────────────────────┼─────────────────┤\n",
       "│ dense_1 (<span style=\"color: #0087ff; text-decoration-color: #0087ff\">Dense</span>)                      │ (<span style=\"color: #00d7ff; text-decoration-color: #00d7ff\">None</span>, <span style=\"color: #00af00; text-decoration-color: #00af00\">3</span>)                   │           <span style=\"color: #00af00; text-decoration-color: #00af00\">1,503</span> │\n",
       "└──────────────────────────────────────┴─────────────────────────────┴─────────────────┘\n",
       "</pre>\n"
      ],
      "text/plain": [
       "┏━━━━━━━━━━━━━━━━━━━━━━━━━━━━━━━━━━━━━━┳━━━━━━━━━━━━━━━━━━━━━━━━━━━━━┳━━━━━━━━━━━━━━━━━┓\n",
       "┃\u001b[1m \u001b[0m\u001b[1mLayer (type)                        \u001b[0m\u001b[1m \u001b[0m┃\u001b[1m \u001b[0m\u001b[1mOutput Shape               \u001b[0m\u001b[1m \u001b[0m┃\u001b[1m \u001b[0m\u001b[1m        Param #\u001b[0m\u001b[1m \u001b[0m┃\n",
       "┡━━━━━━━━━━━━━━━━━━━━━━━━━━━━━━━━━━━━━━╇━━━━━━━━━━━━━━━━━━━━━━━━━━━━━╇━━━━━━━━━━━━━━━━━┩\n",
       "│ conv2d (\u001b[38;5;33mConv2D\u001b[0m)                      │ (\u001b[38;5;45mNone\u001b[0m, \u001b[38;5;34m35\u001b[0m, \u001b[38;5;34m35\u001b[0m, \u001b[38;5;34m16\u001b[0m)          │             \u001b[38;5;34m448\u001b[0m │\n",
       "├──────────────────────────────────────┼─────────────────────────────┼─────────────────┤\n",
       "│ max_pooling2d (\u001b[38;5;33mMaxPooling2D\u001b[0m)         │ (\u001b[38;5;45mNone\u001b[0m, \u001b[38;5;34m17\u001b[0m, \u001b[38;5;34m17\u001b[0m, \u001b[38;5;34m16\u001b[0m)          │               \u001b[38;5;34m0\u001b[0m │\n",
       "├──────────────────────────────────────┼─────────────────────────────┼─────────────────┤\n",
       "│ conv2d_1 (\u001b[38;5;33mConv2D\u001b[0m)                    │ (\u001b[38;5;45mNone\u001b[0m, \u001b[38;5;34m17\u001b[0m, \u001b[38;5;34m17\u001b[0m, \u001b[38;5;34m32\u001b[0m)          │           \u001b[38;5;34m4,640\u001b[0m │\n",
       "├──────────────────────────────────────┼─────────────────────────────┼─────────────────┤\n",
       "│ max_pooling2d_1 (\u001b[38;5;33mMaxPooling2D\u001b[0m)       │ (\u001b[38;5;45mNone\u001b[0m, \u001b[38;5;34m8\u001b[0m, \u001b[38;5;34m8\u001b[0m, \u001b[38;5;34m32\u001b[0m)            │               \u001b[38;5;34m0\u001b[0m │\n",
       "├──────────────────────────────────────┼─────────────────────────────┼─────────────────┤\n",
       "│ conv2d_2 (\u001b[38;5;33mConv2D\u001b[0m)                    │ (\u001b[38;5;45mNone\u001b[0m, \u001b[38;5;34m8\u001b[0m, \u001b[38;5;34m8\u001b[0m, \u001b[38;5;34m64\u001b[0m)            │          \u001b[38;5;34m18,496\u001b[0m │\n",
       "├──────────────────────────────────────┼─────────────────────────────┼─────────────────┤\n",
       "│ max_pooling2d_2 (\u001b[38;5;33mMaxPooling2D\u001b[0m)       │ (\u001b[38;5;45mNone\u001b[0m, \u001b[38;5;34m4\u001b[0m, \u001b[38;5;34m4\u001b[0m, \u001b[38;5;34m64\u001b[0m)            │               \u001b[38;5;34m0\u001b[0m │\n",
       "├──────────────────────────────────────┼─────────────────────────────┼─────────────────┤\n",
       "│ dropout (\u001b[38;5;33mDropout\u001b[0m)                    │ (\u001b[38;5;45mNone\u001b[0m, \u001b[38;5;34m4\u001b[0m, \u001b[38;5;34m4\u001b[0m, \u001b[38;5;34m64\u001b[0m)            │               \u001b[38;5;34m0\u001b[0m │\n",
       "├──────────────────────────────────────┼─────────────────────────────┼─────────────────┤\n",
       "│ flatten (\u001b[38;5;33mFlatten\u001b[0m)                    │ (\u001b[38;5;45mNone\u001b[0m, \u001b[38;5;34m1024\u001b[0m)                │               \u001b[38;5;34m0\u001b[0m │\n",
       "├──────────────────────────────────────┼─────────────────────────────┼─────────────────┤\n",
       "│ dense (\u001b[38;5;33mDense\u001b[0m)                        │ (\u001b[38;5;45mNone\u001b[0m, \u001b[38;5;34m500\u001b[0m)                 │         \u001b[38;5;34m512,500\u001b[0m │\n",
       "├──────────────────────────────────────┼─────────────────────────────┼─────────────────┤\n",
       "│ dropout_1 (\u001b[38;5;33mDropout\u001b[0m)                  │ (\u001b[38;5;45mNone\u001b[0m, \u001b[38;5;34m500\u001b[0m)                 │               \u001b[38;5;34m0\u001b[0m │\n",
       "├──────────────────────────────────────┼─────────────────────────────┼─────────────────┤\n",
       "│ dense_1 (\u001b[38;5;33mDense\u001b[0m)                      │ (\u001b[38;5;45mNone\u001b[0m, \u001b[38;5;34m3\u001b[0m)                   │           \u001b[38;5;34m1,503\u001b[0m │\n",
       "└──────────────────────────────────────┴─────────────────────────────┴─────────────────┘\n"
      ]
     },
     "metadata": {},
     "output_type": "display_data"
    },
    {
     "data": {
      "text/html": [
       "<pre style=\"white-space:pre;overflow-x:auto;line-height:normal;font-family:Menlo,'DejaVu Sans Mono',consolas,'Courier New',monospace\"><span style=\"font-weight: bold\"> Total params: </span><span style=\"color: #00af00; text-decoration-color: #00af00\">537,587</span> (2.05 MB)\n",
       "</pre>\n"
      ],
      "text/plain": [
       "\u001b[1m Total params: \u001b[0m\u001b[38;5;34m537,587\u001b[0m (2.05 MB)\n"
      ]
     },
     "metadata": {},
     "output_type": "display_data"
    },
    {
     "data": {
      "text/html": [
       "<pre style=\"white-space:pre;overflow-x:auto;line-height:normal;font-family:Menlo,'DejaVu Sans Mono',consolas,'Courier New',monospace\"><span style=\"font-weight: bold\"> Trainable params: </span><span style=\"color: #00af00; text-decoration-color: #00af00\">537,587</span> (2.05 MB)\n",
       "</pre>\n"
      ],
      "text/plain": [
       "\u001b[1m Trainable params: \u001b[0m\u001b[38;5;34m537,587\u001b[0m (2.05 MB)\n"
      ]
     },
     "metadata": {},
     "output_type": "display_data"
    },
    {
     "data": {
      "text/html": [
       "<pre style=\"white-space:pre;overflow-x:auto;line-height:normal;font-family:Menlo,'DejaVu Sans Mono',consolas,'Courier New',monospace\"><span style=\"font-weight: bold\"> Non-trainable params: </span><span style=\"color: #00af00; text-decoration-color: #00af00\">0</span> (0.00 B)\n",
       "</pre>\n"
      ],
      "text/plain": [
       "\u001b[1m Non-trainable params: \u001b[0m\u001b[38;5;34m0\u001b[0m (0.00 B)\n"
      ]
     },
     "metadata": {},
     "output_type": "display_data"
    }
   ],
   "source": [
    "model = Sequential()\n",
    "model.add(Conv2D(filters = 16, kernel_size = 3,  padding='same', activation = 'relu', input_shape = (35,35,3)))\n",
    "model.add(MaxPooling2D(pool_size = 2))\n",
    "model.add(Conv2D(filters = 32, kernel_size = 3,  padding='same', activation = 'relu'))\n",
    "model.add(MaxPooling2D(pool_size = 2))\n",
    "model.add(Conv2D(filters = 64, kernel_size = 3,  padding='same', activation = 'relu'))\n",
    "model.add(MaxPooling2D(pool_size = 2))\n",
    "model.add(Dropout(0.3))\n",
    "model.add(Flatten())\n",
    "model.add(Dense(units = 500, activation = 'relu'))\n",
    "model.add(Dropout(0.3))\n",
    "model.add(Dense(units = 3, activation = 'softmax'))\n",
    "\n",
    "model.summary()"
   ]
  },
  {
   "cell_type": "code",
   "execution_count": 22,
   "id": "fc4b57cb-d65d-4c18-b709-aaa5fb1b2609",
   "metadata": {},
   "outputs": [
    {
     "name": "stdout",
     "output_type": "stream",
     "text": [
      "Found 3254 images belonging to 3 classes.\n",
      "Found 572 images belonging to 3 classes.\n",
      "Found 243 images belonging to 3 classes.\n"
     ]
    }
   ],
   "source": [
    "batch_size = 8\n",
    "epochs = 50\n",
    "\n",
    "datagen = ImageDataGenerator(\n",
    "    rescale=1.0 / 255, horizontal_flip=True, zoom_range=0.1, shear_range=0.2, width_shift_range=0.1,\n",
    "    height_shift_range=0.1, rotation_range=4, vertical_flip=False\n",
    "\n",
    ")\n",
    "\n",
    "val_datagen = ImageDataGenerator(\n",
    "    rescale=1.0 / 255\n",
    ")\n",
    " \n",
    "\n",
    "train_generator = datagen.flow_from_directory(\n",
    "    directory=r\"D:\\face_mask\\train\", \n",
    "    target_size=(35, 35),\n",
    "    class_mode=\"categorical\", batch_size=batch_size, shuffle=True\n",
    ")\n",
    "\n",
    "# Validation data\n",
    "val_generator = val_datagen.flow_from_directory(\n",
    "    directory=r\"D:\\face_mask\\val\", \n",
    "    target_size=(35, 35),\n",
    "    class_mode=\"categorical\", batch_size=batch_size, shuffle=True\n",
    ")\n",
    "\n",
    "# Test data\n",
    "test_generator = val_datagen.flow_from_directory(\n",
    "    directory=r\"D:\\face_mask\\test\", \n",
    "    target_size=(35, 35),\n",
    "    class_mode=\"categorical\", batch_size=batch_size, shuffle=False\n",
    ")"
   ]
  },
  {
   "cell_type": "code",
   "execution_count": 23,
   "id": "dfe1f3eb-e183-4f2b-9c1d-3ffa817fb8aa",
   "metadata": {},
   "outputs": [
    {
     "name": "stdout",
     "output_type": "stream",
     "text": [
      "steps_per_epoch: 50\n",
      "val_steps: 9\n"
     ]
    }
   ],
   "source": [
    "data_size = len(train_generator)\n",
    "\n",
    "steps_per_epoch = int(data_size / batch_size)\n",
    "print(f\"steps_per_epoch: {steps_per_epoch}\")\n",
    "\n",
    "val_steps = int(len(val_generator) // batch_size)\n",
    "print(f\"val_steps: {val_steps}\")"
   ]
  },
  {
   "cell_type": "code",
   "execution_count": 24,
   "id": "4f8fb78d-2ca4-46d9-9493-de5f2351eddb",
   "metadata": {},
   "outputs": [],
   "source": [
    "model.compile(\n",
    "    optimizer=\"adam\",\n",
    "    loss=\"categorical_crossentropy\",\n",
    "    metrics=['accuracy', 'Recall', 'Precision', 'AUC']\n",
    ")"
   ]
  },
  {
   "cell_type": "code",
   "execution_count": 25,
   "id": "6a3c587f-7d73-4b4a-835b-61005cec2174",
   "metadata": {},
   "outputs": [],
   "source": [
    "early_stopping = EarlyStopping(monitor='val_loss', patience=8, restore_best_weights=True)"
   ]
  },
  {
   "cell_type": "code",
   "execution_count": 26,
   "id": "3935eda1-9932-48fe-b34e-390824c43ae3",
   "metadata": {},
   "outputs": [],
   "source": [
    "lrr = ReduceLROnPlateau(monitor='val_loss',patience=8,verbose=1,factor=0.5, min_lr=0.00001)\n"
   ]
  },
  {
   "cell_type": "code",
   "execution_count": 27,
   "id": "2d5a28e0-84af-4463-9cc5-314c74053e88",
   "metadata": {},
   "outputs": [
    {
     "name": "stdout",
     "output_type": "stream",
     "text": [
      "Epoch 1/50\n"
     ]
    },
    {
     "name": "stderr",
     "output_type": "stream",
     "text": [
      "C:\\Users\\mrroy\\AppData\\Local\\Programs\\Python\\Python312\\Lib\\site-packages\\keras\\src\\trainers\\data_adapters\\py_dataset_adapter.py:121: UserWarning: Your `PyDataset` class should call `super().__init__(**kwargs)` in its constructor. `**kwargs` can include `workers`, `use_multiprocessing`, `max_queue_size`. Do not pass these arguments to `fit()`, as they will be ignored.\n",
      "  self._warn_if_super_not_called()\n"
     ]
    },
    {
     "name": "stdout",
     "output_type": "stream",
     "text": [
      "\u001b[1m50/50\u001b[0m \u001b[32m━━━━━━━━━━━━━━━━━━━━\u001b[0m\u001b[37m\u001b[0m \u001b[1m3s\u001b[0m 28ms/step - AUC: 0.8826 - Precision: 0.7886 - Recall: 0.6885 - accuracy: 0.7476 - loss: 0.6778 - val_AUC: 0.9324 - val_Precision: 0.7500 - val_Recall: 0.7500 - val_accuracy: 0.7500 - val_loss: 0.5342 - learning_rate: 0.0010\n",
      "Epoch 2/50\n",
      "\u001b[1m50/50\u001b[0m \u001b[32m━━━━━━━━━━━━━━━━━━━━\u001b[0m\u001b[37m\u001b[0m \u001b[1m1s\u001b[0m 17ms/step - AUC: 0.9488 - Precision: 0.8415 - Recall: 0.8319 - accuracy: 0.8414 - loss: 0.4414 - val_AUC: 0.9538 - val_Precision: 0.8714 - val_Recall: 0.8472 - val_accuracy: 0.8750 - val_loss: 0.4332 - learning_rate: 0.0010\n",
      "Epoch 3/50\n",
      "\u001b[1m50/50\u001b[0m \u001b[32m━━━━━━━━━━━━━━━━━━━━\u001b[0m\u001b[37m\u001b[0m \u001b[1m1s\u001b[0m 17ms/step - AUC: 0.9727 - Precision: 0.9116 - Recall: 0.8945 - accuracy: 0.8987 - loss: 0.3138 - val_AUC: 0.9891 - val_Precision: 0.9571 - val_Recall: 0.9306 - val_accuracy: 0.9444 - val_loss: 0.1979 - learning_rate: 0.0010\n",
      "Epoch 4/50\n",
      "\u001b[1m50/50\u001b[0m \u001b[32m━━━━━━━━━━━━━━━━━━━━\u001b[0m\u001b[37m\u001b[0m \u001b[1m1s\u001b[0m 17ms/step - AUC: 0.9746 - Precision: 0.9315 - Recall: 0.9090 - accuracy: 0.9301 - loss: 0.2879 - val_AUC: 0.9718 - val_Precision: 0.9286 - val_Recall: 0.9028 - val_accuracy: 0.9167 - val_loss: 0.3127 - learning_rate: 0.0010\n",
      "Epoch 5/50\n",
      "\u001b[1m50/50\u001b[0m \u001b[32m━━━━━━━━━━━━━━━━━━━━\u001b[0m\u001b[37m\u001b[0m \u001b[1m1s\u001b[0m 16ms/step - AUC: 0.9683 - Precision: 0.8912 - Recall: 0.8511 - accuracy: 0.8551 - loss: 0.3359 - val_AUC: 0.9853 - val_Precision: 0.9429 - val_Recall: 0.9167 - val_accuracy: 0.9444 - val_loss: 0.2286 - learning_rate: 0.0010\n",
      "Epoch 6/50\n",
      "\u001b[1m50/50\u001b[0m \u001b[32m━━━━━━━━━━━━━━━━━━━━\u001b[0m\u001b[37m\u001b[0m \u001b[1m1s\u001b[0m 16ms/step - AUC: 0.9741 - Precision: 0.9266 - Recall: 0.8913 - accuracy: 0.9149 - loss: 0.2930 - val_AUC: 0.9699 - val_Precision: 0.8611 - val_Recall: 0.8611 - val_accuracy: 0.8611 - val_loss: 0.3471 - learning_rate: 0.0010\n",
      "Epoch 7/50\n",
      "\u001b[1m50/50\u001b[0m \u001b[32m━━━━━━━━━━━━━━━━━━━━\u001b[0m\u001b[37m\u001b[0m \u001b[1m1s\u001b[0m 16ms/step - AUC: 0.9698 - Precision: 0.9306 - Recall: 0.9120 - accuracy: 0.9167 - loss: 0.3257 - val_AUC: 0.9862 - val_Precision: 0.9565 - val_Recall: 0.9167 - val_accuracy: 0.9167 - val_loss: 0.2344 - learning_rate: 0.0010\n",
      "Epoch 8/50\n",
      "\u001b[1m50/50\u001b[0m \u001b[32m━━━━━━━━━━━━━━━━━━━━\u001b[0m\u001b[37m\u001b[0m \u001b[1m1s\u001b[0m 15ms/step - AUC: 0.9774 - Precision: 0.9337 - Recall: 0.9111 - accuracy: 0.9227 - loss: 0.2619 - val_AUC: 0.9946 - val_Precision: 0.9583 - val_Recall: 0.9583 - val_accuracy: 0.9583 - val_loss: 0.1664 - learning_rate: 0.0010\n",
      "Epoch 9/50\n",
      "\u001b[1m50/50\u001b[0m \u001b[32m━━━━━━━━━━━━━━━━━━━━\u001b[0m\u001b[37m\u001b[0m \u001b[1m0s\u001b[0m 4ms/step - AUC: 0.9763 - Precision: 0.9075 - Recall: 0.8858 - accuracy: 0.9094 - loss: 0.2991 - val_AUC: 0.9892 - val_Precision: 0.9028 - val_Recall: 0.9028 - val_accuracy: 0.9028 - val_loss: 0.2313 - learning_rate: 0.0010\n",
      "Epoch 10/50\n"
     ]
    },
    {
     "name": "stderr",
     "output_type": "stream",
     "text": [
      "C:\\Users\\mrroy\\AppData\\Local\\Programs\\Python\\Python312\\Lib\\site-packages\\keras\\src\\trainers\\epoch_iterator.py:107: UserWarning: Your input ran out of data; interrupting training. Make sure that your dataset or generator can generate at least `steps_per_epoch * epochs` batches. You may need to use the `.repeat()` function when building your dataset.\n",
      "  self._interrupted_warning()\n"
     ]
    },
    {
     "name": "stdout",
     "output_type": "stream",
     "text": [
      "\u001b[1m50/50\u001b[0m \u001b[32m━━━━━━━━━━━━━━━━━━━━\u001b[0m\u001b[37m\u001b[0m \u001b[1m1s\u001b[0m 18ms/step - AUC: 0.9759 - Precision: 0.9280 - Recall: 0.9192 - accuracy: 0.9211 - loss: 0.2685 - val_AUC: 0.9848 - val_Precision: 0.9155 - val_Recall: 0.9028 - val_accuracy: 0.9167 - val_loss: 0.2246 - learning_rate: 0.0010\n",
      "Epoch 11/50\n",
      "\u001b[1m50/50\u001b[0m \u001b[32m━━━━━━━━━━━━━━━━━━━━\u001b[0m\u001b[37m\u001b[0m \u001b[1m1s\u001b[0m 18ms/step - AUC: 0.9773 - Precision: 0.9243 - Recall: 0.9171 - accuracy: 0.9205 - loss: 0.2609 - val_AUC: 0.9831 - val_Precision: 0.9306 - val_Recall: 0.9306 - val_accuracy: 0.9306 - val_loss: 0.2090 - learning_rate: 0.0010\n",
      "Epoch 12/50\n",
      "\u001b[1m50/50\u001b[0m \u001b[32m━━━━━━━━━━━━━━━━━━━━\u001b[0m\u001b[37m\u001b[0m \u001b[1m1s\u001b[0m 16ms/step - AUC: 0.9867 - Precision: 0.9588 - Recall: 0.9560 - accuracy: 0.9589 - loss: 0.1856 - val_AUC: 0.9743 - val_Precision: 0.9296 - val_Recall: 0.9167 - val_accuracy: 0.9306 - val_loss: 0.2715 - learning_rate: 0.0010\n",
      "Epoch 13/50\n",
      "\u001b[1m50/50\u001b[0m \u001b[32m━━━━━━━━━━━━━━━━━━━━\u001b[0m\u001b[37m\u001b[0m \u001b[1m1s\u001b[0m 17ms/step - AUC: 0.9670 - Precision: 0.9291 - Recall: 0.9117 - accuracy: 0.9236 - loss: 0.3063 - val_AUC: 0.9806 - val_Precision: 0.9028 - val_Recall: 0.9028 - val_accuracy: 0.9028 - val_loss: 0.3012 - learning_rate: 0.0010\n",
      "Epoch 14/50\n",
      "\u001b[1m50/50\u001b[0m \u001b[32m━━━━━━━━━━━━━━━━━━━━\u001b[0m\u001b[37m\u001b[0m \u001b[1m1s\u001b[0m 16ms/step - AUC: 0.9833 - Precision: 0.9510 - Recall: 0.9410 - accuracy: 0.9445 - loss: 0.1998 - val_AUC: 0.9686 - val_Precision: 0.9014 - val_Recall: 0.8889 - val_accuracy: 0.8889 - val_loss: 0.3937 - learning_rate: 0.0010\n",
      "Epoch 15/50\n",
      "\u001b[1m50/50\u001b[0m \u001b[32m━━━━━━━━━━━━━━━━━━━━\u001b[0m\u001b[37m\u001b[0m \u001b[1m1s\u001b[0m 15ms/step - AUC: 0.9838 - Precision: 0.9376 - Recall: 0.9265 - accuracy: 0.9318 - loss: 0.2252 - val_AUC: 0.9696 - val_Precision: 0.9028 - val_Recall: 0.9028 - val_accuracy: 0.9028 - val_loss: 0.3506 - learning_rate: 0.0010\n",
      "Epoch 16/50\n",
      "\u001b[1m50/50\u001b[0m \u001b[32m━━━━━━━━━━━━━━━━━━━━\u001b[0m\u001b[37m\u001b[0m \u001b[1m1s\u001b[0m 15ms/step - AUC: 0.9809 - Precision: 0.9251 - Recall: 0.9233 - accuracy: 0.9239 - loss: 0.2426 - val_AUC: 0.9939 - val_Precision: 0.9583 - val_Recall: 0.9583 - val_accuracy: 0.9583 - val_loss: 0.1423 - learning_rate: 0.0010\n",
      "Epoch 17/50\n",
      "\u001b[1m50/50\u001b[0m \u001b[32m━━━━━━━━━━━━━━━━━━━━\u001b[0m\u001b[37m\u001b[0m \u001b[1m1s\u001b[0m 16ms/step - AUC: 0.9725 - Precision: 0.9424 - Recall: 0.9341 - accuracy: 0.9393 - loss: 0.2881 - val_AUC: 0.9893 - val_Precision: 0.9444 - val_Recall: 0.9444 - val_accuracy: 0.9444 - val_loss: 0.1914 - learning_rate: 0.0010\n",
      "Epoch 18/50\n",
      "\u001b[1m50/50\u001b[0m \u001b[32m━━━━━━━━━━━━━━━━━━━━\u001b[0m\u001b[37m\u001b[0m \u001b[1m0s\u001b[0m 4ms/step - AUC: 0.9848 - Precision: 0.8842 - Recall: 0.8682 - accuracy: 0.8682 - loss: 0.2665 - val_AUC: 0.9822 - val_Precision: 0.9437 - val_Recall: 0.9306 - val_accuracy: 0.9306 - val_loss: 0.2442 - learning_rate: 0.0010\n",
      "Epoch 19/50\n",
      "\u001b[1m50/50\u001b[0m \u001b[32m━━━━━━━━━━━━━━━━━━━━\u001b[0m\u001b[37m\u001b[0m \u001b[1m1s\u001b[0m 17ms/step - AUC: 0.9813 - Precision: 0.9265 - Recall: 0.9171 - accuracy: 0.9247 - loss: 0.2493 - val_AUC: 0.9844 - val_Precision: 0.9155 - val_Recall: 0.9028 - val_accuracy: 0.9028 - val_loss: 0.2503 - learning_rate: 0.0010\n",
      "Epoch 20/50\n",
      "\u001b[1m50/50\u001b[0m \u001b[32m━━━━━━━━━━━━━━━━━━━━\u001b[0m\u001b[37m\u001b[0m \u001b[1m1s\u001b[0m 16ms/step - AUC: 0.9826 - Precision: 0.9412 - Recall: 0.9165 - accuracy: 0.9219 - loss: 0.2463 - val_AUC: 0.9839 - val_Precision: 0.9583 - val_Recall: 0.9583 - val_accuracy: 0.9583 - val_loss: 0.1945 - learning_rate: 0.0010\n",
      "Epoch 21/50\n",
      "\u001b[1m50/50\u001b[0m \u001b[32m━━━━━━━━━━━━━━━━━━━━\u001b[0m\u001b[37m\u001b[0m \u001b[1m1s\u001b[0m 16ms/step - AUC: 0.9699 - Precision: 0.9122 - Recall: 0.9081 - accuracy: 0.9099 - loss: 0.2955 - val_AUC: 0.9939 - val_Precision: 0.9722 - val_Recall: 0.9722 - val_accuracy: 0.9722 - val_loss: 0.1366 - learning_rate: 0.0010\n",
      "Epoch 22/50\n",
      "\u001b[1m50/50\u001b[0m \u001b[32m━━━━━━━━━━━━━━━━━━━━\u001b[0m\u001b[37m\u001b[0m \u001b[1m1s\u001b[0m 16ms/step - AUC: 0.9924 - Precision: 0.9590 - Recall: 0.9565 - accuracy: 0.9568 - loss: 0.1449 - val_AUC: 0.9878 - val_Precision: 0.9437 - val_Recall: 0.9306 - val_accuracy: 0.9444 - val_loss: 0.2026 - learning_rate: 0.0010\n",
      "Epoch 23/50\n",
      "\u001b[1m50/50\u001b[0m \u001b[32m━━━━━━━━━━━━━━━━━━━━\u001b[0m\u001b[37m\u001b[0m \u001b[1m1s\u001b[0m 15ms/step - AUC: 0.9802 - Precision: 0.9552 - Recall: 0.9414 - accuracy: 0.9544 - loss: 0.2293 - val_AUC: 0.9801 - val_Precision: 0.9306 - val_Recall: 0.9306 - val_accuracy: 0.9306 - val_loss: 0.2709 - learning_rate: 0.0010\n",
      "Epoch 24/50\n",
      "\u001b[1m50/50\u001b[0m \u001b[32m━━━━━━━━━━━━━━━━━━━━\u001b[0m\u001b[37m\u001b[0m \u001b[1m1s\u001b[0m 15ms/step - AUC: 0.9874 - Precision: 0.9495 - Recall: 0.9331 - accuracy: 0.9391 - loss: 0.2188 - val_AUC: 0.9934 - val_Precision: 0.9583 - val_Recall: 0.9583 - val_accuracy: 0.9583 - val_loss: 0.1452 - learning_rate: 0.0010\n",
      "Epoch 25/50\n",
      "\u001b[1m50/50\u001b[0m \u001b[32m━━━━━━━━━━━━━━━━━━━━\u001b[0m\u001b[37m\u001b[0m \u001b[1m1s\u001b[0m 15ms/step - AUC: 0.9854 - Precision: 0.9488 - Recall: 0.9226 - accuracy: 0.9251 - loss: 0.2139 - val_AUC: 0.9907 - val_Precision: 0.9444 - val_Recall: 0.9444 - val_accuracy: 0.9444 - val_loss: 0.1783 - learning_rate: 0.0010\n",
      "Epoch 26/50\n",
      "\u001b[1m50/50\u001b[0m \u001b[32m━━━━━━━━━━━━━━━━━━━━\u001b[0m\u001b[37m\u001b[0m \u001b[1m1s\u001b[0m 15ms/step - AUC: 0.9804 - Precision: 0.9310 - Recall: 0.9292 - accuracy: 0.9297 - loss: 0.2467 - val_AUC: 0.9916 - val_Precision: 0.9722 - val_Recall: 0.9722 - val_accuracy: 0.9722 - val_loss: 0.1452 - learning_rate: 0.0010\n",
      "Epoch 27/50\n",
      "\u001b[1m50/50\u001b[0m \u001b[32m━━━━━━━━━━━━━━━━━━━━\u001b[0m\u001b[37m\u001b[0m \u001b[1m0s\u001b[0m 4ms/step - AUC: 0.9773 - Precision: 0.9142 - Recall: 0.8939 - accuracy: 0.8939 - loss: 0.2881 - val_AUC: 0.9934 - val_Precision: 0.9583 - val_Recall: 0.9583 - val_accuracy: 0.9583 - val_loss: 0.1527 - learning_rate: 0.0010\n",
      "Epoch 28/50\n",
      "\u001b[1m50/50\u001b[0m \u001b[32m━━━━━━━━━━━━━━━━━━━━\u001b[0m\u001b[37m\u001b[0m \u001b[1m1s\u001b[0m 17ms/step - AUC: 0.9868 - Precision: 0.9559 - Recall: 0.9379 - accuracy: 0.9424 - loss: 0.1978 - val_AUC: 0.9938 - val_Precision: 0.9722 - val_Recall: 0.9722 - val_accuracy: 0.9722 - val_loss: 0.1246 - learning_rate: 0.0010\n",
      "Epoch 29/50\n",
      "\u001b[1m50/50\u001b[0m \u001b[32m━━━━━━━━━━━━━━━━━━━━\u001b[0m\u001b[37m\u001b[0m \u001b[1m1s\u001b[0m 17ms/step - AUC: 0.9901 - Precision: 0.9444 - Recall: 0.9415 - accuracy: 0.9419 - loss: 0.1756 - val_AUC: 0.9965 - val_Precision: 0.9714 - val_Recall: 0.9444 - val_accuracy: 0.9722 - val_loss: 0.1467 - learning_rate: 0.0010\n",
      "Epoch 30/50\n",
      "\u001b[1m50/50\u001b[0m \u001b[32m━━━━━━━━━━━━━━━━━━━━\u001b[0m\u001b[37m\u001b[0m \u001b[1m1s\u001b[0m 17ms/step - AUC: 0.9853 - Precision: 0.9350 - Recall: 0.9131 - accuracy: 0.9303 - loss: 0.2365 - val_AUC: 0.9883 - val_Precision: 0.9577 - val_Recall: 0.9444 - val_accuracy: 0.9444 - val_loss: 0.1962 - learning_rate: 0.0010\n",
      "Epoch 31/50\n",
      "\u001b[1m50/50\u001b[0m \u001b[32m━━━━━━━━━━━━━━━━━━━━\u001b[0m\u001b[37m\u001b[0m \u001b[1m1s\u001b[0m 17ms/step - AUC: 0.9870 - Precision: 0.9396 - Recall: 0.9300 - accuracy: 0.9369 - loss: 0.1997 - val_AUC: 0.9937 - val_Precision: 0.9710 - val_Recall: 0.9306 - val_accuracy: 0.9444 - val_loss: 0.1762 - learning_rate: 0.0010\n",
      "Epoch 32/50\n",
      "\u001b[1m50/50\u001b[0m \u001b[32m━━━━━━━━━━━━━━━━━━━━\u001b[0m\u001b[37m\u001b[0m \u001b[1m1s\u001b[0m 16ms/step - AUC: 0.9894 - Precision: 0.9473 - Recall: 0.9288 - accuracy: 0.9292 - loss: 0.1910 - val_AUC: 0.9887 - val_Precision: 0.9437 - val_Recall: 0.9306 - val_accuracy: 0.9306 - val_loss: 0.2118 - learning_rate: 0.0010\n",
      "Epoch 33/50\n",
      "\u001b[1m50/50\u001b[0m \u001b[32m━━━━━━━━━━━━━━━━━━━━\u001b[0m\u001b[37m\u001b[0m \u001b[1m1s\u001b[0m 16ms/step - AUC: 0.9763 - Precision: 0.9311 - Recall: 0.9133 - accuracy: 0.9200 - loss: 0.2818 - val_AUC: 0.9981 - val_Precision: 0.9859 - val_Recall: 0.9722 - val_accuracy: 0.9722 - val_loss: 0.1057 - learning_rate: 0.0010\n",
      "Epoch 34/50\n",
      "\u001b[1m50/50\u001b[0m \u001b[32m━━━━━━━━━━━━━━━━━━━━\u001b[0m\u001b[37m\u001b[0m \u001b[1m1s\u001b[0m 15ms/step - AUC: 0.9841 - Precision: 0.9230 - Recall: 0.9050 - accuracy: 0.9093 - loss: 0.2429 - val_AUC: 0.9938 - val_Precision: 0.9577 - val_Recall: 0.9444 - val_accuracy: 0.9444 - val_loss: 0.1396 - learning_rate: 0.0010\n",
      "Epoch 35/50\n",
      "\u001b[1m50/50\u001b[0m \u001b[32m━━━━━━━━━━━━━━━━━━━━\u001b[0m\u001b[37m\u001b[0m \u001b[1m1s\u001b[0m 15ms/step - AUC: 0.9876 - Precision: 0.9569 - Recall: 0.9514 - accuracy: 0.9548 - loss: 0.1903 - val_AUC: 0.9733 - val_Precision: 0.9444 - val_Recall: 0.9444 - val_accuracy: 0.9444 - val_loss: 0.2471 - learning_rate: 0.0010\n",
      "Epoch 36/50\n",
      "\u001b[1m50/50\u001b[0m \u001b[32m━━━━━━━━━━━━━━━━━━━━\u001b[0m\u001b[37m\u001b[0m \u001b[1m0s\u001b[0m 3ms/step - AUC: 0.9942 - Precision: 0.9496 - Recall: 0.9496 - accuracy: 0.9496 - loss: 0.1376 - val_AUC: 0.9843 - val_Precision: 0.9722 - val_Recall: 0.9722 - val_accuracy: 0.9722 - val_loss: 0.1587 - learning_rate: 0.0010\n",
      "Epoch 37/50\n",
      "\u001b[1m50/50\u001b[0m \u001b[32m━━━━━━━━━━━━━━━━━━━━\u001b[0m\u001b[37m\u001b[0m \u001b[1m1s\u001b[0m 16ms/step - AUC: 0.9892 - Precision: 0.9564 - Recall: 0.9491 - accuracy: 0.9544 - loss: 0.1721 - val_AUC: 0.9951 - val_Precision: 0.9583 - val_Recall: 0.9583 - val_accuracy: 0.9583 - val_loss: 0.1224 - learning_rate: 0.0010\n",
      "Epoch 38/50\n",
      "\u001b[1m50/50\u001b[0m \u001b[32m━━━━━━━━━━━━━━━━━━━━\u001b[0m\u001b[37m\u001b[0m \u001b[1m1s\u001b[0m 18ms/step - AUC: 0.9802 - Precision: 0.9238 - Recall: 0.9132 - accuracy: 0.9192 - loss: 0.2587 - val_AUC: 0.9838 - val_Precision: 0.9306 - val_Recall: 0.9306 - val_accuracy: 0.9306 - val_loss: 0.2204 - learning_rate: 0.0010\n",
      "Epoch 39/50\n",
      "\u001b[1m50/50\u001b[0m \u001b[32m━━━━━━━━━━━━━━━━━━━━\u001b[0m\u001b[37m\u001b[0m \u001b[1m1s\u001b[0m 18ms/step - AUC: 0.9889 - Precision: 0.9489 - Recall: 0.9212 - accuracy: 0.9353 - loss: 0.2038 - val_AUC: 0.9901 - val_Precision: 0.9583 - val_Recall: 0.9583 - val_accuracy: 0.9583 - val_loss: 0.1597 - learning_rate: 0.0010\n",
      "Epoch 40/50\n",
      "\u001b[1m50/50\u001b[0m \u001b[32m━━━━━━━━━━━━━━━━━━━━\u001b[0m\u001b[37m\u001b[0m \u001b[1m1s\u001b[0m 17ms/step - AUC: 0.9929 - Precision: 0.9544 - Recall: 0.9543 - accuracy: 0.9544 - loss: 0.1501 - val_AUC: 0.9920 - val_Precision: 0.9444 - val_Recall: 0.9444 - val_accuracy: 0.9444 - val_loss: 0.1891 - learning_rate: 0.0010\n",
      "Epoch 41/50\n",
      "\n",
      "Epoch 41: ReduceLROnPlateau reducing learning rate to 0.0005000000237487257.\n",
      "\u001b[1m50/50\u001b[0m \u001b[32m━━━━━━━━━━━━━━━━━━━━\u001b[0m\u001b[37m\u001b[0m \u001b[1m1s\u001b[0m 16ms/step - AUC: 0.9874 - Precision: 0.9523 - Recall: 0.9448 - accuracy: 0.9513 - loss: 0.1866 - val_AUC: 0.9878 - val_Precision: 0.9437 - val_Recall: 0.9306 - val_accuracy: 0.9306 - val_loss: 0.2089 - learning_rate: 0.0010\n"
     ]
    }
   ],
   "source": [
    "model_history = model.fit(\n",
    "    x=train_generator,\n",
    "    steps_per_epoch=steps_per_epoch,\n",
    "    epochs=epochs,\n",
    "    shuffle=True,\n",
    "    validation_data=val_generator,\n",
    "    validation_steps=val_steps,\n",
    "    callbacks=[early_stopping, lrr]\n",
    ")\n"
   ]
  },
  {
   "cell_type": "code",
   "execution_count": 28,
   "id": "dc8496b7-c74c-4669-9703-d7712ed57bf9",
   "metadata": {},
   "outputs": [
    {
     "name": "stdout",
     "output_type": "stream",
     "text": [
      "\u001b[1m31/31\u001b[0m \u001b[32m━━━━━━━━━━━━━━━━━━━━\u001b[0m\u001b[37m\u001b[0m \u001b[1m0s\u001b[0m 8ms/step - AUC: 0.9706 - Precision: 0.8568 - Recall: 0.8493 - accuracy: 0.8580 - loss: 0.3075 \n",
      "0.1833595186471939 || 93.41563582420349 || 93.00411343574524 || 93.388432264328 || 99.03512597084045\n"
     ]
    }
   ],
   "source": [
    "model_loss, model_acc, recall, precision, auc = model.evaluate(test_generator)\n",
    "print(f'{model_loss} || {model_acc*100} || {recall*100} || {precision*100} || {auc*100}')"
   ]
  },
  {
   "cell_type": "code",
   "execution_count": 29,
   "id": "e90e6db3-f37d-4d79-a05d-42c96ed5d02f",
   "metadata": {},
   "outputs": [
    {
     "name": "stdout",
     "output_type": "stream",
     "text": [
      "\u001b[1m31/31\u001b[0m \u001b[32m━━━━━━━━━━━━━━━━━━━━\u001b[0m\u001b[37m\u001b[0m \u001b[1m0s\u001b[0m 9ms/step  \n"
     ]
    },
    {
     "data": {
      "text/plain": [
       "array([[2.70360470e-01, 7.29200125e-01, 4.39443189e-04],\n",
       "       [5.97151108e-02, 9.09915447e-01, 3.03693824e-02],\n",
       "       [1.69511527e-01, 8.10678303e-01, 1.98101848e-02],\n",
       "       [1.58892080e-01, 8.39127660e-01, 1.98024744e-03],\n",
       "       [2.74880946e-01, 7.22086489e-01, 3.03256139e-03],\n",
       "       [4.87067431e-01, 5.05506158e-01, 7.42642768e-03],\n",
       "       [4.59048189e-02, 9.06950891e-01, 4.71443497e-02],\n",
       "       [6.83989783e-04, 9.99315977e-01, 7.72659732e-08],\n",
       "       [2.26050653e-02, 9.76868033e-01, 5.26906573e-04],\n",
       "       [1.31462060e-03, 9.98573303e-01, 1.12056841e-04],\n",
       "       [8.73711333e-03, 9.90509033e-01, 7.53824832e-04],\n",
       "       [1.90990439e-04, 9.99808848e-01, 2.35592495e-07],\n",
       "       [1.09425886e-03, 9.98889148e-01, 1.65756865e-05],\n",
       "       [2.27321405e-03, 9.97724473e-01, 2.36181040e-06],\n",
       "       [1.03654759e-02, 9.89027262e-01, 6.07253052e-04],\n",
       "       [7.46193182e-05, 9.99925375e-01, 4.41549695e-08],\n",
       "       [2.55510695e-02, 9.52852249e-01, 2.15967577e-02],\n",
       "       [1.01042101e-02, 9.88438904e-01, 1.45694253e-03],\n",
       "       [5.59719978e-03, 9.94213521e-01, 1.89258208e-04],\n",
       "       [3.87640186e-02, 9.58834589e-01, 2.40138453e-03],\n",
       "       [2.27251486e-03, 9.97725904e-01, 1.63791003e-06],\n",
       "       [4.27299133e-03, 9.95414734e-01, 3.12307093e-04],\n",
       "       [9.60318896e-04, 9.98993337e-01, 4.63677388e-05],\n",
       "       [1.80731970e-03, 9.98192489e-01, 2.30096262e-07],\n",
       "       [1.85306184e-02, 9.80083942e-01, 1.38540275e-03],\n",
       "       [3.48712131e-03, 9.96399999e-01, 1.12879556e-04],\n",
       "       [3.02531887e-02, 3.21147144e-02, 9.37632084e-01],\n",
       "       [4.20345226e-03, 9.95750308e-01, 4.62225944e-05],\n",
       "       [5.17583612e-05, 9.99948144e-01, 8.01170472e-08],\n",
       "       [7.96991810e-02, 4.64389592e-01, 4.55911249e-01],\n",
       "       [1.32605731e-01, 8.32262218e-01, 3.51320840e-02],\n",
       "       [8.30115527e-02, 9.06885564e-01, 1.01028942e-02],\n",
       "       [2.67836303e-01, 7.11353362e-01, 2.08103620e-02],\n",
       "       [6.18288759e-05, 9.99938130e-01, 1.06408740e-08],\n",
       "       [3.28929443e-03, 9.96489823e-01, 2.20812872e-04],\n",
       "       [1.44567853e-02, 8.19144487e-01, 1.66398764e-01],\n",
       "       [1.24353711e-02, 9.85321701e-01, 2.24300497e-03],\n",
       "       [5.07714637e-02, 8.29199731e-01, 1.20028846e-01],\n",
       "       [1.91795139e-03, 9.98068511e-01, 1.35501432e-05],\n",
       "       [1.62677316e-04, 9.99837279e-01, 2.61974922e-08],\n",
       "       [2.96671130e-02, 9.58831310e-01, 1.15015982e-02],\n",
       "       [1.80387450e-03, 9.98195589e-01, 5.05949060e-07],\n",
       "       [5.74707286e-03, 9.92250621e-01, 2.00226251e-03],\n",
       "       [1.27009442e-02, 9.79583800e-01, 7.71521777e-03],\n",
       "       [2.23494577e-03, 9.97625053e-01, 1.40043514e-04],\n",
       "       [2.33085034e-03, 9.97612953e-01, 5.61602646e-05],\n",
       "       [2.46853650e-01, 7.43471503e-01, 9.67493746e-03],\n",
       "       [4.77966629e-02, 9.50825214e-01, 1.37807394e-03],\n",
       "       [1.87599082e-02, 9.78965640e-01, 2.27441289e-03],\n",
       "       [1.91522282e-04, 9.99806821e-01, 1.67327391e-06],\n",
       "       [1.08479029e-02, 9.88691092e-01, 4.61025280e-04],\n",
       "       [8.44031759e-03, 9.90646720e-01, 9.12978547e-04],\n",
       "       [1.51755696e-03, 9.98432934e-01, 4.95038912e-05],\n",
       "       [8.58471729e-03, 9.91164207e-01, 2.51105404e-04],\n",
       "       [9.79431197e-02, 6.71475351e-01, 2.30581537e-01],\n",
       "       [4.19864245e-02, 9.56483960e-01, 1.52967952e-03],\n",
       "       [1.52753049e-03, 9.98427033e-01, 4.54453912e-05],\n",
       "       [4.58425619e-02, 9.11241949e-01, 4.29155231e-02],\n",
       "       [2.42383545e-03, 9.97546494e-01, 2.96879534e-05],\n",
       "       [5.33646196e-02, 3.47699642e-01, 5.98935783e-01],\n",
       "       [1.81594752e-02, 9.79500949e-01, 2.33953889e-03],\n",
       "       [1.59380678e-02, 9.52555537e-01, 3.15063484e-02],\n",
       "       [4.41962341e-03, 9.95339155e-01, 2.41154441e-04],\n",
       "       [1.20154507e-02, 9.86948371e-01, 1.03615271e-03],\n",
       "       [2.56022122e-02, 9.72888231e-01, 1.50955271e-03],\n",
       "       [1.05928238e-02, 9.89315510e-01, 9.16824283e-05],\n",
       "       [1.13309715e-02, 9.87932146e-01, 7.36920279e-04],\n",
       "       [7.62772039e-02, 2.28895485e-01, 6.94827259e-01],\n",
       "       [8.08037911e-03, 9.91738260e-01, 1.81354320e-04],\n",
       "       [2.14565150e-03, 9.97764111e-01, 9.01925014e-05],\n",
       "       [2.44665716e-04, 9.99754727e-01, 5.69178610e-07],\n",
       "       [3.85339744e-03, 9.95842159e-01, 3.04379995e-04],\n",
       "       [1.17224641e-02, 9.88140106e-01, 1.37402021e-04],\n",
       "       [4.69393423e-03, 9.94582474e-01, 7.23602134e-04],\n",
       "       [8.19632486e-02, 5.76952934e-01, 3.41083854e-01],\n",
       "       [3.78797849e-05, 9.99962091e-01, 1.16823129e-08],\n",
       "       [2.45980598e-04, 9.99754012e-01, 6.20752019e-08],\n",
       "       [1.22152490e-03, 9.98756766e-01, 2.17587822e-05],\n",
       "       [4.05896455e-02, 2.88016528e-01, 6.71393812e-01],\n",
       "       [8.79785453e-04, 9.99075770e-01, 4.43689532e-05],\n",
       "       [2.46920120e-02, 9.72263753e-01, 3.04425810e-03],\n",
       "       [5.54836076e-03, 9.94073570e-01, 3.78052617e-04],\n",
       "       [1.35647180e-03, 9.98578906e-01, 6.45772670e-05],\n",
       "       [5.50921215e-03, 9.94396567e-01, 9.42809929e-05],\n",
       "       [4.79909359e-03, 9.94741559e-01, 4.59287869e-04],\n",
       "       [4.59244242e-03, 9.94309545e-01, 1.09796203e-03],\n",
       "       [5.37859229e-03, 9.94361877e-01, 2.59506225e-04],\n",
       "       [2.83241970e-03, 9.97145355e-01, 2.21714563e-05],\n",
       "       [1.04011607e-03, 9.98937309e-01, 2.25984804e-05],\n",
       "       [4.55597509e-03, 9.95425999e-01, 1.81078358e-05],\n",
       "       [7.24675581e-02, 6.78562582e-01, 2.48969808e-01],\n",
       "       [1.07632307e-02, 9.87217367e-01, 2.01937649e-03],\n",
       "       [6.45235367e-03, 9.92215455e-01, 1.33215997e-03],\n",
       "       [1.17400559e-05, 9.99988317e-01, 5.70782976e-10],\n",
       "       [9.35070799e-04, 9.99058664e-01, 6.28137241e-06],\n",
       "       [3.35337073e-02, 9.47051823e-01, 1.94144268e-02],\n",
       "       [7.13201985e-02, 8.88934314e-01, 3.97455283e-02],\n",
       "       [8.92666727e-02, 8.21520150e-01, 8.92131850e-02],\n",
       "       [7.24142417e-02, 7.55201101e-01, 1.72384679e-01],\n",
       "       [3.27827329e-05, 9.99967217e-01, 5.02148154e-08],\n",
       "       [6.20154478e-03, 9.93786573e-01, 1.18636781e-05],\n",
       "       [1.60017714e-03, 9.98303175e-01, 9.65930740e-05],\n",
       "       [1.52506900e-03, 9.98461723e-01, 1.31735787e-05],\n",
       "       [5.80467004e-03, 9.93575871e-01, 6.19488128e-04],\n",
       "       [6.46811537e-03, 9.89331603e-01, 4.20022383e-03],\n",
       "       [6.37101242e-03, 9.92892861e-01, 7.36202463e-04],\n",
       "       [9.47856810e-03, 9.89608705e-01, 9.12761549e-04],\n",
       "       [7.05367886e-03, 9.92144644e-01, 8.01685499e-04],\n",
       "       [1.87418973e-05, 9.99981284e-01, 5.09791154e-10],\n",
       "       [9.50156525e-03, 9.83331442e-01, 7.16693420e-03],\n",
       "       [8.26194976e-03, 9.85501885e-01, 6.23612013e-03],\n",
       "       [9.50218830e-03, 9.89018798e-01, 1.47901825e-03],\n",
       "       [4.29721922e-03, 9.95307505e-01, 3.95324139e-04],\n",
       "       [7.84018170e-03, 9.91461515e-01, 6.98328135e-04],\n",
       "       [2.27542361e-03, 9.97702777e-01, 2.18132755e-05],\n",
       "       [4.25397884e-03, 9.95737553e-01, 8.50689048e-06],\n",
       "       [1.69129837e-02, 9.71893132e-01, 1.11938333e-02],\n",
       "       [4.01203940e-03, 9.95942652e-01, 4.52764907e-05],\n",
       "       [1.34552205e-02, 9.77077961e-01, 9.46687255e-03],\n",
       "       [6.13912009e-03, 9.93350327e-01, 5.10518905e-04],\n",
       "       [3.60139384e-05, 9.99963880e-01, 1.32380777e-07],\n",
       "       [2.09002160e-02, 9.76249814e-01, 2.84994184e-03],\n",
       "       [2.76138564e-03, 9.96925771e-01, 3.12790391e-04],\n",
       "       [1.43704878e-04, 9.99855995e-01, 2.47808771e-07],\n",
       "       [3.72764654e-04, 9.99626994e-01, 2.40715082e-07],\n",
       "       [4.72210784e-04, 9.99511600e-01, 1.61376829e-05],\n",
       "       [2.33494770e-02, 7.58155406e-01, 2.18495145e-01],\n",
       "       [3.45264329e-03, 9.96298254e-01, 2.49144738e-04],\n",
       "       [2.72102101e-04, 9.99727547e-01, 3.85413415e-07],\n",
       "       [3.73471603e-02, 8.89381886e-01, 7.32709616e-02],\n",
       "       [1.43323292e-03, 9.98538375e-01, 2.83939808e-05],\n",
       "       [1.13029487e-03, 9.98823583e-01, 4.61140735e-05],\n",
       "       [1.69544052e-02, 9.81456876e-01, 1.58873980e-03],\n",
       "       [1.98240508e-04, 9.99801695e-01, 9.07232618e-08],\n",
       "       [4.12523688e-04, 9.99568880e-01, 1.86151465e-05],\n",
       "       [9.79390461e-04, 9.99016881e-01, 3.75713080e-06],\n",
       "       [1.25407092e-02, 9.83962297e-01, 3.49700428e-03],\n",
       "       [4.03399579e-03, 9.95338559e-01, 6.27385569e-04],\n",
       "       [1.98804457e-02, 9.77200568e-01, 2.91900849e-03],\n",
       "       [1.87962614e-02, 9.59021688e-01, 2.21819747e-02],\n",
       "       [2.33664606e-02, 9.38353300e-01, 3.82803231e-02],\n",
       "       [1.25616043e-05, 9.99987364e-01, 4.63023930e-08],\n",
       "       [1.49492659e-02, 9.82718289e-01, 2.33242009e-03],\n",
       "       [5.59741519e-02, 8.94129455e-01, 4.98964079e-02],\n",
       "       [2.22374545e-03, 9.97402370e-01, 3.73892341e-04],\n",
       "       [5.89060830e-04, 9.99409080e-01, 1.82743599e-06],\n",
       "       [1.18636647e-02, 9.87971485e-01, 1.64845187e-04],\n",
       "       [1.21712396e-02, 9.86445606e-01, 1.38320227e-03],\n",
       "       [2.66892705e-02, 9.72649157e-01, 6.61517435e-04],\n",
       "       [4.29125037e-04, 9.99570072e-01, 8.40925452e-07],\n",
       "       [3.43856923e-02, 6.82119057e-02, 8.97402406e-01],\n",
       "       [9.33565386e-03, 9.89845276e-01, 8.19025969e-04],\n",
       "       [5.83705530e-02, 7.63337672e-01, 1.78291798e-01],\n",
       "       [5.73032396e-03, 9.94173586e-01, 9.60541729e-05],\n",
       "       [8.01212664e-05, 9.99919295e-01, 6.18512445e-07],\n",
       "       [1.52899337e-03, 9.98265803e-01, 2.05257282e-04],\n",
       "       [7.50923587e-04, 9.99218345e-01, 3.07625196e-05],\n",
       "       [7.05075497e-03, 9.92395163e-01, 5.54141472e-04],\n",
       "       [5.86840510e-03, 9.93875444e-01, 2.56137486e-04],\n",
       "       [2.86994092e-02, 9.53796089e-01, 1.75044630e-02],\n",
       "       [1.78237809e-04, 9.99821603e-01, 1.78395865e-07],\n",
       "       [3.79488803e-02, 8.76839280e-01, 8.52118507e-02],\n",
       "       [9.60831123e-04, 9.99038696e-01, 4.82218297e-07],\n",
       "       [1.41745282e-03, 9.98582244e-01, 3.68736181e-07],\n",
       "       [1.69687642e-04, 9.99830008e-01, 2.26783314e-07],\n",
       "       [2.98104621e-02, 9.69994426e-01, 1.95122062e-04],\n",
       "       [3.58833163e-03, 9.96288419e-01, 1.23234204e-04],\n",
       "       [1.50667569e-02, 9.83782053e-01, 1.15124229e-03],\n",
       "       [2.09196747e-04, 9.99790609e-01, 2.01456217e-07],\n",
       "       [3.65731066e-05, 9.99963403e-01, 7.71801378e-09],\n",
       "       [3.37804842e-04, 9.99661684e-01, 4.84415864e-07],\n",
       "       [5.48403477e-05, 9.99945045e-01, 1.08347777e-07],\n",
       "       [2.14708084e-03, 9.97740149e-01, 1.12804155e-04],\n",
       "       [3.13987434e-02, 9.67232168e-01, 1.36908551e-03],\n",
       "       [9.68526825e-02, 2.85812557e-01, 6.17334723e-01],\n",
       "       [4.27529663e-02, 1.69685170e-01, 7.87561834e-01],\n",
       "       [9.17153258e-04, 9.99078274e-01, 4.55793815e-06],\n",
       "       [7.96726532e-03, 9.91747499e-01, 2.85253685e-04],\n",
       "       [3.01331580e-02, 9.66807306e-01, 3.05949943e-03],\n",
       "       [5.22344699e-03, 9.93498921e-01, 1.27762952e-03],\n",
       "       [2.88189165e-02, 9.54980075e-01, 1.62010565e-02],\n",
       "       [8.17956962e-03, 9.91476357e-01, 3.44065978e-04],\n",
       "       [3.08487906e-05, 9.99969125e-01, 1.02744147e-09],\n",
       "       [4.85062180e-03, 9.94781554e-01, 3.67785513e-04],\n",
       "       [1.89985577e-02, 9.75638270e-01, 5.36318868e-03],\n",
       "       [6.45084009e-02, 8.74212742e-01, 6.12788238e-02],\n",
       "       [1.05769463e-01, 7.67025471e-01, 1.27205044e-01],\n",
       "       [6.05973154e-02, 9.39292371e-01, 1.10279099e-04],\n",
       "       [5.05473945e-05, 9.99949455e-01, 7.08876824e-09],\n",
       "       [7.93851260e-03, 9.91995811e-01, 6.57087512e-05],\n",
       "       [1.59700215e-02, 9.83759761e-01, 2.70195218e-04],\n",
       "       [1.11176716e-02, 9.88710701e-01, 1.71628140e-04],\n",
       "       [3.73166874e-02, 9.52359915e-01, 1.03233950e-02],\n",
       "       [2.96404143e-03, 9.97029543e-01, 6.35571314e-06],\n",
       "       [1.50603196e-03, 9.98454094e-01, 3.98184602e-05],\n",
       "       [4.35213355e-04, 9.99563277e-01, 1.53270651e-06],\n",
       "       [6.76428806e-03, 9.93195772e-01, 3.99563178e-05],\n",
       "       [5.03420085e-03, 9.88948822e-01, 6.01695525e-03],\n",
       "       [1.05734523e-02, 9.58100855e-01, 3.13256867e-02],\n",
       "       [2.01709103e-04, 9.99798119e-01, 1.59479640e-07],\n",
       "       [5.31479903e-03, 9.94588494e-01, 9.67624437e-05],\n",
       "       [5.07533625e-02, 8.84112939e-02, 8.60835373e-01],\n",
       "       [4.18350585e-02, 7.76488185e-02, 8.80516171e-01],\n",
       "       [4.87538688e-02, 7.56292865e-02, 8.75616848e-01],\n",
       "       [6.85115457e-02, 1.87928259e-01, 7.43560195e-01],\n",
       "       [3.70418206e-02, 9.57338810e-02, 8.67224336e-01],\n",
       "       [3.17007862e-02, 4.37832415e-01, 5.30466735e-01],\n",
       "       [3.90493311e-02, 1.21967107e-01, 8.38983536e-01],\n",
       "       [6.21108571e-03, 1.00204051e-02, 9.83768523e-01],\n",
       "       [2.76884381e-02, 6.21650331e-02, 9.10146475e-01],\n",
       "       [4.10592146e-02, 1.17506683e-01, 8.41434181e-01],\n",
       "       [5.38695790e-02, 1.98092192e-01, 7.48038173e-01],\n",
       "       [4.73556221e-02, 1.49439707e-01, 8.03204715e-01],\n",
       "       [3.56236435e-02, 6.68546110e-02, 8.97521734e-01],\n",
       "       [5.02575375e-02, 1.57100528e-01, 7.92641997e-01],\n",
       "       [3.99935581e-02, 1.37145966e-01, 8.22860539e-01],\n",
       "       [4.01221402e-02, 7.21702799e-02, 8.87707651e-01],\n",
       "       [7.27551617e-03, 9.34370339e-01, 5.83541095e-02],\n",
       "       [4.98962253e-02, 9.98201221e-02, 8.50283682e-01],\n",
       "       [4.20442671e-02, 1.14660583e-01, 8.43295097e-01],\n",
       "       [5.50771952e-02, 1.21224768e-01, 8.23697984e-01],\n",
       "       [4.16735075e-02, 1.50129318e-01, 8.08197141e-01],\n",
       "       [2.45221071e-02, 5.19499145e-02, 9.23527896e-01],\n",
       "       [5.70689589e-02, 1.05886437e-01, 8.37044597e-01],\n",
       "       [3.14836353e-02, 7.60319903e-02, 8.92484367e-01],\n",
       "       [3.82422060e-02, 7.54799545e-02, 8.86277795e-01],\n",
       "       [4.64426242e-02, 1.10567302e-01, 8.42990100e-01],\n",
       "       [2.55581755e-02, 6.12759814e-02, 9.13165808e-01],\n",
       "       [4.88879345e-02, 1.16596207e-01, 8.34515810e-01],\n",
       "       [3.75045054e-02, 1.47345856e-01, 8.15149665e-01],\n",
       "       [2.37862170e-02, 6.28614947e-02, 9.13352251e-01],\n",
       "       [5.29338755e-02, 9.50917006e-02, 8.51974368e-01],\n",
       "       [2.00720310e-01, 5.96022546e-01, 2.03257143e-01],\n",
       "       [4.15506959e-02, 8.66046771e-02, 8.71844709e-01],\n",
       "       [3.84259596e-02, 1.05328232e-01, 8.56245756e-01],\n",
       "       [4.06318828e-02, 7.77523443e-02, 8.81615698e-01],\n",
       "       [2.85695065e-02, 4.71391343e-02, 9.24291372e-01],\n",
       "       [5.18610291e-02, 1.36589885e-01, 8.11549008e-01],\n",
       "       [1.20183840e-01, 2.30460495e-01, 6.49355650e-01],\n",
       "       [3.88810858e-02, 1.00876495e-01, 8.60242367e-01],\n",
       "       [1.92367379e-02, 1.05517864e-01, 8.75245333e-01],\n",
       "       [4.12826687e-02, 1.02951370e-01, 8.55765939e-01],\n",
       "       [7.83566386e-02, 2.59327829e-01, 6.62315547e-01]], dtype=float32)"
      ]
     },
     "execution_count": 29,
     "metadata": {},
     "output_type": "execute_result"
    }
   ],
   "source": [
    "predictions = model.predict(test_generator)\n",
    "predictions"
   ]
  },
  {
   "cell_type": "code",
   "execution_count": 30,
   "id": "ea6e1819-9fa4-453c-b751-c70832526e2d",
   "metadata": {},
   "outputs": [],
   "source": [
    "def plot_loss_and_accuracy(history):\n",
    "    history_df = pd.DataFrame(history)\n",
    "    fig, ax = plt.subplots(1,2, figsize=(12, 6))\n",
    "    \n",
    "    history_df.loc[0:, ['loss', 'val_loss']].plot(ax=ax[0])\n",
    "    ax[0].set(xlabel = 'epoch number', ylabel = 'loss')\n",
    "\n",
    "    history_df.loc[0:, ['accuracy', 'val_accuracy']].plot(ax=ax[1])\n",
    "    ax[1].set(xlabel = 'epoch number', ylabel = 'accuracy')"
   ]
  },
  {
   "cell_type": "code",
   "execution_count": 31,
   "id": "b5e362a5-a2ae-42f6-8666-b303bd794893",
   "metadata": {},
   "outputs": [
    {
     "data": {
      "image/png": "[encoded data removed]",
      "text/plain": [
       "<Figure size 1200x600 with 2 Axes>"
      ]
     },
     "metadata": {},
     "output_type": "display_data"
    }
   ],
   "source": [
    "plot_loss_and_accuracy(model_history.history)"
   ]
  },
  {
   "cell_type": "code",
   "execution_count": 32,
   "id": "2a45c22a-04ca-42de-9a71-b8759bf0d320",
   "metadata": {},
   "outputs": [
    {
     "name": "stdout",
     "output_type": "stream",
     "text": [
      "\u001b[1m31/31\u001b[0m \u001b[32m━━━━━━━━━━━━━━━━━━━━\u001b[0m\u001b[37m\u001b[0m \u001b[1m0s\u001b[0m 7ms/step \n",
      "with_mask || with_mask\\maksssksksss647_(np.int64(368), np.int64(58)).png\n"
     ]
    },
    {
     "data": {
      "image/png": "[encoded data removed]",
      "text/plain": [
       "<Figure size 640x480 with 1 Axes>"
      ]
     },
     "metadata": {},
     "output_type": "display_data"
    }
   ],
   "source": [
    "paths = test_generator.filenames\n",
    "y_pred = model.predict(test_generator).argmax(axis=1)\n",
    "classes = test_generator.class_indices\n",
    "\n",
    "a_img_rand = np.random.randint(0,len(paths))\n",
    "img = cv2.imread(os.path.join(output_data_path,'test', paths[a_img_rand]))      \n",
    "colored_img = cv2.cvtColor(img, cv2.COLOR_RGB2BGR)\n",
    "\n",
    "plt.imshow(colored_img)\n",
    "true_label = paths[a_img_rand].split('/')[0]\n",
    "predicted_label = list(classes)[y_pred[a_img_rand]]\n",
    "print(f'{predicted_label} || {true_label}')"
   ]
  },
  {
   "cell_type": "code",
   "execution_count": 33,
   "id": "9f078bb0-074e-4e06-9110-b53384830449",
   "metadata": {},
   "outputs": [],
   "source": [
    "def evaluation(y, y_hat, title = 'Confusion Matrix'):\n",
    "    cm = confusion_matrix(y, y_hat)\n",
    "    sns.heatmap(cm,  cmap= 'PuBu', annot=True, fmt='g', annot_kws={'size':20})\n",
    "    plt.xlabel('predicted', fontsize=18)\n",
    "    plt.ylabel('actual', fontsize=18)\n",
    "    plt.title(title, fontsize=18)\n",
    "    \n",
    "    plt.show()"
   ]
  },
  {
   "cell_type": "code",
   "execution_count": 34,
   "id": "e95bf01b-7ed4-474e-91ff-a00b68b8a4f8",
   "metadata": {},
   "outputs": [
    {
     "name": "stdout",
     "output_type": "stream",
     "text": [
      "\u001b[1m31/31\u001b[0m \u001b[32m━━━━━━━━━━━━━━━━━━━━\u001b[0m\u001b[37m\u001b[0m \u001b[1m0s\u001b[0m 7ms/step \n"
     ]
    },
    {
     "data": {
      "image/png": "[encoded data removed]",
      "text/plain": [
       "<Figure size 640x480 with 2 Axes>"
      ]
     },
     "metadata": {},
     "output_type": "display_data"
    }
   ],
   "source": [
    "y_true = test_generator.labels\n",
    "y_pred = model.predict(test_generator).argmax(axis=1) # Predict prob and get Class Indices\n",
    "\n",
    "evaluation(y_true, y_pred)\n"
   ]
  },
  {
   "cell_type": "code",
   "execution_count": 35,
   "id": "1a0c5b6d-734d-45f6-9d56-b7fce4fcada9",
   "metadata": {},
   "outputs": [
    {
     "data": {
      "text/plain": [
       "{'mask_weared_incorrect': 0, 'with_mask': 1, 'without_mask': 2}"
      ]
     },
     "metadata": {},
     "output_type": "display_data"
    },
    {
     "data": {
      "text/plain": [
       "array([  0, 196,  47])"
      ]
     },
     "execution_count": 35,
     "metadata": {},
     "output_type": "execute_result"
    }
   ],
   "source": [
    "display(classes)\n",
    "np.bincount(y_pred)"
   ]
  },
  {
   "cell_type": "code",
   "execution_count": 36,
   "id": "d699c0fd-41ed-44b3-ae3d-a35e0f07f855",
   "metadata": {},
   "outputs": [],
   "source": [
    "def predict_single_image(model, image_path, class_indices, target_size=(35, 35)):\n",
    "    # Load and preprocess the image\n",
    "    img = Image.open(image_path).convert(\"RGB\")  # Ensure 3 channels\n",
    "    img = img.resize(target_size)  # Resize image\n",
    "    img_array = np.array(img) / 255.0  # Normalize to [0,1]\n",
    "    img_array = np.expand_dims(img_array, axis=0)  # Add batch dimension\n",
    "\n",
    "    # Make predictions\n",
    "    prediction = model.predict(img_array)\n",
    "    predicted_class = np.argmax(prediction, axis=1)[0]\n",
    "    class_labels = {v: k for k, v in class_indices.items()}  # Reverse class_indices\n",
    "    predicted_label = class_labels[predicted_class]\n",
    "\n",
    "    # Display result\n",
    "    plt.imshow(img)\n",
    "    plt.axis('off')\n",
    "    plt.title(f'Predicted: {predicted_label}')\n",
    "    plt.show()\n",
    "\n",
    "    print(f\"Prediction Probabilities: {prediction[0]}\")\n",
    "    print(f\"Predicted Class: {predicted_label}\")\n"
   ]
  },
  {
   "cell_type": "code",
   "execution_count": 38,
   "id": "f1193472-4ce8-4510-a0a4-0486ac6c03fb",
   "metadata": {},
   "outputs": [
    {
     "name": "stdout",
     "output_type": "stream",
     "text": [
      "\u001b[1m1/1\u001b[0m \u001b[32m━━━━━━━━━━━━━━━━━━━━\u001b[0m\u001b[37m\u001b[0m \u001b[1m0s\u001b[0m 41ms/step\n"
     ]
    },
    {
     "data": {
      "image/png": "[encoded data removed]",
      "text/plain": [
       "<Figure size 640x480 with 1 Axes>"
      ]
     },
     "metadata": {},
     "output_type": "display_data"
    },
    {
     "name": "stdout",
     "output_type": "stream",
     "text": [
      "Prediction Probabilities: [0.44255704 0.51653975 0.04090312]\n",
      "Predicted Class: with_mask\n"
     ]
    }
   ],
   "source": [
    "# Path to your single image\n",
    "image_path = r\"K:\\pics\\IMG-20241217-WA0014.jpg\"\n",
    "\n",
    "# Predict the result\n",
    "predict_single_image(model, image_path, test_generator.class_indices)\n"
   ]
  },
  {
   "cell_type": "code",
   "execution_count": null,
   "id": "03dc3c1c-dccf-44a8-abfa-36497a87a91e",
   "metadata": {},
   "outputs": [],
   "source": []
  }
 ],
 "metadata": {
  "kernelspec": {
   "display_name": "Python 3 (ipykernel)",
   "language": "python",
   "name": "python3"
  },
  "language_info": {
   "codemirror_mode": {
    "name": "ipython",
    "version": 3
   },
   "file_extension": ".py",
   "mimetype": "text/x-python",
   "name": "python",
   "nbconvert_exporter": "python",
   "pygments_lexer": "ipython3",
   "version": "3.12.0"
  }
 },
 "nbformat": 4,
 "nbformat_minor": 5
}
