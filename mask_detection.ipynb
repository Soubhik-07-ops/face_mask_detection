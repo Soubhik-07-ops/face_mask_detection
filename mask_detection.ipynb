{
 "cells": [
  {
   "cell_type": "code",
   "execution_count": 64,
   "id": "707e7d2c-eee7-4113-adfb-a90b40de8bb2",
   "metadata": {},
   "outputs": [],
   "source": [
    "import numpy as np\n",
    "import pandas as pd\n",
    "import matplotlib.pyplot as plt\n",
    "import os\n",
    "import xml.etree.ElementTree as ET\n",
    "import glob\n",
    "from PIL import Image\n",
    "from sklearn.model_selection import train_test_split\n",
    "from tensorflow.keras.models import Sequential\n",
    "from tensorflow.keras.layers import Conv2D, MaxPooling2D, Flatten, Dense, Dropout\n",
    "from tensorflow.keras.preprocessing.image import ImageDataGenerator\n",
    "from tensorflow.keras.callbacks import EarlyStopping, ReduceLROnPlateau\n",
    "from sklearn.metrics import confusion_matrix, classification_report\n",
    "from sklearn.metrics import precision_score, recall_score, accuracy_score,f1_score, classification_report\n",
    "import cv2\n",
    "import seaborn as sns \n",
    "\n",
    "\n",
    "input_data_path = \"D:/face_mask/images\"\n",
    "annotations_path = \"D:/face_mask/annotations\"\n",
    "images = [*os.listdir(input_data_path)]\n",
    "output_data_path =  '.'"
   ]
  },
  {
   "cell_type": "code",
   "execution_count": 65,
   "id": "7c474b6f-4cf7-47bf-9e15-7f9b6af4480b",
   "metadata": {},
   "outputs": [],
   "source": [
    "def parse_annotation(path):\n",
    "    tree = ET.parse(path)\n",
    "    root = tree.getroot()\n",
    "    constants = {}\n",
    "    objects = [child for child in root if child.tag == 'object']\n",
    "    for element in tree.iter():\n",
    "        if element.tag == 'filename':\n",
    "            constants['file'] = element.text[0:-4]\n",
    "        if element.tag == 'size':\n",
    "            for dim in list(element):\n",
    "                if dim.tag == 'width':\n",
    "                    constants['width'] = int(dim.text)\n",
    "                if dim.tag == 'height':\n",
    "                    constants['height'] = int(dim.text)\n",
    "                if dim.tag == 'depth':\n",
    "                    constants['depth'] = int(dim.text)\n",
    "    object_params = [parse_annotation_object(obj) for obj in objects]\n",
    "    #print(constants)\n",
    "    full_result = [merge(constants,ob) for ob in object_params]\n",
    "    return full_result\n",
    "\n",
    "def parse_annotation_object(annotation_object):\n",
    "    params = {}\n",
    "    for param in list(annotation_object):\n",
    "        if param.tag == 'name':\n",
    "            params['name'] = param.text\n",
    "        if param.tag == 'bndbox':\n",
    "            for coord in list(param):\n",
    "                if coord.tag == 'xmin':\n",
    "                    params['xmin'] = int(coord.text)              \n",
    "                if coord.tag == 'ymin':\n",
    "                    params['ymin'] = int(coord.text)\n",
    "                if coord.tag == 'xmax':\n",
    "                    params['xmax'] = int(coord.text)\n",
    "                if coord.tag == 'ymax':\n",
    "                    params['ymax'] = int(coord.text)\n",
    "            \n",
    "    return params       \n",
    " \n",
    "def merge(dict1, dict2):\n",
    "    res = {**dict1, **dict2}\n",
    "    return res"
   ]
  },
  {
   "cell_type": "code",
   "execution_count": 66,
   "id": "220426ff-1087-428f-9e29-0f721b18d458",
   "metadata": {},
   "outputs": [
    {
     "data": {
      "text/plain": [
       "(4072, 9)"
      ]
     },
     "execution_count": 66,
     "metadata": {},
     "output_type": "execute_result"
    }
   ],
   "source": [
    "dataset = [parse_annotation(anno) for anno in glob.glob(annotations_path+\"/*.xml\") ]\n",
    "\n",
    "full_dataset = sum(dataset, [])\n",
    "\n",
    "df = pd.DataFrame(full_dataset)\n",
    "df.shape"
   ]
  },
  {
   "cell_type": "code",
   "execution_count": 67,
   "id": "b6b34b0c-d427-48b6-9e4a-a6d0a191c17e",
   "metadata": {},
   "outputs": [
    {
     "data": {
      "text/html": [
       "<div>\n",
       "<style scoped>\n",
       "    .dataframe tbody tr th:only-of-type {\n",
       "        vertical-align: middle;\n",
       "    }\n",
       "\n",
       "    .dataframe tbody tr th {\n",
       "        vertical-align: top;\n",
       "    }\n",
       "\n",
       "    .dataframe thead th {\n",
       "        text-align: right;\n",
       "    }\n",
       "</style>\n",
       "<table border=\"1\" class=\"dataframe\">\n",
       "  <thead>\n",
       "    <tr style=\"text-align: right;\">\n",
       "      <th></th>\n",
       "      <th>file</th>\n",
       "      <th>width</th>\n",
       "      <th>height</th>\n",
       "      <th>depth</th>\n",
       "      <th>name</th>\n",
       "      <th>xmin</th>\n",
       "      <th>ymin</th>\n",
       "      <th>xmax</th>\n",
       "      <th>ymax</th>\n",
       "    </tr>\n",
       "  </thead>\n",
       "  <tbody>\n",
       "    <tr>\n",
       "      <th>0</th>\n",
       "      <td>maksssksksss0</td>\n",
       "      <td>512</td>\n",
       "      <td>366</td>\n",
       "      <td>3</td>\n",
       "      <td>without_mask</td>\n",
       "      <td>79</td>\n",
       "      <td>105</td>\n",
       "      <td>109</td>\n",
       "      <td>142</td>\n",
       "    </tr>\n",
       "    <tr>\n",
       "      <th>1</th>\n",
       "      <td>maksssksksss0</td>\n",
       "      <td>512</td>\n",
       "      <td>366</td>\n",
       "      <td>3</td>\n",
       "      <td>with_mask</td>\n",
       "      <td>185</td>\n",
       "      <td>100</td>\n",
       "      <td>226</td>\n",
       "      <td>144</td>\n",
       "    </tr>\n",
       "    <tr>\n",
       "      <th>2</th>\n",
       "      <td>maksssksksss0</td>\n",
       "      <td>512</td>\n",
       "      <td>366</td>\n",
       "      <td>3</td>\n",
       "      <td>without_mask</td>\n",
       "      <td>325</td>\n",
       "      <td>90</td>\n",
       "      <td>360</td>\n",
       "      <td>141</td>\n",
       "    </tr>\n",
       "    <tr>\n",
       "      <th>3</th>\n",
       "      <td>maksssksksss1</td>\n",
       "      <td>400</td>\n",
       "      <td>156</td>\n",
       "      <td>3</td>\n",
       "      <td>with_mask</td>\n",
       "      <td>321</td>\n",
       "      <td>34</td>\n",
       "      <td>354</td>\n",
       "      <td>69</td>\n",
       "    </tr>\n",
       "    <tr>\n",
       "      <th>4</th>\n",
       "      <td>maksssksksss1</td>\n",
       "      <td>400</td>\n",
       "      <td>156</td>\n",
       "      <td>3</td>\n",
       "      <td>with_mask</td>\n",
       "      <td>224</td>\n",
       "      <td>38</td>\n",
       "      <td>261</td>\n",
       "      <td>73</td>\n",
       "    </tr>\n",
       "  </tbody>\n",
       "</table>\n",
       "</div>"
      ],
      "text/plain": [
       "            file  width  height  depth          name  xmin  ymin  xmax  ymax\n",
       "0  maksssksksss0    512     366      3  without_mask    79   105   109   142\n",
       "1  maksssksksss0    512     366      3     with_mask   185   100   226   144\n",
       "2  maksssksksss0    512     366      3  without_mask   325    90   360   141\n",
       "3  maksssksksss1    400     156      3     with_mask   321    34   354    69\n",
       "4  maksssksksss1    400     156      3     with_mask   224    38   261    73"
      ]
     },
     "execution_count": 67,
     "metadata": {},
     "output_type": "execute_result"
    }
   ],
   "source": [
    "df.head()"
   ]
  },
  {
   "cell_type": "code",
   "execution_count": 68,
   "id": "ab8ce410-15f4-4e02-9303-f71ccd17dc38",
   "metadata": {},
   "outputs": [],
   "source": [
    "final_test_image = 'maksssksksss0'\n",
    "df_final_test = df.loc[df[\"file\"] == final_test_image]\n",
    "images.remove(f'{final_test_image}.png')\n",
    "df = df.loc[df[\"file\"] != final_test_image]"
   ]
  },
  {
   "cell_type": "code",
   "execution_count": 69,
   "id": "eeffa524-5751-415b-af52-13d051cf4115",
   "metadata": {},
   "outputs": [
    {
     "data": {
      "text/html": [
       "<div>\n",
       "<style scoped>\n",
       "    .dataframe tbody tr th:only-of-type {\n",
       "        vertical-align: middle;\n",
       "    }\n",
       "\n",
       "    .dataframe tbody tr th {\n",
       "        vertical-align: top;\n",
       "    }\n",
       "\n",
       "    .dataframe thead th {\n",
       "        text-align: right;\n",
       "    }\n",
       "</style>\n",
       "<table border=\"1\" class=\"dataframe\">\n",
       "  <thead>\n",
       "    <tr style=\"text-align: right;\">\n",
       "      <th></th>\n",
       "      <th>file</th>\n",
       "      <th>width</th>\n",
       "      <th>height</th>\n",
       "      <th>depth</th>\n",
       "      <th>name</th>\n",
       "      <th>xmin</th>\n",
       "      <th>ymin</th>\n",
       "      <th>xmax</th>\n",
       "      <th>ymax</th>\n",
       "    </tr>\n",
       "  </thead>\n",
       "  <tbody>\n",
       "    <tr>\n",
       "      <th>3</th>\n",
       "      <td>maksssksksss1</td>\n",
       "      <td>400</td>\n",
       "      <td>156</td>\n",
       "      <td>3</td>\n",
       "      <td>with_mask</td>\n",
       "      <td>321</td>\n",
       "      <td>34</td>\n",
       "      <td>354</td>\n",
       "      <td>69</td>\n",
       "    </tr>\n",
       "    <tr>\n",
       "      <th>4</th>\n",
       "      <td>maksssksksss1</td>\n",
       "      <td>400</td>\n",
       "      <td>156</td>\n",
       "      <td>3</td>\n",
       "      <td>with_mask</td>\n",
       "      <td>224</td>\n",
       "      <td>38</td>\n",
       "      <td>261</td>\n",
       "      <td>73</td>\n",
       "    </tr>\n",
       "    <tr>\n",
       "      <th>5</th>\n",
       "      <td>maksssksksss1</td>\n",
       "      <td>400</td>\n",
       "      <td>156</td>\n",
       "      <td>3</td>\n",
       "      <td>with_mask</td>\n",
       "      <td>299</td>\n",
       "      <td>58</td>\n",
       "      <td>315</td>\n",
       "      <td>81</td>\n",
       "    </tr>\n",
       "    <tr>\n",
       "      <th>6</th>\n",
       "      <td>maksssksksss1</td>\n",
       "      <td>400</td>\n",
       "      <td>156</td>\n",
       "      <td>3</td>\n",
       "      <td>with_mask</td>\n",
       "      <td>143</td>\n",
       "      <td>74</td>\n",
       "      <td>174</td>\n",
       "      <td>115</td>\n",
       "    </tr>\n",
       "    <tr>\n",
       "      <th>7</th>\n",
       "      <td>maksssksksss1</td>\n",
       "      <td>400</td>\n",
       "      <td>156</td>\n",
       "      <td>3</td>\n",
       "      <td>with_mask</td>\n",
       "      <td>74</td>\n",
       "      <td>69</td>\n",
       "      <td>95</td>\n",
       "      <td>99</td>\n",
       "    </tr>\n",
       "    <tr>\n",
       "      <th>...</th>\n",
       "      <td>...</td>\n",
       "      <td>...</td>\n",
       "      <td>...</td>\n",
       "      <td>...</td>\n",
       "      <td>...</td>\n",
       "      <td>...</td>\n",
       "      <td>...</td>\n",
       "      <td>...</td>\n",
       "      <td>...</td>\n",
       "    </tr>\n",
       "    <tr>\n",
       "      <th>4067</th>\n",
       "      <td>maksssksksss98</td>\n",
       "      <td>400</td>\n",
       "      <td>267</td>\n",
       "      <td>3</td>\n",
       "      <td>with_mask</td>\n",
       "      <td>263</td>\n",
       "      <td>62</td>\n",
       "      <td>287</td>\n",
       "      <td>85</td>\n",
       "    </tr>\n",
       "    <tr>\n",
       "      <th>4068</th>\n",
       "      <td>maksssksksss98</td>\n",
       "      <td>400</td>\n",
       "      <td>267</td>\n",
       "      <td>3</td>\n",
       "      <td>with_mask</td>\n",
       "      <td>344</td>\n",
       "      <td>80</td>\n",
       "      <td>377</td>\n",
       "      <td>106</td>\n",
       "    </tr>\n",
       "    <tr>\n",
       "      <th>4069</th>\n",
       "      <td>maksssksksss99</td>\n",
       "      <td>400</td>\n",
       "      <td>267</td>\n",
       "      <td>3</td>\n",
       "      <td>mask_weared_incorrect</td>\n",
       "      <td>181</td>\n",
       "      <td>54</td>\n",
       "      <td>273</td>\n",
       "      <td>162</td>\n",
       "    </tr>\n",
       "    <tr>\n",
       "      <th>4070</th>\n",
       "      <td>maksssksksss99</td>\n",
       "      <td>400</td>\n",
       "      <td>267</td>\n",
       "      <td>3</td>\n",
       "      <td>with_mask</td>\n",
       "      <td>99</td>\n",
       "      <td>87</td>\n",
       "      <td>176</td>\n",
       "      <td>165</td>\n",
       "    </tr>\n",
       "    <tr>\n",
       "      <th>4071</th>\n",
       "      <td>maksssksksss99</td>\n",
       "      <td>400</td>\n",
       "      <td>267</td>\n",
       "      <td>3</td>\n",
       "      <td>with_mask</td>\n",
       "      <td>289</td>\n",
       "      <td>99</td>\n",
       "      <td>355</td>\n",
       "      <td>233</td>\n",
       "    </tr>\n",
       "  </tbody>\n",
       "</table>\n",
       "<p>4069 rows × 9 columns</p>\n",
       "</div>"
      ],
      "text/plain": [
       "                file  width  height  depth                   name  xmin  ymin  \\\n",
       "3      maksssksksss1    400     156      3              with_mask   321    34   \n",
       "4      maksssksksss1    400     156      3              with_mask   224    38   \n",
       "5      maksssksksss1    400     156      3              with_mask   299    58   \n",
       "6      maksssksksss1    400     156      3              with_mask   143    74   \n",
       "7      maksssksksss1    400     156      3              with_mask    74    69   \n",
       "...              ...    ...     ...    ...                    ...   ...   ...   \n",
       "4067  maksssksksss98    400     267      3              with_mask   263    62   \n",
       "4068  maksssksksss98    400     267      3              with_mask   344    80   \n",
       "4069  maksssksksss99    400     267      3  mask_weared_incorrect   181    54   \n",
       "4070  maksssksksss99    400     267      3              with_mask    99    87   \n",
       "4071  maksssksksss99    400     267      3              with_mask   289    99   \n",
       "\n",
       "      xmax  ymax  \n",
       "3      354    69  \n",
       "4      261    73  \n",
       "5      315    81  \n",
       "6      174   115  \n",
       "7       95    99  \n",
       "...    ...   ...  \n",
       "4067   287    85  \n",
       "4068   377   106  \n",
       "4069   273   162  \n",
       "4070   176   165  \n",
       "4071   355   233  \n",
       "\n",
       "[4069 rows x 9 columns]"
      ]
     },
     "execution_count": 69,
     "metadata": {},
     "output_type": "execute_result"
    }
   ],
   "source": [
    "df"
   ]
  },
  {
   "cell_type": "code",
   "execution_count": 70,
   "id": "4580142b-1e36-4ba5-a865-18655b21ac68",
   "metadata": {},
   "outputs": [
    {
     "data": {
      "text/plain": [
       "name\n",
       "with_mask                3231\n",
       "without_mask              715\n",
       "mask_weared_incorrect     123\n",
       "Name: count, dtype: int64"
      ]
     },
     "execution_count": 70,
     "metadata": {},
     "output_type": "execute_result"
    }
   ],
   "source": [
    "df[\"name\"].value_counts()"
   ]
  },
  {
   "cell_type": "code",
   "execution_count": 71,
   "id": "30cb25b5-4f36-4bd1-83d4-a240396f657c",
   "metadata": {},
   "outputs": [
    {
     "data": {
      "text/plain": [
       "Text(0, 0.5, 'name')"
      ]
     },
     "execution_count": 71,
     "metadata": {},
     "output_type": "execute_result"
    },
    {
     "data": {
      "image/png": "[encoded data removed]",
      "text/plain": [
       "<Figure size 640x480 with 1 Axes>"
      ]
     },
     "metadata": {},
     "output_type": "display_data"
    }
   ],
   "source": [
    "df[\"name\"].value_counts().plot(kind='barh')\n",
    "plt.xlabel('Count', fontsize = 10, fontweight = 'bold')\n",
    "plt.ylabel('name', fontsize = 10, fontweight = 'bold')"
   ]
  },
  {
   "cell_type": "code",
   "execution_count": 72,
   "id": "f1379f2a-1e13-47df-8d3b-f7996b1302e7",
   "metadata": {},
   "outputs": [],
   "source": [
    "labels = df['name'].unique()\n",
    "directory = ['train', 'test', 'val']\n",
    "output_data_path =  '.'\n",
    "\n",
    "import os\n",
    "for label in labels:\n",
    "    for d in directory:\n",
    "        path = os.path.join(output_data_path, d, label)\n",
    "        if not os.path.exists(path):\n",
    "            os.makedirs(path)"
   ]
  },
  {
   "cell_type": "code",
   "execution_count": 73,
   "id": "44a78da3-2a85-4987-b69f-2d89971129c0",
   "metadata": {},
   "outputs": [],
   "source": [
    "def crop_img(image_path, x_min, y_min, x_max, y_max):\n",
    "    x_shift = (x_max - x_min) * 0.1\n",
    "    y_shift = (y_max - y_min) * 0.1\n",
    "    img = Image.open(image_path)\n",
    "    cropped = img.crop((x_min - x_shift, y_min - y_shift, x_max + x_shift, y_max + y_shift))\n",
    "    return cropped"
   ]
  },
  {
   "cell_type": "code",
   "execution_count": 74,
   "id": "97fb408f-acbc-48f0-864f-47e48fa2b979",
   "metadata": {},
   "outputs": [],
   "source": [
    "def extract_faces(image_name, image_info):\n",
    "    faces = []\n",
    "    df_one_img = image_info[image_info['file'] == image_name[:-4]][['xmin', 'ymin', 'xmax', 'ymax', 'name']]\n",
    "    for row_num in range(len(df_one_img)):\n",
    "        x_min, y_min, x_max, y_max, label = df_one_img.iloc[row_num] \n",
    "        image_path = os.path.join(input_data_path, image_name)\n",
    "        faces.append((crop_img(image_path, x_min, y_min, x_max, y_max), label,f'{image_name[:-4]}_{(x_min, y_min)}'))\n",
    "    return faces"
   ]
  },
  {
   "cell_type": "code",
   "execution_count": 75,
   "id": "75a32293-ba1f-47d2-95ca-63e11a63672b",
   "metadata": {},
   "outputs": [],
   "source": [
    "cropped_faces = [extract_faces(img, df) for img in images]"
   ]
  },
  {
   "cell_type": "code",
   "execution_count": 76,
   "id": "d0273db0-727b-4cf3-b84d-b222ab207638",
   "metadata": {},
   "outputs": [],
   "source": [
    "flat_cropped_faces = sum(cropped_faces, [])"
   ]
  },
  {
   "cell_type": "code",
   "execution_count": 77,
   "id": "8364c2e2-731c-40ae-aff2-2bea56c80872",
   "metadata": {},
   "outputs": [],
   "source": [
    "with_mask = [(img, image_name) for img, label,image_name in flat_cropped_faces if label == \"with_mask\"]\n",
    "mask_weared_incorrect = [(img, image_name) for img, label,image_name in flat_cropped_faces if label == \"mask_weared_incorrect\"]\n",
    "without_mask = [(img, image_name) for img, label,image_name in flat_cropped_faces if label == \"without_mask\"]"
   ]
  },
  {
   "cell_type": "code",
   "execution_count": 78,
   "id": "b1d365f4-840d-4130-8903-02399ce4fbc4",
   "metadata": {},
   "outputs": [
    {
     "name": "stdout",
     "output_type": "stream",
     "text": [
      "3231\n",
      "715\n",
      "123\n",
      "4069\n"
     ]
    }
   ],
   "source": [
    "print(len(with_mask))\n",
    "print(len(without_mask))\n",
    "print(len(mask_weared_incorrect))\n",
    "print(len(with_mask) + len(without_mask) + len(mask_weared_incorrect))"
   ]
  },
  {
   "cell_type": "code",
   "execution_count": 79,
   "id": "a391e990-f499-410a-8fe1-9c0d24971b66",
   "metadata": {},
   "outputs": [],
   "source": [
    "train_with_mask, test_with_mask = train_test_split(with_mask, test_size=0.20, random_state=42)\n",
    "test_with_mask, val_with_mask = train_test_split(test_with_mask, test_size=0.7, random_state=42)\n",
    "\n",
    "train_mask_weared_incorrect, test_mask_weared_incorrect = train_test_split(mask_weared_incorrect, test_size=0.20, random_state=42)\n",
    "test_mask_weared_incorrect, val_mask_weared_incorrect = train_test_split(test_mask_weared_incorrect, test_size=0.7, random_state=42)\n",
    "\n",
    "train_without_mask, test_without_mask = train_test_split(without_mask, test_size=0.20, random_state=42)\n",
    "test_without_mask, val_without_mask = train_test_split(test_without_mask, test_size=0.7, random_state=42)"
   ]
  },
  {
   "cell_type": "code",
   "execution_count": 80,
   "id": "41e0aefc-307d-4249-836f-a1b03f0ddacb",
   "metadata": {},
   "outputs": [],
   "source": [
    "def save_image(image, image_name, output_data_path,  dataset_type, label):\n",
    "    output_path = os.path.join(output_data_path, dataset_type, label ,f'{image_name}.png')\n",
    "    image.save(output_path)"
   ]
  },
  {
   "cell_type": "code",
   "execution_count": 81,
   "id": "61997ea9-18a2-4695-900f-0add3ba2f36e",
   "metadata": {},
   "outputs": [],
   "source": [
    "for image, image_name in train_with_mask:\n",
    "    save_image(image, image_name, output_data_path, 'train', 'with_mask')\n",
    "\n",
    "for image, image_name in train_mask_weared_incorrect:\n",
    "    save_image(image, image_name, output_data_path, 'train', 'mask_weared_incorrect')\n",
    "\n",
    "for image, image_name in train_without_mask:\n",
    "    save_image(image, image_name, output_data_path, 'train', 'without_mask')\n",
    "\n",
    "for image, image_name in test_with_mask:\n",
    "    save_image(image, image_name, output_data_path, 'test', 'with_mask')\n",
    "\n",
    "for image, image_name in test_mask_weared_incorrect:\n",
    "    save_image(image, image_name, output_data_path, 'test', 'mask_weared_incorrect')\n",
    "\n",
    "for image, image_name in test_without_mask:\n",
    "    save_image(image, image_name, output_data_path, 'test', 'without_mask')\n",
    "        \n",
    "for image, image_name in val_with_mask:\n",
    "    save_image(image, image_name, output_data_path, 'val', 'with_mask')\n",
    "\n",
    "for image, image_name in val_without_mask:\n",
    "    save_image(image, image_name, output_data_path, 'val', 'without_mask')\n",
    "\n",
    "for image, image_name in val_mask_weared_incorrect:\n",
    "    save_image(image, image_name, output_data_path, 'val', 'mask_weared_incorrect')"
   ]
  },
  {
   "cell_type": "code",
   "execution_count": 82,
   "id": "2d7ce113-ca53-4852-954e-2dd9f3a9faa0",
   "metadata": {},
   "outputs": [
    {
     "name": "stderr",
     "output_type": "stream",
     "text": [
      "C:\\Users\\mrroy\\AppData\\Local\\Programs\\Python\\Python312\\Lib\\site-packages\\keras\\src\\layers\\convolutional\\base_conv.py:107: UserWarning: Do not pass an `input_shape`/`input_dim` argument to a layer. When using Sequential models, prefer using an `Input(shape)` object as the first layer in the model instead.\n",
      "  super().__init__(activity_regularizer=activity_regularizer, **kwargs)\n"
     ]
    },
    {
     "data": {
      "text/html": [
       "<pre style=\"white-space:pre;overflow-x:auto;line-height:normal;font-family:Menlo,'DejaVu Sans Mono',consolas,'Courier New',monospace\"><span style=\"font-weight: bold\">Model: \"sequential_1\"</span>\n",
       "</pre>\n"
      ],
      "text/plain": [
       "\u001b[1mModel: \"sequential_1\"\u001b[0m\n"
      ]
     },
     "metadata": {},
     "output_type": "display_data"
    },
    {
     "data": {
      "text/html": [
       "<pre style=\"white-space:pre;overflow-x:auto;line-height:normal;font-family:Menlo,'DejaVu Sans Mono',consolas,'Courier New',monospace\">┏━━━━━━━━━━━━━━━━━━━━━━━━━━━━━━━━━━━━━━┳━━━━━━━━━━━━━━━━━━━━━━━━━━━━━┳━━━━━━━━━━━━━━━━━┓\n",
       "┃<span style=\"font-weight: bold\"> Layer (type)                         </span>┃<span style=\"font-weight: bold\"> Output Shape                </span>┃<span style=\"font-weight: bold\">         Param # </span>┃\n",
       "┡━━━━━━━━━━━━━━━━━━━━━━━━━━━━━━━━━━━━━━╇━━━━━━━━━━━━━━━━━━━━━━━━━━━━━╇━━━━━━━━━━━━━━━━━┩\n",
       "│ conv2d_3 (<span style=\"color: #0087ff; text-decoration-color: #0087ff\">Conv2D</span>)                    │ (<span style=\"color: #00d7ff; text-decoration-color: #00d7ff\">None</span>, <span style=\"color: #00af00; text-decoration-color: #00af00\">35</span>, <span style=\"color: #00af00; text-decoration-color: #00af00\">35</span>, <span style=\"color: #00af00; text-decoration-color: #00af00\">16</span>)          │             <span style=\"color: #00af00; text-decoration-color: #00af00\">448</span> │\n",
       "├──────────────────────────────────────┼─────────────────────────────┼─────────────────┤\n",
       "│ max_pooling2d_3 (<span style=\"color: #0087ff; text-decoration-color: #0087ff\">MaxPooling2D</span>)       │ (<span style=\"color: #00d7ff; text-decoration-color: #00d7ff\">None</span>, <span style=\"color: #00af00; text-decoration-color: #00af00\">17</span>, <span style=\"color: #00af00; text-decoration-color: #00af00\">17</span>, <span style=\"color: #00af00; text-decoration-color: #00af00\">16</span>)          │               <span style=\"color: #00af00; text-decoration-color: #00af00\">0</span> │\n",
       "├──────────────────────────────────────┼─────────────────────────────┼─────────────────┤\n",
       "│ conv2d_4 (<span style=\"color: #0087ff; text-decoration-color: #0087ff\">Conv2D</span>)                    │ (<span style=\"color: #00d7ff; text-decoration-color: #00d7ff\">None</span>, <span style=\"color: #00af00; text-decoration-color: #00af00\">17</span>, <span style=\"color: #00af00; text-decoration-color: #00af00\">17</span>, <span style=\"color: #00af00; text-decoration-color: #00af00\">32</span>)          │           <span style=\"color: #00af00; text-decoration-color: #00af00\">4,640</span> │\n",
       "├──────────────────────────────────────┼─────────────────────────────┼─────────────────┤\n",
       "│ max_pooling2d_4 (<span style=\"color: #0087ff; text-decoration-color: #0087ff\">MaxPooling2D</span>)       │ (<span style=\"color: #00d7ff; text-decoration-color: #00d7ff\">None</span>, <span style=\"color: #00af00; text-decoration-color: #00af00\">8</span>, <span style=\"color: #00af00; text-decoration-color: #00af00\">8</span>, <span style=\"color: #00af00; text-decoration-color: #00af00\">32</span>)            │               <span style=\"color: #00af00; text-decoration-color: #00af00\">0</span> │\n",
       "├──────────────────────────────────────┼─────────────────────────────┼─────────────────┤\n",
       "│ conv2d_5 (<span style=\"color: #0087ff; text-decoration-color: #0087ff\">Conv2D</span>)                    │ (<span style=\"color: #00d7ff; text-decoration-color: #00d7ff\">None</span>, <span style=\"color: #00af00; text-decoration-color: #00af00\">8</span>, <span style=\"color: #00af00; text-decoration-color: #00af00\">8</span>, <span style=\"color: #00af00; text-decoration-color: #00af00\">64</span>)            │          <span style=\"color: #00af00; text-decoration-color: #00af00\">18,496</span> │\n",
       "├──────────────────────────────────────┼─────────────────────────────┼─────────────────┤\n",
       "│ max_pooling2d_5 (<span style=\"color: #0087ff; text-decoration-color: #0087ff\">MaxPooling2D</span>)       │ (<span style=\"color: #00d7ff; text-decoration-color: #00d7ff\">None</span>, <span style=\"color: #00af00; text-decoration-color: #00af00\">4</span>, <span style=\"color: #00af00; text-decoration-color: #00af00\">4</span>, <span style=\"color: #00af00; text-decoration-color: #00af00\">64</span>)            │               <span style=\"color: #00af00; text-decoration-color: #00af00\">0</span> │\n",
       "├──────────────────────────────────────┼─────────────────────────────┼─────────────────┤\n",
       "│ dropout_2 (<span style=\"color: #0087ff; text-decoration-color: #0087ff\">Dropout</span>)                  │ (<span style=\"color: #00d7ff; text-decoration-color: #00d7ff\">None</span>, <span style=\"color: #00af00; text-decoration-color: #00af00\">4</span>, <span style=\"color: #00af00; text-decoration-color: #00af00\">4</span>, <span style=\"color: #00af00; text-decoration-color: #00af00\">64</span>)            │               <span style=\"color: #00af00; text-decoration-color: #00af00\">0</span> │\n",
       "├──────────────────────────────────────┼─────────────────────────────┼─────────────────┤\n",
       "│ flatten_1 (<span style=\"color: #0087ff; text-decoration-color: #0087ff\">Flatten</span>)                  │ (<span style=\"color: #00d7ff; text-decoration-color: #00d7ff\">None</span>, <span style=\"color: #00af00; text-decoration-color: #00af00\">1024</span>)                │               <span style=\"color: #00af00; text-decoration-color: #00af00\">0</span> │\n",
       "├──────────────────────────────────────┼─────────────────────────────┼─────────────────┤\n",
       "│ dense_2 (<span style=\"color: #0087ff; text-decoration-color: #0087ff\">Dense</span>)                      │ (<span style=\"color: #00d7ff; text-decoration-color: #00d7ff\">None</span>, <span style=\"color: #00af00; text-decoration-color: #00af00\">500</span>)                 │         <span style=\"color: #00af00; text-decoration-color: #00af00\">512,500</span> │\n",
       "├──────────────────────────────────────┼─────────────────────────────┼─────────────────┤\n",
       "│ dropout_3 (<span style=\"color: #0087ff; text-decoration-color: #0087ff\">Dropout</span>)                  │ (<span style=\"color: #00d7ff; text-decoration-color: #00d7ff\">None</span>, <span style=\"color: #00af00; text-decoration-color: #00af00\">500</span>)                 │               <span style=\"color: #00af00; text-decoration-color: #00af00\">0</span> │\n",
       "├──────────────────────────────────────┼─────────────────────────────┼─────────────────┤\n",
       "│ dense_3 (<span style=\"color: #0087ff; text-decoration-color: #0087ff\">Dense</span>)                      │ (<span style=\"color: #00d7ff; text-decoration-color: #00d7ff\">None</span>, <span style=\"color: #00af00; text-decoration-color: #00af00\">3</span>)                   │           <span style=\"color: #00af00; text-decoration-color: #00af00\">1,503</span> │\n",
       "└──────────────────────────────────────┴─────────────────────────────┴─────────────────┘\n",
       "</pre>\n"
      ],
      "text/plain": [
       "┏━━━━━━━━━━━━━━━━━━━━━━━━━━━━━━━━━━━━━━┳━━━━━━━━━━━━━━━━━━━━━━━━━━━━━┳━━━━━━━━━━━━━━━━━┓\n",
       "┃\u001b[1m \u001b[0m\u001b[1mLayer (type)                        \u001b[0m\u001b[1m \u001b[0m┃\u001b[1m \u001b[0m\u001b[1mOutput Shape               \u001b[0m\u001b[1m \u001b[0m┃\u001b[1m \u001b[0m\u001b[1m        Param #\u001b[0m\u001b[1m \u001b[0m┃\n",
       "┡━━━━━━━━━━━━━━━━━━━━━━━━━━━━━━━━━━━━━━╇━━━━━━━━━━━━━━━━━━━━━━━━━━━━━╇━━━━━━━━━━━━━━━━━┩\n",
       "│ conv2d_3 (\u001b[38;5;33mConv2D\u001b[0m)                    │ (\u001b[38;5;45mNone\u001b[0m, \u001b[38;5;34m35\u001b[0m, \u001b[38;5;34m35\u001b[0m, \u001b[38;5;34m16\u001b[0m)          │             \u001b[38;5;34m448\u001b[0m │\n",
       "├──────────────────────────────────────┼─────────────────────────────┼─────────────────┤\n",
       "│ max_pooling2d_3 (\u001b[38;5;33mMaxPooling2D\u001b[0m)       │ (\u001b[38;5;45mNone\u001b[0m, \u001b[38;5;34m17\u001b[0m, \u001b[38;5;34m17\u001b[0m, \u001b[38;5;34m16\u001b[0m)          │               \u001b[38;5;34m0\u001b[0m │\n",
       "├──────────────────────────────────────┼─────────────────────────────┼─────────────────┤\n",
       "│ conv2d_4 (\u001b[38;5;33mConv2D\u001b[0m)                    │ (\u001b[38;5;45mNone\u001b[0m, \u001b[38;5;34m17\u001b[0m, \u001b[38;5;34m17\u001b[0m, \u001b[38;5;34m32\u001b[0m)          │           \u001b[38;5;34m4,640\u001b[0m │\n",
       "├──────────────────────────────────────┼─────────────────────────────┼─────────────────┤\n",
       "│ max_pooling2d_4 (\u001b[38;5;33mMaxPooling2D\u001b[0m)       │ (\u001b[38;5;45mNone\u001b[0m, \u001b[38;5;34m8\u001b[0m, \u001b[38;5;34m8\u001b[0m, \u001b[38;5;34m32\u001b[0m)            │               \u001b[38;5;34m0\u001b[0m │\n",
       "├──────────────────────────────────────┼─────────────────────────────┼─────────────────┤\n",
       "│ conv2d_5 (\u001b[38;5;33mConv2D\u001b[0m)                    │ (\u001b[38;5;45mNone\u001b[0m, \u001b[38;5;34m8\u001b[0m, \u001b[38;5;34m8\u001b[0m, \u001b[38;5;34m64\u001b[0m)            │          \u001b[38;5;34m18,496\u001b[0m │\n",
       "├──────────────────────────────────────┼─────────────────────────────┼─────────────────┤\n",
       "│ max_pooling2d_5 (\u001b[38;5;33mMaxPooling2D\u001b[0m)       │ (\u001b[38;5;45mNone\u001b[0m, \u001b[38;5;34m4\u001b[0m, \u001b[38;5;34m4\u001b[0m, \u001b[38;5;34m64\u001b[0m)            │               \u001b[38;5;34m0\u001b[0m │\n",
       "├──────────────────────────────────────┼─────────────────────────────┼─────────────────┤\n",
       "│ dropout_2 (\u001b[38;5;33mDropout\u001b[0m)                  │ (\u001b[38;5;45mNone\u001b[0m, \u001b[38;5;34m4\u001b[0m, \u001b[38;5;34m4\u001b[0m, \u001b[38;5;34m64\u001b[0m)            │               \u001b[38;5;34m0\u001b[0m │\n",
       "├──────────────────────────────────────┼─────────────────────────────┼─────────────────┤\n",
       "│ flatten_1 (\u001b[38;5;33mFlatten\u001b[0m)                  │ (\u001b[38;5;45mNone\u001b[0m, \u001b[38;5;34m1024\u001b[0m)                │               \u001b[38;5;34m0\u001b[0m │\n",
       "├──────────────────────────────────────┼─────────────────────────────┼─────────────────┤\n",
       "│ dense_2 (\u001b[38;5;33mDense\u001b[0m)                      │ (\u001b[38;5;45mNone\u001b[0m, \u001b[38;5;34m500\u001b[0m)                 │         \u001b[38;5;34m512,500\u001b[0m │\n",
       "├──────────────────────────────────────┼─────────────────────────────┼─────────────────┤\n",
       "│ dropout_3 (\u001b[38;5;33mDropout\u001b[0m)                  │ (\u001b[38;5;45mNone\u001b[0m, \u001b[38;5;34m500\u001b[0m)                 │               \u001b[38;5;34m0\u001b[0m │\n",
       "├──────────────────────────────────────┼─────────────────────────────┼─────────────────┤\n",
       "│ dense_3 (\u001b[38;5;33mDense\u001b[0m)                      │ (\u001b[38;5;45mNone\u001b[0m, \u001b[38;5;34m3\u001b[0m)                   │           \u001b[38;5;34m1,503\u001b[0m │\n",
       "└──────────────────────────────────────┴─────────────────────────────┴─────────────────┘\n"
      ]
     },
     "metadata": {},
     "output_type": "display_data"
    },
    {
     "data": {
      "text/html": [
       "<pre style=\"white-space:pre;overflow-x:auto;line-height:normal;font-family:Menlo,'DejaVu Sans Mono',consolas,'Courier New',monospace\"><span style=\"font-weight: bold\"> Total params: </span><span style=\"color: #00af00; text-decoration-color: #00af00\">537,587</span> (2.05 MB)\n",
       "</pre>\n"
      ],
      "text/plain": [
       "\u001b[1m Total params: \u001b[0m\u001b[38;5;34m537,587\u001b[0m (2.05 MB)\n"
      ]
     },
     "metadata": {},
     "output_type": "display_data"
    },
    {
     "data": {
      "text/html": [
       "<pre style=\"white-space:pre;overflow-x:auto;line-height:normal;font-family:Menlo,'DejaVu Sans Mono',consolas,'Courier New',monospace\"><span style=\"font-weight: bold\"> Trainable params: </span><span style=\"color: #00af00; text-decoration-color: #00af00\">537,587</span> (2.05 MB)\n",
       "</pre>\n"
      ],
      "text/plain": [
       "\u001b[1m Trainable params: \u001b[0m\u001b[38;5;34m537,587\u001b[0m (2.05 MB)\n"
      ]
     },
     "metadata": {},
     "output_type": "display_data"
    },
    {
     "data": {
      "text/html": [
       "<pre style=\"white-space:pre;overflow-x:auto;line-height:normal;font-family:Menlo,'DejaVu Sans Mono',consolas,'Courier New',monospace\"><span style=\"font-weight: bold\"> Non-trainable params: </span><span style=\"color: #00af00; text-decoration-color: #00af00\">0</span> (0.00 B)\n",
       "</pre>\n"
      ],
      "text/plain": [
       "\u001b[1m Non-trainable params: \u001b[0m\u001b[38;5;34m0\u001b[0m (0.00 B)\n"
      ]
     },
     "metadata": {},
     "output_type": "display_data"
    }
   ],
   "source": [
    "model = Sequential()\n",
    "model.add(Conv2D(filters = 16, kernel_size = 3,  padding='same', activation = 'relu', input_shape = (35,35,3)))\n",
    "model.add(MaxPooling2D(pool_size = 2))\n",
    "model.add(Conv2D(filters = 32, kernel_size = 3,  padding='same', activation = 'relu'))\n",
    "model.add(MaxPooling2D(pool_size = 2))\n",
    "model.add(Conv2D(filters = 64, kernel_size = 3,  padding='same', activation = 'relu'))\n",
    "model.add(MaxPooling2D(pool_size = 2))\n",
    "model.add(Dropout(0.3))\n",
    "model.add(Flatten())\n",
    "model.add(Dense(units = 500, activation = 'relu'))\n",
    "model.add(Dropout(0.3))\n",
    "model.add(Dense(units = 3, activation = 'softmax'))\n",
    "\n",
    "model.summary()"
   ]
  },
  {
   "cell_type": "code",
   "execution_count": 83,
   "id": "fc4b57cb-d65d-4c18-b709-aaa5fb1b2609",
   "metadata": {},
   "outputs": [
    {
     "name": "stdout",
     "output_type": "stream",
     "text": [
      "Found 3254 images belonging to 3 classes.\n",
      "Found 572 images belonging to 3 classes.\n",
      "Found 243 images belonging to 3 classes.\n"
     ]
    }
   ],
   "source": [
    "batch_size = 8\n",
    "epochs = 50\n",
    "\n",
    "datagen = ImageDataGenerator(\n",
    "    rescale=1.0 / 255, horizontal_flip=True, zoom_range=0.1, shear_range=0.2, width_shift_range=0.1,\n",
    "    height_shift_range=0.1, rotation_range=4, vertical_flip=False\n",
    "\n",
    ")\n",
    "\n",
    "val_datagen = ImageDataGenerator(\n",
    "    rescale=1.0 / 255\n",
    ")\n",
    " \n",
    "\n",
    "train_generator = datagen.flow_from_directory(\n",
    "    directory=r\"D:\\face_mask\\train\", \n",
    "    target_size=(35, 35),\n",
    "    class_mode=\"categorical\", batch_size=batch_size, shuffle=True\n",
    ")\n",
    "\n",
    "# Validation data\n",
    "val_generator = val_datagen.flow_from_directory(\n",
    "    directory=r\"D:\\face_mask\\val\", \n",
    "    target_size=(35, 35),\n",
    "    class_mode=\"categorical\", batch_size=batch_size, shuffle=True\n",
    ")\n",
    "\n",
    "# Test data\n",
    "test_generator = val_datagen.flow_from_directory(\n",
    "    directory=r\"D:\\face_mask\\test\", \n",
    "    target_size=(35, 35),\n",
    "    class_mode=\"categorical\", batch_size=batch_size, shuffle=False\n",
    ")"
   ]
  },
  {
   "cell_type": "code",
   "execution_count": 84,
   "id": "dfe1f3eb-e183-4f2b-9c1d-3ffa817fb8aa",
   "metadata": {},
   "outputs": [
    {
     "name": "stdout",
     "output_type": "stream",
     "text": [
      "steps_per_epoch: 50\n",
      "val_steps: 9\n"
     ]
    }
   ],
   "source": [
    "data_size = len(train_generator)\n",
    "\n",
    "steps_per_epoch = int(data_size / batch_size)\n",
    "print(f\"steps_per_epoch: {steps_per_epoch}\")\n",
    "\n",
    "val_steps = int(len(val_generator) // batch_size)\n",
    "print(f\"val_steps: {val_steps}\")"
   ]
  },
  {
   "cell_type": "code",
   "execution_count": 85,
   "id": "4f8fb78d-2ca4-46d9-9493-de5f2351eddb",
   "metadata": {},
   "outputs": [],
   "source": [
    "model.compile(\n",
    "    optimizer=\"adam\",\n",
    "    loss=\"categorical_crossentropy\",\n",
    "    metrics=['accuracy', 'Recall', 'Precision', 'AUC']\n",
    ")"
   ]
  },
  {
   "cell_type": "code",
   "execution_count": 86,
   "id": "6a3c587f-7d73-4b4a-835b-61005cec2174",
   "metadata": {},
   "outputs": [],
   "source": [
    "early_stopping = EarlyStopping(monitor='val_loss', patience=8, restore_best_weights=True)"
   ]
  },
  {
   "cell_type": "code",
   "execution_count": 87,
   "id": "3935eda1-9932-48fe-b34e-390824c43ae3",
   "metadata": {},
   "outputs": [],
   "source": [
    "lrr = ReduceLROnPlateau(monitor='val_loss',patience=8,verbose=1,factor=0.5, min_lr=0.00001)\n"
   ]
  },
  {
   "cell_type": "code",
   "execution_count": 88,
   "id": "2d5a28e0-84af-4463-9cc5-314c74053e88",
   "metadata": {},
   "outputs": [
    {
     "name": "stdout",
     "output_type": "stream",
     "text": [
      "Epoch 1/50\n"
     ]
    },
    {
     "name": "stderr",
     "output_type": "stream",
     "text": [
      "C:\\Users\\mrroy\\AppData\\Local\\Programs\\Python\\Python312\\Lib\\site-packages\\keras\\src\\trainers\\data_adapters\\py_dataset_adapter.py:121: UserWarning: Your `PyDataset` class should call `super().__init__(**kwargs)` in its constructor. `**kwargs` can include `workers`, `use_multiprocessing`, `max_queue_size`. Do not pass these arguments to `fit()`, as they will be ignored.\n",
      "  self._warn_if_super_not_called()\n"
     ]
    },
    {
     "name": "stdout",
     "output_type": "stream",
     "text": [
      "\u001b[1m50/50\u001b[0m \u001b[32m━━━━━━━━━━━━━━━━━━━━\u001b[0m\u001b[37m\u001b[0m \u001b[1m3s\u001b[0m 25ms/step - AUC: 0.8439 - Precision: 0.7603 - Recall: 0.6698 - accuracy: 0.7086 - loss: 0.7450 - val_AUC: 0.9794 - val_Precision: 0.9524 - val_Recall: 0.8333 - val_accuracy: 0.9028 - val_loss: 0.4520 - learning_rate: 0.0010\n",
      "Epoch 2/50\n",
      "\u001b[1m50/50\u001b[0m \u001b[32m━━━━━━━━━━━━━━━━━━━━\u001b[0m\u001b[37m\u001b[0m \u001b[1m1s\u001b[0m 19ms/step - AUC: 0.9506 - Precision: 0.8864 - Recall: 0.7971 - accuracy: 0.8465 - loss: 0.4327 - val_AUC: 0.9592 - val_Precision: 0.8889 - val_Recall: 0.8889 - val_accuracy: 0.8889 - val_loss: 0.4215 - learning_rate: 0.0010\n",
      "Epoch 3/50\n",
      "\u001b[1m50/50\u001b[0m \u001b[32m━━━━━━━━━━━━━━━━━━━━\u001b[0m\u001b[37m\u001b[0m \u001b[1m1s\u001b[0m 18ms/step - AUC: 0.9774 - Precision: 0.9075 - Recall: 0.8917 - accuracy: 0.9025 - loss: 0.2809 - val_AUC: 0.9577 - val_Precision: 0.8732 - val_Recall: 0.8611 - val_accuracy: 0.8611 - val_loss: 0.4416 - learning_rate: 0.0010\n",
      "Epoch 4/50\n",
      "\u001b[1m50/50\u001b[0m \u001b[32m━━━━━━━━━━━━━━━━━━━━\u001b[0m\u001b[37m\u001b[0m \u001b[1m1s\u001b[0m 19ms/step - AUC: 0.9694 - Precision: 0.8963 - Recall: 0.8720 - accuracy: 0.8895 - loss: 0.3323 - val_AUC: 0.9918 - val_Precision: 0.9444 - val_Recall: 0.9444 - val_accuracy: 0.9444 - val_loss: 0.1837 - learning_rate: 0.0010\n",
      "Epoch 5/50\n",
      "\u001b[1m50/50\u001b[0m \u001b[32m━━━━━━━━━━━━━━━━━━━━\u001b[0m\u001b[37m\u001b[0m \u001b[1m1s\u001b[0m 16ms/step - AUC: 0.9893 - Precision: 0.9413 - Recall: 0.9295 - accuracy: 0.9417 - loss: 0.1879 - val_AUC: 0.9923 - val_Precision: 0.9437 - val_Recall: 0.9306 - val_accuracy: 0.9444 - val_loss: 0.1714 - learning_rate: 0.0010\n",
      "Epoch 6/50\n",
      "\u001b[1m50/50\u001b[0m \u001b[32m━━━━━━━━━━━━━━━━━━━━\u001b[0m\u001b[37m\u001b[0m \u001b[1m1s\u001b[0m 16ms/step - AUC: 0.9816 - Precision: 0.9298 - Recall: 0.9202 - accuracy: 0.9286 - loss: 0.2335 - val_AUC: 0.9712 - val_Precision: 0.9306 - val_Recall: 0.9306 - val_accuracy: 0.9306 - val_loss: 0.3024 - learning_rate: 0.0010\n",
      "Epoch 7/50\n",
      "\u001b[1m50/50\u001b[0m \u001b[32m━━━━━━━━━━━━━━━━━━━━\u001b[0m\u001b[37m\u001b[0m \u001b[1m1s\u001b[0m 17ms/step - AUC: 0.9861 - Precision: 0.9605 - Recall: 0.9539 - accuracy: 0.9581 - loss: 0.1958 - val_AUC: 0.9885 - val_Precision: 0.9444 - val_Recall: 0.9444 - val_accuracy: 0.9444 - val_loss: 0.2058 - learning_rate: 0.0010\n",
      "Epoch 8/50\n",
      "\u001b[1m50/50\u001b[0m \u001b[32m━━━━━━━━━━━━━━━━━━━━\u001b[0m\u001b[37m\u001b[0m \u001b[1m1s\u001b[0m 16ms/step - AUC: 0.9904 - Precision: 0.9394 - Recall: 0.9358 - accuracy: 0.9396 - loss: 0.1834 - val_AUC: 0.9877 - val_Precision: 0.9565 - val_Recall: 0.9167 - val_accuracy: 0.9444 - val_loss: 0.2108 - learning_rate: 0.0010\n",
      "Epoch 9/50\n",
      "\u001b[1m50/50\u001b[0m \u001b[32m━━━━━━━━━━━━━━━━━━━━\u001b[0m\u001b[37m\u001b[0m \u001b[1m0s\u001b[0m 3ms/step - AUC: 0.9868 - Precision: 0.9496 - Recall: 0.9286 - accuracy: 0.9505 - loss: 0.2049 - val_AUC: 0.9769 - val_Precision: 0.9014 - val_Recall: 0.8889 - val_accuracy: 0.8889 - val_loss: 0.2853 - learning_rate: 0.0010\n",
      "Epoch 10/50\n",
      "\u001b[1m 1/50\u001b[0m \u001b[37m━━━━━━━━━━━━━━━━━━━━\u001b[0m \u001b[1m1s\u001b[0m 32ms/step - AUC: 0.9922 - Precision: 0.8750 - Recall: 0.8750 - accuracy: 0.8750 - loss: 0.1529"
     ]
    },
    {
     "name": "stderr",
     "output_type": "stream",
     "text": [
      "C:\\Users\\mrroy\\AppData\\Local\\Programs\\Python\\Python312\\Lib\\site-packages\\keras\\src\\trainers\\epoch_iterator.py:107: UserWarning: Your input ran out of data; interrupting training. Make sure that your dataset or generator can generate at least `steps_per_epoch * epochs` batches. You may need to use the `.repeat()` function when building your dataset.\n",
      "  self._interrupted_warning()\n"
     ]
    },
    {
     "name": "stdout",
     "output_type": "stream",
     "text": [
      "\u001b[1m50/50\u001b[0m \u001b[32m━━━━━━━━━━━━━━━━━━━━\u001b[0m\u001b[37m\u001b[0m \u001b[1m1s\u001b[0m 19ms/step - AUC: 0.9847 - Precision: 0.9402 - Recall: 0.9223 - accuracy: 0.9386 - loss: 0.2382 - val_AUC: 0.9973 - val_Precision: 0.9710 - val_Recall: 0.9306 - val_accuracy: 0.9306 - val_loss: 0.1040 - learning_rate: 0.0010\n",
      "Epoch 11/50\n",
      "\u001b[1m50/50\u001b[0m \u001b[32m━━━━━━━━━━━━━━━━━━━━\u001b[0m\u001b[37m\u001b[0m \u001b[1m1s\u001b[0m 17ms/step - AUC: 0.9666 - Precision: 0.9055 - Recall: 0.8905 - accuracy: 0.8970 - loss: 0.3572 - val_AUC: 0.9800 - val_Precision: 0.9296 - val_Recall: 0.9167 - val_accuracy: 0.9167 - val_loss: 0.2547 - learning_rate: 0.0010\n",
      "Epoch 12/50\n",
      "\u001b[1m50/50\u001b[0m \u001b[32m━━━━━━━━━━━━━━━━━━━━\u001b[0m\u001b[37m\u001b[0m \u001b[1m1s\u001b[0m 17ms/step - AUC: 0.9784 - Precision: 0.9292 - Recall: 0.9157 - accuracy: 0.9252 - loss: 0.2690 - val_AUC: 0.9923 - val_Precision: 0.9296 - val_Recall: 0.9167 - val_accuracy: 0.9167 - val_loss: 0.1842 - learning_rate: 0.0010\n",
      "Epoch 13/50\n",
      "\u001b[1m50/50\u001b[0m \u001b[32m━━━━━━━━━━━━━━━━━━━━\u001b[0m\u001b[37m\u001b[0m \u001b[1m1s\u001b[0m 17ms/step - AUC: 0.9784 - Precision: 0.9354 - Recall: 0.9046 - accuracy: 0.9280 - loss: 0.2590 - val_AUC: 0.9932 - val_Precision: 0.9583 - val_Recall: 0.9583 - val_accuracy: 0.9583 - val_loss: 0.1534 - learning_rate: 0.0010\n",
      "Epoch 14/50\n",
      "\u001b[1m50/50\u001b[0m \u001b[32m━━━━━━━━━━━━━━━━━━━━\u001b[0m\u001b[37m\u001b[0m \u001b[1m1s\u001b[0m 17ms/step - AUC: 0.9776 - Precision: 0.9296 - Recall: 0.9179 - accuracy: 0.9300 - loss: 0.2515 - val_AUC: 0.9960 - val_Precision: 0.9577 - val_Recall: 0.9444 - val_accuracy: 0.9583 - val_loss: 0.1430 - learning_rate: 0.0010\n",
      "Epoch 15/50\n",
      "\u001b[1m50/50\u001b[0m \u001b[32m━━━━━━━━━━━━━━━━━━━━\u001b[0m\u001b[37m\u001b[0m \u001b[1m1s\u001b[0m 15ms/step - AUC: 0.9797 - Precision: 0.9342 - Recall: 0.9292 - accuracy: 0.9345 - loss: 0.2505 - val_AUC: 0.9988 - val_Precision: 0.9859 - val_Recall: 0.9722 - val_accuracy: 0.9722 - val_loss: 0.1205 - learning_rate: 0.0010\n",
      "Epoch 16/50\n",
      "\u001b[1m50/50\u001b[0m \u001b[32m━━━━━━━━━━━━━━━━━━━━\u001b[0m\u001b[37m\u001b[0m \u001b[1m1s\u001b[0m 17ms/step - AUC: 0.9823 - Precision: 0.9460 - Recall: 0.9442 - accuracy: 0.9458 - loss: 0.2257 - val_AUC: 0.9865 - val_Precision: 0.9155 - val_Recall: 0.9028 - val_accuracy: 0.9167 - val_loss: 0.2308 - learning_rate: 0.0010\n",
      "Epoch 17/50\n",
      "\u001b[1m50/50\u001b[0m \u001b[32m━━━━━━━━━━━━━━━━━━━━\u001b[0m\u001b[37m\u001b[0m \u001b[1m1s\u001b[0m 16ms/step - AUC: 0.9823 - Precision: 0.9354 - Recall: 0.9187 - accuracy: 0.9242 - loss: 0.2339 - val_AUC: 0.9771 - val_Precision: 0.9000 - val_Recall: 0.8750 - val_accuracy: 0.8889 - val_loss: 0.2861 - learning_rate: 0.0010\n",
      "Epoch 18/50\n",
      "\n",
      "Epoch 18: ReduceLROnPlateau reducing learning rate to 0.0005000000237487257.\n",
      "\u001b[1m50/50\u001b[0m \u001b[32m━━━━━━━━━━━━━━━━━━━━\u001b[0m\u001b[37m\u001b[0m \u001b[1m0s\u001b[0m 4ms/step - AUC: 0.9994 - Precision: 1.0000 - Recall: 0.9653 - accuracy: 0.9653 - loss: 0.0952 - val_AUC: 0.9970 - val_Precision: 0.9444 - val_Recall: 0.9444 - val_accuracy: 0.9444 - val_loss: 0.1194 - learning_rate: 0.0010\n"
     ]
    }
   ],
   "source": [
    "model_history = model.fit(\n",
    "    x=train_generator,\n",
    "    steps_per_epoch=steps_per_epoch,\n",
    "    epochs=epochs,\n",
    "    shuffle=True,\n",
    "    validation_data=val_generator,\n",
    "    validation_steps=val_steps,\n",
    "    callbacks=[early_stopping, lrr]\n",
    ")\n"
   ]
  },
  {
   "cell_type": "code",
   "execution_count": 89,
   "id": "dc8496b7-c74c-4669-9703-d7712ed57bf9",
   "metadata": {},
   "outputs": [
    {
     "name": "stdout",
     "output_type": "stream",
     "text": [
      "\u001b[1m31/31\u001b[0m \u001b[32m━━━━━━━━━━━━━━━━━━━━\u001b[0m\u001b[37m\u001b[0m \u001b[1m0s\u001b[0m 7ms/step - AUC: 0.9569 - Precision: 0.8522 - Recall: 0.8421 - accuracy: 0.8421 - loss: 0.4073 \n",
      "0.22390751540660858 || 92.18106865882874 || 92.18106865882874 || 92.56198406219482 || 98.55078458786011\n"
     ]
    }
   ],
   "source": [
    "model_loss, model_acc, recall, precision, auc = model.evaluate(test_generator)\n",
    "print(f'{model_loss} || {model_acc*100} || {recall*100} || {precision*100} || {auc*100}')"
   ]
  },
  {
   "cell_type": "code",
   "execution_count": 90,
   "id": "e90e6db3-f37d-4d79-a05d-42c96ed5d02f",
   "metadata": {},
   "outputs": [
    {
     "name": "stdout",
     "output_type": "stream",
     "text": [
      "\u001b[1m31/31\u001b[0m \u001b[32m━━━━━━━━━━━━━━━━━━━━\u001b[0m\u001b[37m\u001b[0m \u001b[1m0s\u001b[0m 9ms/step \n"
     ]
    },
    {
     "data": {
      "text/plain": [
       "array([[1.54439002e-01, 8.37136149e-01, 8.42483807e-03],\n",
       "       [3.00361887e-02, 9.41451848e-01, 2.85119247e-02],\n",
       "       [1.77336544e-01, 7.62009680e-01, 6.06537424e-02],\n",
       "       [8.05859566e-02, 9.07505989e-01, 1.19080823e-02],\n",
       "       [1.59935027e-01, 8.11221421e-01, 2.88435742e-02],\n",
       "       [3.43450218e-01, 4.38075781e-01, 2.18473986e-01],\n",
       "       [3.95966619e-02, 9.27938640e-01, 3.24647278e-02],\n",
       "       [2.59334134e-04, 9.99734581e-01, 6.07511311e-06],\n",
       "       [1.66283213e-02, 9.60597396e-01, 2.27742754e-02],\n",
       "       [4.39616339e-03, 9.94682610e-01, 9.21268482e-04],\n",
       "       [3.81450797e-03, 9.95135605e-01, 1.04987691e-03],\n",
       "       [5.71631572e-05, 9.99941707e-01, 1.16870115e-06],\n",
       "       [3.37567122e-04, 9.99642015e-01, 2.04114040e-05],\n",
       "       [3.66922212e-03, 9.96263444e-01, 6.73624745e-05],\n",
       "       [3.22986022e-02, 9.59427416e-01, 8.27394333e-03],\n",
       "       [1.60292329e-04, 9.99830842e-01, 8.83969187e-06],\n",
       "       [4.51697148e-02, 9.09659982e-01, 4.51702960e-02],\n",
       "       [1.00040212e-02, 9.86646533e-01, 3.34946997e-03],\n",
       "       [3.42867151e-03, 9.96405482e-01, 1.65907783e-04],\n",
       "       [4.62797917e-02, 8.69343460e-01, 8.43767002e-02],\n",
       "       [2.54725968e-03, 9.97348070e-01, 1.04681567e-04],\n",
       "       [4.51230258e-03, 9.93696630e-01, 1.79112633e-03],\n",
       "       [3.81950027e-04, 9.99532223e-01, 8.58292842e-05],\n",
       "       [2.22844747e-03, 9.97747123e-01, 2.44052262e-05],\n",
       "       [1.15678189e-02, 9.68185723e-01, 2.02464033e-02],\n",
       "       [4.86311590e-04, 9.99482870e-01, 3.08076596e-05],\n",
       "       [3.69014358e-03, 1.23794014e-02, 9.83930409e-01],\n",
       "       [9.28145659e-04, 9.98762250e-01, 3.09562485e-04],\n",
       "       [1.75207024e-05, 9.99981999e-01, 4.69037531e-07],\n",
       "       [1.91580262e-02, 1.57249704e-01, 8.23592246e-01],\n",
       "       [1.08967476e-01, 7.76439905e-01, 1.14592589e-01],\n",
       "       [4.26154397e-02, 9.32986140e-01, 2.43984517e-02],\n",
       "       [2.23599225e-01, 6.07755661e-01, 1.68645158e-01],\n",
       "       [4.03972263e-05, 9.99959230e-01, 3.80866936e-07],\n",
       "       [8.68410862e-04, 9.98685539e-01, 4.46046586e-04],\n",
       "       [2.11110301e-02, 6.65844560e-01, 3.13044369e-01],\n",
       "       [1.76208168e-02, 9.49240148e-01, 3.31390575e-02],\n",
       "       [7.77782574e-02, 7.15084553e-01, 2.07137242e-01],\n",
       "       [6.53916679e-04, 9.99247193e-01, 9.89557011e-05],\n",
       "       [1.22592508e-04, 9.99876618e-01, 8.33087313e-07],\n",
       "       [3.19866762e-02, 9.15384173e-01, 5.26291803e-02],\n",
       "       [2.25978997e-03, 9.97717261e-01, 2.29552206e-05],\n",
       "       [4.13760496e-03, 9.93259251e-01, 2.60307151e-03],\n",
       "       [1.44397197e-02, 9.75108385e-01, 1.04518533e-02],\n",
       "       [2.64732493e-03, 9.95999098e-01, 1.35360751e-03],\n",
       "       [3.10498849e-03, 9.93693531e-01, 3.20146978e-03],\n",
       "       [2.39276439e-01, 6.78540766e-01, 8.21828321e-02],\n",
       "       [4.35047857e-02, 9.48715627e-01, 7.77959265e-03],\n",
       "       [6.19243458e-03, 9.92227316e-01, 1.58026977e-03],\n",
       "       [8.79995932e-05, 9.99906778e-01, 5.22684923e-06],\n",
       "       [1.25310719e-02, 9.85806406e-01, 1.66254584e-03],\n",
       "       [7.84281641e-03, 9.89452243e-01, 2.70487508e-03],\n",
       "       [1.17845496e-03, 9.98679340e-01, 1.42234829e-04],\n",
       "       [6.44297339e-03, 9.91048038e-01, 2.50905682e-03],\n",
       "       [8.23446810e-02, 5.89395881e-01, 3.28259438e-01],\n",
       "       [2.63074674e-02, 9.69353735e-01, 4.33876179e-03],\n",
       "       [2.20509362e-03, 9.97444153e-01, 3.50712449e-04],\n",
       "       [2.88776327e-02, 8.51815581e-01, 1.19306795e-01],\n",
       "       [1.11613411e-03, 9.98831332e-01, 5.24845273e-05],\n",
       "       [2.02785842e-02, 1.49390459e-01, 8.30330968e-01],\n",
       "       [3.10503924e-03, 9.95596468e-01, 1.29846856e-03],\n",
       "       [9.33649670e-03, 6.43732190e-01, 3.46931338e-01],\n",
       "       [1.84456992e-03, 9.97893870e-01, 2.61565758e-04],\n",
       "       [6.67610951e-03, 9.92137849e-01, 1.18596887e-03],\n",
       "       [8.62212759e-03, 9.90015566e-01, 1.36228488e-03],\n",
       "       [3.02953762e-03, 9.96772468e-01, 1.97917703e-04],\n",
       "       [1.17905336e-02, 9.86514628e-01, 1.69483304e-03],\n",
       "       [2.39402372e-02, 1.01788230e-01, 8.74271512e-01],\n",
       "       [3.10425507e-03, 9.96175051e-01, 7.20619690e-04],\n",
       "       [1.85871776e-03, 9.97661114e-01, 4.80168703e-04],\n",
       "       [2.61125097e-04, 9.99726593e-01, 1.23222317e-05],\n",
       "       [1.66446005e-03, 9.98189151e-01, 1.46368737e-04],\n",
       "       [5.05882362e-03, 9.94693339e-01, 2.47897493e-04],\n",
       "       [8.35248153e-04, 9.98652697e-01, 5.12030791e-04],\n",
       "       [8.05548858e-03, 1.71932861e-01, 8.20011616e-01],\n",
       "       [1.78475366e-05, 9.99982119e-01, 9.13190163e-08],\n",
       "       [3.09985422e-04, 9.99681473e-01, 8.56139650e-06],\n",
       "       [4.27275198e-04, 9.99550641e-01, 2.20430247e-05],\n",
       "       [3.16175893e-02, 3.79577488e-01, 5.88804901e-01],\n",
       "       [7.48849532e-04, 9.99085188e-01, 1.65997553e-04],\n",
       "       [1.83527041e-02, 9.73488867e-01, 8.15841462e-03],\n",
       "       [2.08743215e-02, 9.73779261e-01, 5.34641091e-03],\n",
       "       [1.61647418e-04, 9.99757588e-01, 8.07125107e-05],\n",
       "       [3.73249431e-03, 9.95235980e-01, 1.03158213e-03],\n",
       "       [1.73286407e-03, 9.97469902e-01, 7.97302928e-04],\n",
       "       [5.57937706e-03, 9.92727757e-01, 1.69288297e-03],\n",
       "       [2.23535928e-03, 9.97658968e-01, 1.05611194e-04],\n",
       "       [1.15098897e-03, 9.98791516e-01, 5.74954174e-05],\n",
       "       [1.88070361e-03, 9.97947276e-01, 1.71992593e-04],\n",
       "       [1.33028789e-03, 9.98624563e-01, 4.52036948e-05],\n",
       "       [4.45613787e-02, 5.23457527e-01, 4.31981117e-01],\n",
       "       [3.49223288e-03, 9.91223216e-01, 5.28458552e-03],\n",
       "       [6.57610735e-03, 9.90144730e-01, 3.27922567e-03],\n",
       "       [1.23613036e-05, 9.99987602e-01, 3.38175212e-08],\n",
       "       [2.64066271e-04, 9.99722302e-01, 1.36103536e-05],\n",
       "       [2.53919512e-02, 8.21000814e-01, 1.53607175e-01],\n",
       "       [4.91279848e-02, 6.64929628e-01, 2.85942405e-01],\n",
       "       [4.55805883e-02, 8.92687321e-01, 6.17320836e-02],\n",
       "       [6.20831847e-02, 7.47634649e-01, 1.90282181e-01],\n",
       "       [1.21550402e-04, 9.99688148e-01, 1.90357518e-04],\n",
       "       [1.38832838e-03, 9.98527050e-01, 8.45527247e-05],\n",
       "       [4.46502259e-03, 9.91107643e-01, 4.42741206e-03],\n",
       "       [3.98913136e-04, 9.99513865e-01, 8.72829551e-05],\n",
       "       [6.28181221e-03, 9.91152346e-01, 2.56587053e-03],\n",
       "       [1.34655824e-02, 9.71998990e-01, 1.45353703e-02],\n",
       "       [2.75699073e-03, 9.96511638e-01, 7.31410692e-04],\n",
       "       [4.99911420e-03, 9.93914783e-01, 1.08609500e-03],\n",
       "       [5.16259251e-03, 9.93376315e-01, 1.46105664e-03],\n",
       "       [1.47626151e-05, 9.99985218e-01, 4.54360993e-08],\n",
       "       [1.39933052e-02, 6.40931129e-01, 3.45075548e-01],\n",
       "       [7.25577446e-03, 7.46033370e-01, 2.46710822e-01],\n",
       "       [4.13051061e-03, 9.93824005e-01, 2.04545516e-03],\n",
       "       [3.84137873e-03, 9.90736306e-01, 5.42235514e-03],\n",
       "       [1.53375855e-02, 9.43325400e-01, 4.13370356e-02],\n",
       "       [7.71326246e-04, 9.99201357e-01, 2.73258120e-05],\n",
       "       [2.15123338e-03, 9.97758269e-01, 9.05091438e-05],\n",
       "       [1.51163964e-02, 9.29955840e-01, 5.49278110e-02],\n",
       "       [1.08664227e-03, 9.98856544e-01, 5.67792158e-05],\n",
       "       [6.01615058e-03, 9.70457196e-01, 2.35266145e-02],\n",
       "       [1.70053868e-03, 9.97840285e-01, 4.59167146e-04],\n",
       "       [6.38939600e-05, 9.99934554e-01, 1.58237867e-06],\n",
       "       [1.34111624e-02, 9.83893931e-01, 2.69484101e-03],\n",
       "       [2.60588108e-03, 9.96276259e-01, 1.11794542e-03],\n",
       "       [1.35109483e-04, 9.99863386e-01, 1.54492318e-06],\n",
       "       [2.50920799e-04, 9.99745905e-01, 3.20425761e-06],\n",
       "       [4.72719461e-04, 9.98116016e-01, 1.41130318e-03],\n",
       "       [4.88357060e-03, 9.45448041e-01, 4.96684201e-02],\n",
       "       [3.38125881e-03, 9.95967746e-01, 6.50963688e-04],\n",
       "       [7.98973560e-05, 9.99918818e-01, 1.23198834e-06],\n",
       "       [2.27430407e-02, 5.54199815e-01, 4.23057109e-01],\n",
       "       [8.73102050e-04, 9.99079585e-01, 4.72985157e-05],\n",
       "       [7.30505097e-04, 9.99057353e-01, 2.12187108e-04],\n",
       "       [4.68906062e-03, 9.94761050e-01, 5.49931254e-04],\n",
       "       [1.45140642e-04, 9.99852538e-01, 2.35408856e-06],\n",
       "       [1.01193925e-03, 9.96338129e-01, 2.64991634e-03],\n",
       "       [1.94641281e-04, 9.99799073e-01, 6.32147839e-06],\n",
       "       [8.55488144e-03, 9.86828744e-01, 4.61638765e-03],\n",
       "       [1.82943419e-03, 9.96723354e-01, 1.44720450e-03],\n",
       "       [1.49284219e-02, 9.80320573e-01, 4.75106528e-03],\n",
       "       [2.43771058e-02, 9.22813654e-01, 5.28092384e-02],\n",
       "       [5.18635586e-02, 7.34874785e-01, 2.13261694e-01],\n",
       "       [3.23026004e-04, 9.99581516e-01, 9.55087016e-05],\n",
       "       [3.01703829e-02, 9.50472534e-01, 1.93571299e-02],\n",
       "       [4.65563908e-02, 6.31840765e-01, 3.21602851e-01],\n",
       "       [5.30259742e-04, 9.98663068e-01, 8.06713244e-04],\n",
       "       [2.32729464e-04, 9.99760687e-01, 6.58079171e-06],\n",
       "       [1.94340628e-02, 9.79251504e-01, 1.31440151e-03],\n",
       "       [6.99456828e-03, 9.92082000e-01, 9.23397078e-04],\n",
       "       [1.10637583e-02, 9.87438381e-01, 1.49783748e-03],\n",
       "       [4.55917063e-04, 9.99527574e-01, 1.65591591e-05],\n",
       "       [1.06525631e-03, 1.97774880e-02, 9.79157269e-01],\n",
       "       [1.01894252e-02, 9.87305641e-01, 2.50489544e-03],\n",
       "       [1.00262009e-01, 7.19623864e-01, 1.80114165e-01],\n",
       "       [4.14269278e-03, 9.95530546e-01, 3.26777605e-04],\n",
       "       [1.05479918e-03, 9.98602927e-01, 3.42250365e-04],\n",
       "       [7.13960966e-03, 9.72325385e-01, 2.05349755e-02],\n",
       "       [6.85658597e-04, 9.98530269e-01, 7.84070406e-04],\n",
       "       [1.20872408e-02, 9.54455376e-01, 3.34574096e-02],\n",
       "       [3.21659027e-03, 9.96351123e-01, 4.32241184e-04],\n",
       "       [1.53534953e-02, 9.09356654e-01, 7.52898529e-02],\n",
       "       [7.30965912e-05, 9.99925256e-01, 1.69408031e-06],\n",
       "       [2.13425905e-02, 4.28124517e-01, 5.50532937e-01],\n",
       "       [1.05582760e-03, 9.98930514e-01, 1.36325698e-05],\n",
       "       [3.78053403e-04, 9.99618530e-01, 3.33052321e-06],\n",
       "       [5.41516383e-05, 9.99945283e-01, 5.57872681e-07],\n",
       "       [2.04305761e-02, 9.76476848e-01, 3.09251668e-03],\n",
       "       [2.31081457e-03, 9.97334242e-01, 3.54961288e-04],\n",
       "       [3.73014947e-03, 9.95948136e-01, 3.21722327e-04],\n",
       "       [1.57326314e-04, 9.99840021e-01, 2.60848333e-06],\n",
       "       [1.74354172e-05, 9.99982357e-01, 1.65048618e-07],\n",
       "       [3.57614161e-04, 9.99634027e-01, 8.35484661e-06],\n",
       "       [1.64140365e-05, 9.99983191e-01, 3.40087922e-07],\n",
       "       [3.03031821e-02, 9.47880328e-01, 2.18164828e-02],\n",
       "       [6.43662736e-03, 9.93128777e-01, 4.34612652e-04],\n",
       "       [5.79326674e-02, 1.63141832e-01, 7.78925419e-01],\n",
       "       [6.15497446e-03, 5.93068339e-02, 9.34538245e-01],\n",
       "       [3.65825894e-04, 9.99613702e-01, 2.04715889e-05],\n",
       "       [9.75560583e-03, 9.88812685e-01, 1.43173547e-03],\n",
       "       [1.93030220e-02, 9.75216210e-01, 5.48072811e-03],\n",
       "       [2.83392658e-03, 9.95327592e-01, 1.83847744e-03],\n",
       "       [1.99637283e-02, 9.52426195e-01, 2.76100431e-02],\n",
       "       [1.15906820e-02, 9.85807061e-01, 2.60223681e-03],\n",
       "       [3.19895262e-05, 9.99967933e-01, 4.36053789e-08],\n",
       "       [4.54198336e-03, 9.93413866e-01, 2.04411871e-03],\n",
       "       [2.92601734e-02, 9.61363971e-01, 9.37584229e-03],\n",
       "       [4.51486818e-02, 8.86927664e-01, 6.79236948e-02],\n",
       "       [1.06120199e-01, 6.19367838e-01, 2.74511933e-01],\n",
       "       [3.84978615e-02, 9.59589779e-01, 1.91238651e-03],\n",
       "       [3.49463407e-05, 9.99964833e-01, 1.97327481e-07],\n",
       "       [7.61526451e-03, 9.91606951e-01, 7.77793874e-04],\n",
       "       [6.67298818e-03, 9.93148506e-01, 1.78560556e-04],\n",
       "       [5.28961513e-03, 9.94451463e-01, 2.58940709e-04],\n",
       "       [2.70947590e-02, 9.62855160e-01, 1.00501226e-02],\n",
       "       [1.59609457e-03, 9.98339176e-01, 6.46496846e-05],\n",
       "       [8.50331504e-04, 9.99027848e-01, 1.21777950e-04],\n",
       "       [1.43841447e-04, 9.99782622e-01, 7.35530411e-05],\n",
       "       [3.19830701e-03, 9.96515393e-01, 2.86305149e-04],\n",
       "       [8.23918381e-04, 9.97134924e-01, 2.04120227e-03],\n",
       "       [3.10715521e-03, 9.82966542e-01, 1.39263272e-02],\n",
       "       [4.43757133e-04, 9.99547422e-01, 8.83655412e-06],\n",
       "       [3.31987464e-03, 9.96465087e-01, 2.15045817e-04],\n",
       "       [2.11379156e-02, 8.05054754e-02, 8.98356616e-01],\n",
       "       [6.83313003e-03, 3.09534892e-02, 9.62213516e-01],\n",
       "       [2.23404486e-02, 8.48385096e-02, 8.92821133e-01],\n",
       "       [5.96172316e-03, 4.82285358e-02, 9.45809722e-01],\n",
       "       [1.76278185e-02, 1.21662185e-01, 8.60710025e-01],\n",
       "       [6.68257922e-02, 5.45765281e-01, 3.87408942e-01],\n",
       "       [1.71278063e-02, 7.54435956e-02, 9.07428563e-01],\n",
       "       [9.95605253e-04, 8.11870862e-03, 9.90885675e-01],\n",
       "       [1.34190703e-02, 6.03096299e-02, 9.26271379e-01],\n",
       "       [1.03281774e-02, 5.93944415e-02, 9.30277407e-01],\n",
       "       [2.92679258e-02, 2.07610950e-01, 7.63121009e-01],\n",
       "       [9.17151291e-03, 6.92966059e-02, 9.21531916e-01],\n",
       "       [6.89165527e-03, 3.94086652e-02, 9.53699708e-01],\n",
       "       [1.12366648e-02, 6.79682568e-02, 9.20795083e-01],\n",
       "       [1.48687484e-02, 8.66019204e-02, 8.98529232e-01],\n",
       "       [4.67289658e-03, 3.47784497e-02, 9.60548699e-01],\n",
       "       [8.33135992e-02, 5.51851511e-01, 3.64834845e-01],\n",
       "       [4.41903658e-02, 1.16719298e-01, 8.39090288e-01],\n",
       "       [6.11251034e-03, 5.19678816e-02, 9.41919625e-01],\n",
       "       [1.33086611e-02, 5.32843806e-02, 9.33407009e-01],\n",
       "       [2.06733495e-02, 1.00811154e-01, 8.78515482e-01],\n",
       "       [2.73140743e-02, 7.86931887e-02, 8.93992782e-01],\n",
       "       [1.19356504e-02, 5.49345799e-02, 9.33129787e-01],\n",
       "       [1.02519738e-02, 4.87631559e-02, 9.40984964e-01],\n",
       "       [7.41385855e-03, 3.72136310e-02, 9.55372512e-01],\n",
       "       [5.54560730e-03, 3.65416706e-02, 9.57912683e-01],\n",
       "       [7.30578089e-03, 3.31253484e-02, 9.59568799e-01],\n",
       "       [2.07009818e-02, 5.83406799e-02, 9.20958340e-01],\n",
       "       [4.52982038e-02, 1.57050624e-01, 7.97651112e-01],\n",
       "       [1.50150638e-02, 9.44049060e-02, 8.90579998e-01],\n",
       "       [1.62456576e-02, 7.71442130e-02, 9.06610131e-01],\n",
       "       [1.41927809e-01, 3.08983833e-01, 5.49088418e-01],\n",
       "       [3.99670098e-03, 2.99290065e-02, 9.66074347e-01],\n",
       "       [8.78819078e-03, 6.12562969e-02, 9.29955542e-01],\n",
       "       [8.77231639e-03, 4.19963747e-02, 9.49231327e-01],\n",
       "       [4.41653021e-02, 7.82199055e-02, 8.77614856e-01],\n",
       "       [2.08338592e-02, 9.86154303e-02, 8.80550623e-01],\n",
       "       [2.86019221e-02, 9.40857902e-02, 8.77312362e-01],\n",
       "       [7.04494398e-03, 4.77134213e-02, 9.45241570e-01],\n",
       "       [1.85952187e-02, 9.62034017e-02, 8.85201335e-01],\n",
       "       [5.59592666e-03, 3.73424068e-02, 9.57061648e-01],\n",
       "       [7.25519061e-02, 2.17742011e-01, 7.09706068e-01]], dtype=float32)"
      ]
     },
     "execution_count": 90,
     "metadata": {},
     "output_type": "execute_result"
    }
   ],
   "source": [
    "predictions = model.predict(test_generator)\n",
    "predictions"
   ]
  },
  {
   "cell_type": "code",
   "execution_count": 91,
   "id": "ea6e1819-9fa4-453c-b751-c70832526e2d",
   "metadata": {},
   "outputs": [],
   "source": [
    "def plot_loss_and_accuracy(history):\n",
    "    history_df = pd.DataFrame(history)\n",
    "    fig, ax = plt.subplots(1,2, figsize=(12, 6))\n",
    "    \n",
    "    history_df.loc[0:, ['loss', 'val_loss']].plot(ax=ax[0])\n",
    "    ax[0].set(xlabel = 'epoch number', ylabel = 'loss')\n",
    "\n",
    "    history_df.loc[0:, ['accuracy', 'val_accuracy']].plot(ax=ax[1])\n",
    "    ax[1].set(xlabel = 'epoch number', ylabel = 'accuracy')"
   ]
  },
  {
   "cell_type": "code",
   "execution_count": 92,
   "id": "b5e362a5-a2ae-42f6-8666-b303bd794893",
   "metadata": {},
   "outputs": [
    {
     "data": {
      "image/png": "[encoded data removed]",
      "text/plain": [
       "<Figure size 1200x600 with 2 Axes>"
      ]
     },
     "metadata": {},
     "output_type": "display_data"
    }
   ],
   "source": [
    "plot_loss_and_accuracy(model_history.history)"
   ]
  },
  {
   "cell_type": "code",
   "execution_count": 93,
   "id": "2a45c22a-04ca-42de-9a71-b8759bf0d320",
   "metadata": {},
   "outputs": [
    {
     "name": "stdout",
     "output_type": "stream",
     "text": [
      "\u001b[1m31/31\u001b[0m \u001b[32m━━━━━━━━━━━━━━━━━━━━\u001b[0m\u001b[37m\u001b[0m \u001b[1m0s\u001b[0m 6ms/step \n",
      "without_mask || without_mask\\maksssksksss134_(np.int64(343), np.int64(15)).png\n"
     ]
    },
    {
     "data": {
      "image/png": "[encoded data removed]",
      "text/plain": [
       "<Figure size 640x480 with 1 Axes>"
      ]
     },
     "metadata": {},
     "output_type": "display_data"
    }
   ],
   "source": [
    "paths = test_generator.filenames\n",
    "y_pred = model.predict(test_generator).argmax(axis=1)\n",
    "classes = test_generator.class_indices\n",
    "\n",
    "a_img_rand = np.random.randint(0,len(paths))\n",
    "img = cv2.imread(os.path.join(output_data_path,'test', paths[a_img_rand]))      \n",
    "colored_img = cv2.cvtColor(img, cv2.COLOR_RGB2BGR)\n",
    "\n",
    "plt.imshow(colored_img)\n",
    "true_label = paths[a_img_rand].split('/')[0]\n",
    "predicted_label = list(classes)[y_pred[a_img_rand]]\n",
    "print(f'{predicted_label} || {true_label}')"
   ]
  },
  {
   "cell_type": "code",
   "execution_count": 94,
   "id": "9f078bb0-074e-4e06-9110-b53384830449",
   "metadata": {},
   "outputs": [],
   "source": [
    "def evaluation(y, y_hat, title = 'Confusion Matrix'):\n",
    "    cm = confusion_matrix(y, y_hat)\n",
    "    sns.heatmap(cm,  cmap= 'PuBu', annot=True, fmt='g', annot_kws={'size':20})\n",
    "    plt.xlabel('predicted', fontsize=18)\n",
    "    plt.ylabel('actual', fontsize=18)\n",
    "    plt.title(title, fontsize=18)\n",
    "    \n",
    "    plt.show()"
   ]
  },
  {
   "cell_type": "code",
   "execution_count": 95,
   "id": "e95bf01b-7ed4-474e-91ff-a00b68b8a4f8",
   "metadata": {},
   "outputs": [
    {
     "name": "stdout",
     "output_type": "stream",
     "text": [
      "\u001b[1m31/31\u001b[0m \u001b[32m━━━━━━━━━━━━━━━━━━━━\u001b[0m\u001b[37m\u001b[0m \u001b[1m0s\u001b[0m 7ms/step \n"
     ]
    },
    {
     "data": {
      "image/png": "[encoded data removed]",
      "text/plain": [
       "<Figure size 640x480 with 2 Axes>"
      ]
     },
     "metadata": {},
     "output_type": "display_data"
    }
   ],
   "source": [
    "y_true = test_generator.labels\n",
    "y_pred = model.predict(test_generator).argmax(axis=1) # Predict prob and get Class Indices\n",
    "\n",
    "evaluation(y_true, y_pred)\n"
   ]
  },
  {
   "cell_type": "code",
   "execution_count": 96,
   "id": "1a0c5b6d-734d-45f6-9d56-b7fce4fcada9",
   "metadata": {},
   "outputs": [
    {
     "data": {
      "text/plain": [
       "{'mask_weared_incorrect': 0, 'with_mask': 1, 'without_mask': 2}"
      ]
     },
     "metadata": {},
     "output_type": "display_data"
    },
    {
     "data": {
      "text/plain": [
       "array([  0, 193,  50])"
      ]
     },
     "execution_count": 96,
     "metadata": {},
     "output_type": "execute_result"
    }
   ],
   "source": [
    "display(classes)\n",
    "np.bincount(y_pred)"
   ]
  },
  {
   "cell_type": "code",
   "execution_count": 97,
   "id": "d699c0fd-41ed-44b3-ae3d-a35e0f07f855",
   "metadata": {},
   "outputs": [],
   "source": [
    "def predict_single_image(model, image_path, class_indices, target_size=(35, 35)):\n",
    "    # Load and preprocess the image\n",
    "    img = Image.open(image_path).convert(\"RGB\")  # Ensure 3 channels\n",
    "    img = img.resize(target_size)  # Resize image\n",
    "    img_array = np.array(img) / 255.0  # Normalize to [0,1]\n",
    "    img_array = np.expand_dims(img_array, axis=0)  # Add batch dimension\n",
    "\n",
    "    # Make predictions\n",
    "    prediction = model.predict(img_array)\n",
    "    predicted_class = np.argmax(prediction, axis=1)[0]\n",
    "    class_labels = {v: k for k, v in class_indices.items()}  # Reverse class_indices\n",
    "    predicted_label = class_labels[predicted_class]\n",
    "\n",
    "    # Display result\n",
    "    plt.imshow(img)\n",
    "    plt.axis('off')\n",
    "    plt.title(f'Predicted: {predicted_label}')\n",
    "    plt.show()\n",
    "\n",
    "    print(f\"Prediction Probabilities: {prediction[0]}\")\n",
    "    print(f\"Predicted Class: {predicted_label}\")\n"
   ]
  },
  {
   "cell_type": "code",
   "execution_count": 98,
   "id": "f1193472-4ce8-4510-a0a4-0486ac6c03fb",
   "metadata": {},
   "outputs": [
    {
     "name": "stdout",
     "output_type": "stream",
     "text": [
      "\u001b[1m1/1\u001b[0m \u001b[32m━━━━━━━━━━━━━━━━━━━━\u001b[0m\u001b[37m\u001b[0m \u001b[1m0s\u001b[0m 96ms/step\n"
     ]
    },
    {
     "data": {
      "image/png": "[encoded data removed]",
      "text/plain": [
       "<Figure size 640x480 with 1 Axes>"
      ]
     },
     "metadata": {},
     "output_type": "display_data"
    },
    {
     "name": "stdout",
     "output_type": "stream",
     "text": [
      "Prediction Probabilities: [0.02109858 0.08728735 0.891614  ]\n",
      "Predicted Class: without_mask\n"
     ]
    }
   ],
   "source": [
    "# Path to your single image\n",
    "image_path = r\"K:\\pics\\IMG20241217215358.jpg\"\n",
    "\n",
    "# Predict the result\n",
    "predict_single_image(model, image_path, test_generator.class_indices)\n"
   ]
  },
  {
   "cell_type": "code",
   "execution_count": 99,
   "id": "03dc3c1c-dccf-44a8-abfa-36497a87a91e",
   "metadata": {},
   "outputs": [
    {
     "name": "stdout",
     "output_type": "stream",
     "text": [
      "\u001b[1m1/1\u001b[0m \u001b[32m━━━━━━━━━━━━━━━━━━━━\u001b[0m\u001b[37m\u001b[0m \u001b[1m0s\u001b[0m 43ms/step\n"
     ]
    },
    {
     "data": {
      "image/png": "[encoded data removed]",
      "text/plain": [
       "<Figure size 640x480 with 1 Axes>"
      ]
     },
     "metadata": {},
     "output_type": "display_data"
    },
    {
     "name": "stdout",
     "output_type": "stream",
     "text": [
      "Prediction Probabilities: [0.03668873 0.6087325  0.35457882]\n",
      "Predicted Class: with_mask\n"
     ]
    }
   ],
   "source": [
    "# Path to your single image\n",
    "image_path = r\"K:\\pics\\IMG-20241217-WA0012.jpg\"\n",
    "\n",
    "# Predict the result\n",
    "predict_single_image(model, image_path, test_generator.class_indices)\n"
   ]
  },
  {
   "cell_type": "code",
   "execution_count": null,
   "id": "76ff9f38-b1f2-461a-8f38-9b557e26256f",
   "metadata": {},
   "outputs": [],
   "source": []
  }
 ],
 "metadata": {
  "kernelspec": {
   "display_name": "Python 3 (ipykernel)",
   "language": "python",
   "name": "python3"
  },
  "language_info": {
   "codemirror_mode": {
    "name": "ipython",
    "version": 3
   },
   "file_extension": ".py",
   "mimetype": "text/x-python",
   "name": "python",
   "nbconvert_exporter": "python",
   "pygments_lexer": "ipython3",
   "version": "3.12.0"
  }
 },
 "nbformat": 4,
 "nbformat_minor": 5
}
