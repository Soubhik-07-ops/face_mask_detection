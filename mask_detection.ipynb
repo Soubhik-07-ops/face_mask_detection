{
 "cells": [
  {
   "cell_type": "code",
   "execution_count": 1,
   "id": "707e7d2c-eee7-4113-adfb-a90b40de8bb2",
   "metadata": {},
   "outputs": [],
   "source": [
    "import numpy as np\n",
    "import pandas as pd\n",
    "import matplotlib.pyplot as plt\n",
    "import os\n",
    "import xml.etree.ElementTree as ET\n",
    "import glob\n",
    "from PIL import Image\n",
    "from sklearn.model_selection import train_test_split\n",
    "from tensorflow.keras.models import Sequential\n",
    "from tensorflow.keras.layers import Conv2D, MaxPooling2D, Flatten, Dense, Dropout\n",
    "from tensorflow.keras.preprocessing.image import ImageDataGenerator\n",
    "from tensorflow.keras.callbacks import EarlyStopping, ReduceLROnPlateau\n",
    "from sklearn.metrics import confusion_matrix, classification_report\n",
    "from sklearn.metrics import precision_score, recall_score, accuracy_score,f1_score, classification_report\n",
    "import cv2\n",
    "import seaborn as sns \n",
    "\n",
    "\n",
    "input_data_path = \"D:/face_mask/images\"\n",
    "annotations_path = \"D:/face_mask/annotations\"\n",
    "images = [*os.listdir(input_data_path)]\n",
    "output_data_path =  '.'"
   ]
  },
  {
   "cell_type": "code",
   "execution_count": 2,
   "id": "7c474b6f-4cf7-47bf-9e15-7f9b6af4480b",
   "metadata": {},
   "outputs": [],
   "source": [
    "def parse_annotation(path):\n",
    "    tree = ET.parse(path)\n",
    "    root = tree.getroot()\n",
    "    constants = {}\n",
    "    objects = [child for child in root if child.tag == 'object']\n",
    "    for element in tree.iter():\n",
    "        if element.tag == 'filename':\n",
    "            constants['file'] = element.text[0:-4]\n",
    "        if element.tag == 'size':\n",
    "            for dim in list(element):\n",
    "                if dim.tag == 'width':\n",
    "                    constants['width'] = int(dim.text)\n",
    "                if dim.tag == 'height':\n",
    "                    constants['height'] = int(dim.text)\n",
    "                if dim.tag == 'depth':\n",
    "                    constants['depth'] = int(dim.text)\n",
    "    object_params = [parse_annotation_object(obj) for obj in objects]\n",
    "    #print(constants)\n",
    "    full_result = [merge(constants,ob) for ob in object_params]\n",
    "    return full_result\n",
    "\n",
    "def parse_annotation_object(annotation_object):\n",
    "    params = {}\n",
    "    for param in list(annotation_object):\n",
    "        if param.tag == 'name':\n",
    "            params['name'] = param.text\n",
    "        if param.tag == 'bndbox':\n",
    "            for coord in list(param):\n",
    "                if coord.tag == 'xmin':\n",
    "                    params['xmin'] = int(coord.text)              \n",
    "                if coord.tag == 'ymin':\n",
    "                    params['ymin'] = int(coord.text)\n",
    "                if coord.tag == 'xmax':\n",
    "                    params['xmax'] = int(coord.text)\n",
    "                if coord.tag == 'ymax':\n",
    "                    params['ymax'] = int(coord.text)\n",
    "            \n",
    "    return params       \n",
    " \n",
    "def merge(dict1, dict2):\n",
    "    res = {**dict1, **dict2}\n",
    "    return res"
   ]
  },
  {
   "cell_type": "code",
   "execution_count": 3,
   "id": "220426ff-1087-428f-9e29-0f721b18d458",
   "metadata": {},
   "outputs": [
    {
     "data": {
      "text/plain": [
       "(4072, 9)"
      ]
     },
     "execution_count": 3,
     "metadata": {},
     "output_type": "execute_result"
    }
   ],
   "source": [
    "dataset = [parse_annotation(anno) for anno in glob.glob(annotations_path+\"/*.xml\") ]\n",
    "\n",
    "full_dataset = sum(dataset, [])\n",
    "\n",
    "df = pd.DataFrame(full_dataset)\n",
    "df.shape"
   ]
  },
  {
   "cell_type": "code",
   "execution_count": 4,
   "id": "b6b34b0c-d427-48b6-9e4a-a6d0a191c17e",
   "metadata": {},
   "outputs": [
    {
     "data": {
      "text/html": [
       "<div>\n",
       "<style scoped>\n",
       "    .dataframe tbody tr th:only-of-type {\n",
       "        vertical-align: middle;\n",
       "    }\n",
       "\n",
       "    .dataframe tbody tr th {\n",
       "        vertical-align: top;\n",
       "    }\n",
       "\n",
       "    .dataframe thead th {\n",
       "        text-align: right;\n",
       "    }\n",
       "</style>\n",
       "<table border=\"1\" class=\"dataframe\">\n",
       "  <thead>\n",
       "    <tr style=\"text-align: right;\">\n",
       "      <th></th>\n",
       "      <th>file</th>\n",
       "      <th>width</th>\n",
       "      <th>height</th>\n",
       "      <th>depth</th>\n",
       "      <th>name</th>\n",
       "      <th>xmin</th>\n",
       "      <th>ymin</th>\n",
       "      <th>xmax</th>\n",
       "      <th>ymax</th>\n",
       "    </tr>\n",
       "  </thead>\n",
       "  <tbody>\n",
       "    <tr>\n",
       "      <th>0</th>\n",
       "      <td>maksssksksss0</td>\n",
       "      <td>512</td>\n",
       "      <td>366</td>\n",
       "      <td>3</td>\n",
       "      <td>without_mask</td>\n",
       "      <td>79</td>\n",
       "      <td>105</td>\n",
       "      <td>109</td>\n",
       "      <td>142</td>\n",
       "    </tr>\n",
       "    <tr>\n",
       "      <th>1</th>\n",
       "      <td>maksssksksss0</td>\n",
       "      <td>512</td>\n",
       "      <td>366</td>\n",
       "      <td>3</td>\n",
       "      <td>with_mask</td>\n",
       "      <td>185</td>\n",
       "      <td>100</td>\n",
       "      <td>226</td>\n",
       "      <td>144</td>\n",
       "    </tr>\n",
       "    <tr>\n",
       "      <th>2</th>\n",
       "      <td>maksssksksss0</td>\n",
       "      <td>512</td>\n",
       "      <td>366</td>\n",
       "      <td>3</td>\n",
       "      <td>without_mask</td>\n",
       "      <td>325</td>\n",
       "      <td>90</td>\n",
       "      <td>360</td>\n",
       "      <td>141</td>\n",
       "    </tr>\n",
       "    <tr>\n",
       "      <th>3</th>\n",
       "      <td>maksssksksss1</td>\n",
       "      <td>400</td>\n",
       "      <td>156</td>\n",
       "      <td>3</td>\n",
       "      <td>with_mask</td>\n",
       "      <td>321</td>\n",
       "      <td>34</td>\n",
       "      <td>354</td>\n",
       "      <td>69</td>\n",
       "    </tr>\n",
       "    <tr>\n",
       "      <th>4</th>\n",
       "      <td>maksssksksss1</td>\n",
       "      <td>400</td>\n",
       "      <td>156</td>\n",
       "      <td>3</td>\n",
       "      <td>with_mask</td>\n",
       "      <td>224</td>\n",
       "      <td>38</td>\n",
       "      <td>261</td>\n",
       "      <td>73</td>\n",
       "    </tr>\n",
       "  </tbody>\n",
       "</table>\n",
       "</div>"
      ],
      "text/plain": [
       "            file  width  height  depth          name  xmin  ymin  xmax  ymax\n",
       "0  maksssksksss0    512     366      3  without_mask    79   105   109   142\n",
       "1  maksssksksss0    512     366      3     with_mask   185   100   226   144\n",
       "2  maksssksksss0    512     366      3  without_mask   325    90   360   141\n",
       "3  maksssksksss1    400     156      3     with_mask   321    34   354    69\n",
       "4  maksssksksss1    400     156      3     with_mask   224    38   261    73"
      ]
     },
     "execution_count": 4,
     "metadata": {},
     "output_type": "execute_result"
    }
   ],
   "source": [
    "df.head()"
   ]
  },
  {
   "cell_type": "code",
   "execution_count": 5,
   "id": "ab8ce410-15f4-4e02-9303-f71ccd17dc38",
   "metadata": {},
   "outputs": [],
   "source": [
    "final_test_image = 'maksssksksss0'\n",
    "df_final_test = df.loc[df[\"file\"] == final_test_image]\n",
    "images.remove(f'{final_test_image}.png')\n",
    "df = df.loc[df[\"file\"] != final_test_image]"
   ]
  },
  {
   "cell_type": "code",
   "execution_count": 6,
   "id": "eeffa524-5751-415b-af52-13d051cf4115",
   "metadata": {},
   "outputs": [
    {
     "data": {
      "text/html": [
       "<div>\n",
       "<style scoped>\n",
       "    .dataframe tbody tr th:only-of-type {\n",
       "        vertical-align: middle;\n",
       "    }\n",
       "\n",
       "    .dataframe tbody tr th {\n",
       "        vertical-align: top;\n",
       "    }\n",
       "\n",
       "    .dataframe thead th {\n",
       "        text-align: right;\n",
       "    }\n",
       "</style>\n",
       "<table border=\"1\" class=\"dataframe\">\n",
       "  <thead>\n",
       "    <tr style=\"text-align: right;\">\n",
       "      <th></th>\n",
       "      <th>file</th>\n",
       "      <th>width</th>\n",
       "      <th>height</th>\n",
       "      <th>depth</th>\n",
       "      <th>name</th>\n",
       "      <th>xmin</th>\n",
       "      <th>ymin</th>\n",
       "      <th>xmax</th>\n",
       "      <th>ymax</th>\n",
       "    </tr>\n",
       "  </thead>\n",
       "  <tbody>\n",
       "    <tr>\n",
       "      <th>3</th>\n",
       "      <td>maksssksksss1</td>\n",
       "      <td>400</td>\n",
       "      <td>156</td>\n",
       "      <td>3</td>\n",
       "      <td>with_mask</td>\n",
       "      <td>321</td>\n",
       "      <td>34</td>\n",
       "      <td>354</td>\n",
       "      <td>69</td>\n",
       "    </tr>\n",
       "    <tr>\n",
       "      <th>4</th>\n",
       "      <td>maksssksksss1</td>\n",
       "      <td>400</td>\n",
       "      <td>156</td>\n",
       "      <td>3</td>\n",
       "      <td>with_mask</td>\n",
       "      <td>224</td>\n",
       "      <td>38</td>\n",
       "      <td>261</td>\n",
       "      <td>73</td>\n",
       "    </tr>\n",
       "    <tr>\n",
       "      <th>5</th>\n",
       "      <td>maksssksksss1</td>\n",
       "      <td>400</td>\n",
       "      <td>156</td>\n",
       "      <td>3</td>\n",
       "      <td>with_mask</td>\n",
       "      <td>299</td>\n",
       "      <td>58</td>\n",
       "      <td>315</td>\n",
       "      <td>81</td>\n",
       "    </tr>\n",
       "    <tr>\n",
       "      <th>6</th>\n",
       "      <td>maksssksksss1</td>\n",
       "      <td>400</td>\n",
       "      <td>156</td>\n",
       "      <td>3</td>\n",
       "      <td>with_mask</td>\n",
       "      <td>143</td>\n",
       "      <td>74</td>\n",
       "      <td>174</td>\n",
       "      <td>115</td>\n",
       "    </tr>\n",
       "    <tr>\n",
       "      <th>7</th>\n",
       "      <td>maksssksksss1</td>\n",
       "      <td>400</td>\n",
       "      <td>156</td>\n",
       "      <td>3</td>\n",
       "      <td>with_mask</td>\n",
       "      <td>74</td>\n",
       "      <td>69</td>\n",
       "      <td>95</td>\n",
       "      <td>99</td>\n",
       "    </tr>\n",
       "    <tr>\n",
       "      <th>...</th>\n",
       "      <td>...</td>\n",
       "      <td>...</td>\n",
       "      <td>...</td>\n",
       "      <td>...</td>\n",
       "      <td>...</td>\n",
       "      <td>...</td>\n",
       "      <td>...</td>\n",
       "      <td>...</td>\n",
       "      <td>...</td>\n",
       "    </tr>\n",
       "    <tr>\n",
       "      <th>4067</th>\n",
       "      <td>maksssksksss98</td>\n",
       "      <td>400</td>\n",
       "      <td>267</td>\n",
       "      <td>3</td>\n",
       "      <td>with_mask</td>\n",
       "      <td>263</td>\n",
       "      <td>62</td>\n",
       "      <td>287</td>\n",
       "      <td>85</td>\n",
       "    </tr>\n",
       "    <tr>\n",
       "      <th>4068</th>\n",
       "      <td>maksssksksss98</td>\n",
       "      <td>400</td>\n",
       "      <td>267</td>\n",
       "      <td>3</td>\n",
       "      <td>with_mask</td>\n",
       "      <td>344</td>\n",
       "      <td>80</td>\n",
       "      <td>377</td>\n",
       "      <td>106</td>\n",
       "    </tr>\n",
       "    <tr>\n",
       "      <th>4069</th>\n",
       "      <td>maksssksksss99</td>\n",
       "      <td>400</td>\n",
       "      <td>267</td>\n",
       "      <td>3</td>\n",
       "      <td>mask_weared_incorrect</td>\n",
       "      <td>181</td>\n",
       "      <td>54</td>\n",
       "      <td>273</td>\n",
       "      <td>162</td>\n",
       "    </tr>\n",
       "    <tr>\n",
       "      <th>4070</th>\n",
       "      <td>maksssksksss99</td>\n",
       "      <td>400</td>\n",
       "      <td>267</td>\n",
       "      <td>3</td>\n",
       "      <td>with_mask</td>\n",
       "      <td>99</td>\n",
       "      <td>87</td>\n",
       "      <td>176</td>\n",
       "      <td>165</td>\n",
       "    </tr>\n",
       "    <tr>\n",
       "      <th>4071</th>\n",
       "      <td>maksssksksss99</td>\n",
       "      <td>400</td>\n",
       "      <td>267</td>\n",
       "      <td>3</td>\n",
       "      <td>with_mask</td>\n",
       "      <td>289</td>\n",
       "      <td>99</td>\n",
       "      <td>355</td>\n",
       "      <td>233</td>\n",
       "    </tr>\n",
       "  </tbody>\n",
       "</table>\n",
       "<p>4069 rows × 9 columns</p>\n",
       "</div>"
      ],
      "text/plain": [
       "                file  width  height  depth                   name  xmin  ymin  \\\n",
       "3      maksssksksss1    400     156      3              with_mask   321    34   \n",
       "4      maksssksksss1    400     156      3              with_mask   224    38   \n",
       "5      maksssksksss1    400     156      3              with_mask   299    58   \n",
       "6      maksssksksss1    400     156      3              with_mask   143    74   \n",
       "7      maksssksksss1    400     156      3              with_mask    74    69   \n",
       "...              ...    ...     ...    ...                    ...   ...   ...   \n",
       "4067  maksssksksss98    400     267      3              with_mask   263    62   \n",
       "4068  maksssksksss98    400     267      3              with_mask   344    80   \n",
       "4069  maksssksksss99    400     267      3  mask_weared_incorrect   181    54   \n",
       "4070  maksssksksss99    400     267      3              with_mask    99    87   \n",
       "4071  maksssksksss99    400     267      3              with_mask   289    99   \n",
       "\n",
       "      xmax  ymax  \n",
       "3      354    69  \n",
       "4      261    73  \n",
       "5      315    81  \n",
       "6      174   115  \n",
       "7       95    99  \n",
       "...    ...   ...  \n",
       "4067   287    85  \n",
       "4068   377   106  \n",
       "4069   273   162  \n",
       "4070   176   165  \n",
       "4071   355   233  \n",
       "\n",
       "[4069 rows x 9 columns]"
      ]
     },
     "execution_count": 6,
     "metadata": {},
     "output_type": "execute_result"
    }
   ],
   "source": [
    "df"
   ]
  },
  {
   "cell_type": "code",
   "execution_count": 7,
   "id": "4580142b-1e36-4ba5-a865-18655b21ac68",
   "metadata": {},
   "outputs": [
    {
     "data": {
      "text/plain": [
       "name\n",
       "with_mask                3231\n",
       "without_mask              715\n",
       "mask_weared_incorrect     123\n",
       "Name: count, dtype: int64"
      ]
     },
     "execution_count": 7,
     "metadata": {},
     "output_type": "execute_result"
    }
   ],
   "source": [
    "df[\"name\"].value_counts()"
   ]
  },
  {
   "cell_type": "code",
   "execution_count": 8,
   "id": "30cb25b5-4f36-4bd1-83d4-a240396f657c",
   "metadata": {},
   "outputs": [
    {
     "data": {
      "text/plain": [
       "Text(0, 0.5, 'name')"
      ]
     },
     "execution_count": 8,
     "metadata": {},
     "output_type": "execute_result"
    },
    {
     "data": {
      "image/png": "[encoded data removed]",
      "text/plain": [
       "<Figure size 640x480 with 1 Axes>"
      ]
     },
     "metadata": {},
     "output_type": "display_data"
    }
   ],
   "source": [
    "df[\"name\"].value_counts().plot(kind='barh')\n",
    "plt.xlabel('Count', fontsize = 10, fontweight = 'bold')\n",
    "plt.ylabel('name', fontsize = 10, fontweight = 'bold')"
   ]
  },
  {
   "cell_type": "code",
   "execution_count": 9,
   "id": "f1379f2a-1e13-47df-8d3b-f7996b1302e7",
   "metadata": {},
   "outputs": [],
   "source": [
    "labels = df['name'].unique()\n",
    "directory = ['train', 'test', 'val']\n",
    "output_data_path =  '.'\n",
    "\n",
    "import os\n",
    "for label in labels:\n",
    "    for d in directory:\n",
    "        path = os.path.join(output_data_path, d, label)\n",
    "        if not os.path.exists(path):\n",
    "            os.makedirs(path)"
   ]
  },
  {
   "cell_type": "code",
   "execution_count": 10,
   "id": "44a78da3-2a85-4987-b69f-2d89971129c0",
   "metadata": {},
   "outputs": [],
   "source": [
    "def crop_img(image_path, x_min, y_min, x_max, y_max):\n",
    "    x_shift = (x_max - x_min) * 0.1\n",
    "    y_shift = (y_max - y_min) * 0.1\n",
    "    img = Image.open(image_path)\n",
    "    cropped = img.crop((x_min - x_shift, y_min - y_shift, x_max + x_shift, y_max + y_shift))\n",
    "    return cropped"
   ]
  },
  {
   "cell_type": "code",
   "execution_count": 11,
   "id": "97fb408f-acbc-48f0-864f-47e48fa2b979",
   "metadata": {},
   "outputs": [],
   "source": [
    "def extract_faces(image_name, image_info):\n",
    "    faces = []\n",
    "    df_one_img = image_info[image_info['file'] == image_name[:-4]][['xmin', 'ymin', 'xmax', 'ymax', 'name']]\n",
    "    for row_num in range(len(df_one_img)):\n",
    "        x_min, y_min, x_max, y_max, label = df_one_img.iloc[row_num] \n",
    "        image_path = os.path.join(input_data_path, image_name)\n",
    "        faces.append((crop_img(image_path, x_min, y_min, x_max, y_max), label,f'{image_name[:-4]}_{(x_min, y_min)}'))\n",
    "    return faces"
   ]
  },
  {
   "cell_type": "code",
   "execution_count": 12,
   "id": "75a32293-ba1f-47d2-95ca-63e11a63672b",
   "metadata": {},
   "outputs": [],
   "source": [
    "cropped_faces = [extract_faces(img, df) for img in images]"
   ]
  },
  {
   "cell_type": "code",
   "execution_count": 13,
   "id": "d0273db0-727b-4cf3-b84d-b222ab207638",
   "metadata": {},
   "outputs": [],
   "source": [
    "flat_cropped_faces = sum(cropped_faces, [])"
   ]
  },
  {
   "cell_type": "code",
   "execution_count": 14,
   "id": "8364c2e2-731c-40ae-aff2-2bea56c80872",
   "metadata": {},
   "outputs": [],
   "source": [
    "with_mask = [(img, image_name) for img, label,image_name in flat_cropped_faces if label == \"with_mask\"]\n",
    "mask_weared_incorrect = [(img, image_name) for img, label,image_name in flat_cropped_faces if label == \"mask_weared_incorrect\"]\n",
    "without_mask = [(img, image_name) for img, label,image_name in flat_cropped_faces if label == \"without_mask\"]"
   ]
  },
  {
   "cell_type": "code",
   "execution_count": 15,
   "id": "b1d365f4-840d-4130-8903-02399ce4fbc4",
   "metadata": {},
   "outputs": [
    {
     "name": "stdout",
     "output_type": "stream",
     "text": [
      "3231\n",
      "715\n",
      "123\n",
      "4069\n"
     ]
    }
   ],
   "source": [
    "print(len(with_mask))\n",
    "print(len(without_mask))\n",
    "print(len(mask_weared_incorrect))\n",
    "print(len(with_mask) + len(without_mask) + len(mask_weared_incorrect))"
   ]
  },
  {
   "cell_type": "code",
   "execution_count": 16,
   "id": "a391e990-f499-410a-8fe1-9c0d24971b66",
   "metadata": {},
   "outputs": [],
   "source": [
    "train_with_mask, test_with_mask = train_test_split(with_mask, test_size=0.20, random_state=42)\n",
    "test_with_mask, val_with_mask = train_test_split(test_with_mask, test_size=0.7, random_state=42)\n",
    "\n",
    "train_mask_weared_incorrect, test_mask_weared_incorrect = train_test_split(mask_weared_incorrect, test_size=0.20, random_state=42)\n",
    "test_mask_weared_incorrect, val_mask_weared_incorrect = train_test_split(test_mask_weared_incorrect, test_size=0.7, random_state=42)\n",
    "\n",
    "train_without_mask, test_without_mask = train_test_split(without_mask, test_size=0.20, random_state=42)\n",
    "test_without_mask, val_without_mask = train_test_split(test_without_mask, test_size=0.7, random_state=42)"
   ]
  },
  {
   "cell_type": "code",
   "execution_count": 17,
   "id": "41e0aefc-307d-4249-836f-a1b03f0ddacb",
   "metadata": {},
   "outputs": [],
   "source": [
    "def save_image(image, image_name, output_data_path,  dataset_type, label):\n",
    "    output_path = os.path.join(output_data_path, dataset_type, label ,f'{image_name}.png')\n",
    "    image.save(output_path)"
   ]
  },
  {
   "cell_type": "code",
   "execution_count": 18,
   "id": "61997ea9-18a2-4695-900f-0add3ba2f36e",
   "metadata": {},
   "outputs": [],
   "source": [
    "for image, image_name in train_with_mask:\n",
    "    save_image(image, image_name, output_data_path, 'train', 'with_mask')\n",
    "\n",
    "for image, image_name in train_mask_weared_incorrect:\n",
    "    save_image(image, image_name, output_data_path, 'train', 'mask_weared_incorrect')\n",
    "\n",
    "for image, image_name in train_without_mask:\n",
    "    save_image(image, image_name, output_data_path, 'train', 'without_mask')\n",
    "\n",
    "for image, image_name in test_with_mask:\n",
    "    save_image(image, image_name, output_data_path, 'test', 'with_mask')\n",
    "\n",
    "for image, image_name in test_mask_weared_incorrect:\n",
    "    save_image(image, image_name, output_data_path, 'test', 'mask_weared_incorrect')\n",
    "\n",
    "for image, image_name in test_without_mask:\n",
    "    save_image(image, image_name, output_data_path, 'test', 'without_mask')\n",
    "        \n",
    "for image, image_name in val_with_mask:\n",
    "    save_image(image, image_name, output_data_path, 'val', 'with_mask')\n",
    "\n",
    "for image, image_name in val_without_mask:\n",
    "    save_image(image, image_name, output_data_path, 'val', 'without_mask')\n",
    "\n",
    "for image, image_name in val_mask_weared_incorrect:\n",
    "    save_image(image, image_name, output_data_path, 'val', 'mask_weared_incorrect')"
   ]
  },
  {
   "cell_type": "code",
   "execution_count": 19,
   "id": "2d7ce113-ca53-4852-954e-2dd9f3a9faa0",
   "metadata": {},
   "outputs": [
    {
     "name": "stderr",
     "output_type": "stream",
     "text": [
      "c:\\Users\\mrroy\\AppData\\Local\\Programs\\Python\\Python312\\Lib\\site-packages\\keras\\src\\layers\\convolutional\\base_conv.py:107: UserWarning: Do not pass an `input_shape`/`input_dim` argument to a layer. When using Sequential models, prefer using an `Input(shape)` object as the first layer in the model instead.\n",
      "  super().__init__(activity_regularizer=activity_regularizer, **kwargs)\n"
     ]
    },
    {
     "data": {
      "text/html": [
       "<pre style=\"white-space:pre;overflow-x:auto;line-height:normal;font-family:Menlo,'DejaVu Sans Mono',consolas,'Courier New',monospace\"><span style=\"font-weight: bold\">Model: \"sequential\"</span>\n",
       "</pre>\n"
      ],
      "text/plain": [
       "\u001b[1mModel: \"sequential\"\u001b[0m\n"
      ]
     },
     "metadata": {},
     "output_type": "display_data"
    },
    {
     "data": {
      "text/html": [
       "<pre style=\"white-space:pre;overflow-x:auto;line-height:normal;font-family:Menlo,'DejaVu Sans Mono',consolas,'Courier New',monospace\">┏━━━━━━━━━━━━━━━━━━━━━━━━━━━━━━━━━┳━━━━━━━━━━━━━━━━━━━━━━━━┳━━━━━━━━━━━━━━━┓\n",
       "┃<span style=\"font-weight: bold\"> Layer (type)                    </span>┃<span style=\"font-weight: bold\"> Output Shape           </span>┃<span style=\"font-weight: bold\">       Param # </span>┃\n",
       "┡━━━━━━━━━━━━━━━━━━━━━━━━━━━━━━━━━╇━━━━━━━━━━━━━━━━━━━━━━━━╇━━━━━━━━━━━━━━━┩\n",
       "│ conv2d (<span style=\"color: #0087ff; text-decoration-color: #0087ff\">Conv2D</span>)                 │ (<span style=\"color: #00d7ff; text-decoration-color: #00d7ff\">None</span>, <span style=\"color: #00af00; text-decoration-color: #00af00\">35</span>, <span style=\"color: #00af00; text-decoration-color: #00af00\">35</span>, <span style=\"color: #00af00; text-decoration-color: #00af00\">16</span>)     │           <span style=\"color: #00af00; text-decoration-color: #00af00\">448</span> │\n",
       "├─────────────────────────────────┼────────────────────────┼───────────────┤\n",
       "│ max_pooling2d (<span style=\"color: #0087ff; text-decoration-color: #0087ff\">MaxPooling2D</span>)    │ (<span style=\"color: #00d7ff; text-decoration-color: #00d7ff\">None</span>, <span style=\"color: #00af00; text-decoration-color: #00af00\">17</span>, <span style=\"color: #00af00; text-decoration-color: #00af00\">17</span>, <span style=\"color: #00af00; text-decoration-color: #00af00\">16</span>)     │             <span style=\"color: #00af00; text-decoration-color: #00af00\">0</span> │\n",
       "├─────────────────────────────────┼────────────────────────┼───────────────┤\n",
       "│ conv2d_1 (<span style=\"color: #0087ff; text-decoration-color: #0087ff\">Conv2D</span>)               │ (<span style=\"color: #00d7ff; text-decoration-color: #00d7ff\">None</span>, <span style=\"color: #00af00; text-decoration-color: #00af00\">17</span>, <span style=\"color: #00af00; text-decoration-color: #00af00\">17</span>, <span style=\"color: #00af00; text-decoration-color: #00af00\">32</span>)     │         <span style=\"color: #00af00; text-decoration-color: #00af00\">4,640</span> │\n",
       "├─────────────────────────────────┼────────────────────────┼───────────────┤\n",
       "│ max_pooling2d_1 (<span style=\"color: #0087ff; text-decoration-color: #0087ff\">MaxPooling2D</span>)  │ (<span style=\"color: #00d7ff; text-decoration-color: #00d7ff\">None</span>, <span style=\"color: #00af00; text-decoration-color: #00af00\">8</span>, <span style=\"color: #00af00; text-decoration-color: #00af00\">8</span>, <span style=\"color: #00af00; text-decoration-color: #00af00\">32</span>)       │             <span style=\"color: #00af00; text-decoration-color: #00af00\">0</span> │\n",
       "├─────────────────────────────────┼────────────────────────┼───────────────┤\n",
       "│ conv2d_2 (<span style=\"color: #0087ff; text-decoration-color: #0087ff\">Conv2D</span>)               │ (<span style=\"color: #00d7ff; text-decoration-color: #00d7ff\">None</span>, <span style=\"color: #00af00; text-decoration-color: #00af00\">8</span>, <span style=\"color: #00af00; text-decoration-color: #00af00\">8</span>, <span style=\"color: #00af00; text-decoration-color: #00af00\">64</span>)       │        <span style=\"color: #00af00; text-decoration-color: #00af00\">18,496</span> │\n",
       "├─────────────────────────────────┼────────────────────────┼───────────────┤\n",
       "│ max_pooling2d_2 (<span style=\"color: #0087ff; text-decoration-color: #0087ff\">MaxPooling2D</span>)  │ (<span style=\"color: #00d7ff; text-decoration-color: #00d7ff\">None</span>, <span style=\"color: #00af00; text-decoration-color: #00af00\">4</span>, <span style=\"color: #00af00; text-decoration-color: #00af00\">4</span>, <span style=\"color: #00af00; text-decoration-color: #00af00\">64</span>)       │             <span style=\"color: #00af00; text-decoration-color: #00af00\">0</span> │\n",
       "├─────────────────────────────────┼────────────────────────┼───────────────┤\n",
       "│ dropout (<span style=\"color: #0087ff; text-decoration-color: #0087ff\">Dropout</span>)               │ (<span style=\"color: #00d7ff; text-decoration-color: #00d7ff\">None</span>, <span style=\"color: #00af00; text-decoration-color: #00af00\">4</span>, <span style=\"color: #00af00; text-decoration-color: #00af00\">4</span>, <span style=\"color: #00af00; text-decoration-color: #00af00\">64</span>)       │             <span style=\"color: #00af00; text-decoration-color: #00af00\">0</span> │\n",
       "├─────────────────────────────────┼────────────────────────┼───────────────┤\n",
       "│ flatten (<span style=\"color: #0087ff; text-decoration-color: #0087ff\">Flatten</span>)               │ (<span style=\"color: #00d7ff; text-decoration-color: #00d7ff\">None</span>, <span style=\"color: #00af00; text-decoration-color: #00af00\">1024</span>)           │             <span style=\"color: #00af00; text-decoration-color: #00af00\">0</span> │\n",
       "├─────────────────────────────────┼────────────────────────┼───────────────┤\n",
       "│ dense (<span style=\"color: #0087ff; text-decoration-color: #0087ff\">Dense</span>)                   │ (<span style=\"color: #00d7ff; text-decoration-color: #00d7ff\">None</span>, <span style=\"color: #00af00; text-decoration-color: #00af00\">500</span>)            │       <span style=\"color: #00af00; text-decoration-color: #00af00\">512,500</span> │\n",
       "├─────────────────────────────────┼────────────────────────┼───────────────┤\n",
       "│ dropout_1 (<span style=\"color: #0087ff; text-decoration-color: #0087ff\">Dropout</span>)             │ (<span style=\"color: #00d7ff; text-decoration-color: #00d7ff\">None</span>, <span style=\"color: #00af00; text-decoration-color: #00af00\">500</span>)            │             <span style=\"color: #00af00; text-decoration-color: #00af00\">0</span> │\n",
       "├─────────────────────────────────┼────────────────────────┼───────────────┤\n",
       "│ dense_1 (<span style=\"color: #0087ff; text-decoration-color: #0087ff\">Dense</span>)                 │ (<span style=\"color: #00d7ff; text-decoration-color: #00d7ff\">None</span>, <span style=\"color: #00af00; text-decoration-color: #00af00\">3</span>)              │         <span style=\"color: #00af00; text-decoration-color: #00af00\">1,503</span> │\n",
       "└─────────────────────────────────┴────────────────────────┴───────────────┘\n",
       "</pre>\n"
      ],
      "text/plain": [
       "┏━━━━━━━━━━━━━━━━━━━━━━━━━━━━━━━━━┳━━━━━━━━━━━━━━━━━━━━━━━━┳━━━━━━━━━━━━━━━┓\n",
       "┃\u001b[1m \u001b[0m\u001b[1mLayer (type)                   \u001b[0m\u001b[1m \u001b[0m┃\u001b[1m \u001b[0m\u001b[1mOutput Shape          \u001b[0m\u001b[1m \u001b[0m┃\u001b[1m \u001b[0m\u001b[1m      Param #\u001b[0m\u001b[1m \u001b[0m┃\n",
       "┡━━━━━━━━━━━━━━━━━━━━━━━━━━━━━━━━━╇━━━━━━━━━━━━━━━━━━━━━━━━╇━━━━━━━━━━━━━━━┩\n",
       "│ conv2d (\u001b[38;5;33mConv2D\u001b[0m)                 │ (\u001b[38;5;45mNone\u001b[0m, \u001b[38;5;34m35\u001b[0m, \u001b[38;5;34m35\u001b[0m, \u001b[38;5;34m16\u001b[0m)     │           \u001b[38;5;34m448\u001b[0m │\n",
       "├─────────────────────────────────┼────────────────────────┼───────────────┤\n",
       "│ max_pooling2d (\u001b[38;5;33mMaxPooling2D\u001b[0m)    │ (\u001b[38;5;45mNone\u001b[0m, \u001b[38;5;34m17\u001b[0m, \u001b[38;5;34m17\u001b[0m, \u001b[38;5;34m16\u001b[0m)     │             \u001b[38;5;34m0\u001b[0m │\n",
       "├─────────────────────────────────┼────────────────────────┼───────────────┤\n",
       "│ conv2d_1 (\u001b[38;5;33mConv2D\u001b[0m)               │ (\u001b[38;5;45mNone\u001b[0m, \u001b[38;5;34m17\u001b[0m, \u001b[38;5;34m17\u001b[0m, \u001b[38;5;34m32\u001b[0m)     │         \u001b[38;5;34m4,640\u001b[0m │\n",
       "├─────────────────────────────────┼────────────────────────┼───────────────┤\n",
       "│ max_pooling2d_1 (\u001b[38;5;33mMaxPooling2D\u001b[0m)  │ (\u001b[38;5;45mNone\u001b[0m, \u001b[38;5;34m8\u001b[0m, \u001b[38;5;34m8\u001b[0m, \u001b[38;5;34m32\u001b[0m)       │             \u001b[38;5;34m0\u001b[0m │\n",
       "├─────────────────────────────────┼────────────────────────┼───────────────┤\n",
       "│ conv2d_2 (\u001b[38;5;33mConv2D\u001b[0m)               │ (\u001b[38;5;45mNone\u001b[0m, \u001b[38;5;34m8\u001b[0m, \u001b[38;5;34m8\u001b[0m, \u001b[38;5;34m64\u001b[0m)       │        \u001b[38;5;34m18,496\u001b[0m │\n",
       "├─────────────────────────────────┼────────────────────────┼───────────────┤\n",
       "│ max_pooling2d_2 (\u001b[38;5;33mMaxPooling2D\u001b[0m)  │ (\u001b[38;5;45mNone\u001b[0m, \u001b[38;5;34m4\u001b[0m, \u001b[38;5;34m4\u001b[0m, \u001b[38;5;34m64\u001b[0m)       │             \u001b[38;5;34m0\u001b[0m │\n",
       "├─────────────────────────────────┼────────────────────────┼───────────────┤\n",
       "│ dropout (\u001b[38;5;33mDropout\u001b[0m)               │ (\u001b[38;5;45mNone\u001b[0m, \u001b[38;5;34m4\u001b[0m, \u001b[38;5;34m4\u001b[0m, \u001b[38;5;34m64\u001b[0m)       │             \u001b[38;5;34m0\u001b[0m │\n",
       "├─────────────────────────────────┼────────────────────────┼───────────────┤\n",
       "│ flatten (\u001b[38;5;33mFlatten\u001b[0m)               │ (\u001b[38;5;45mNone\u001b[0m, \u001b[38;5;34m1024\u001b[0m)           │             \u001b[38;5;34m0\u001b[0m │\n",
       "├─────────────────────────────────┼────────────────────────┼───────────────┤\n",
       "│ dense (\u001b[38;5;33mDense\u001b[0m)                   │ (\u001b[38;5;45mNone\u001b[0m, \u001b[38;5;34m500\u001b[0m)            │       \u001b[38;5;34m512,500\u001b[0m │\n",
       "├─────────────────────────────────┼────────────────────────┼───────────────┤\n",
       "│ dropout_1 (\u001b[38;5;33mDropout\u001b[0m)             │ (\u001b[38;5;45mNone\u001b[0m, \u001b[38;5;34m500\u001b[0m)            │             \u001b[38;5;34m0\u001b[0m │\n",
       "├─────────────────────────────────┼────────────────────────┼───────────────┤\n",
       "│ dense_1 (\u001b[38;5;33mDense\u001b[0m)                 │ (\u001b[38;5;45mNone\u001b[0m, \u001b[38;5;34m3\u001b[0m)              │         \u001b[38;5;34m1,503\u001b[0m │\n",
       "└─────────────────────────────────┴────────────────────────┴───────────────┘\n"
      ]
     },
     "metadata": {},
     "output_type": "display_data"
    },
    {
     "data": {
      "text/html": [
       "<pre style=\"white-space:pre;overflow-x:auto;line-height:normal;font-family:Menlo,'DejaVu Sans Mono',consolas,'Courier New',monospace\"><span style=\"font-weight: bold\"> Total params: </span><span style=\"color: #00af00; text-decoration-color: #00af00\">537,587</span> (2.05 MB)\n",
       "</pre>\n"
      ],
      "text/plain": [
       "\u001b[1m Total params: \u001b[0m\u001b[38;5;34m537,587\u001b[0m (2.05 MB)\n"
      ]
     },
     "metadata": {},
     "output_type": "display_data"
    },
    {
     "data": {
      "text/html": [
       "<pre style=\"white-space:pre;overflow-x:auto;line-height:normal;font-family:Menlo,'DejaVu Sans Mono',consolas,'Courier New',monospace\"><span style=\"font-weight: bold\"> Trainable params: </span><span style=\"color: #00af00; text-decoration-color: #00af00\">537,587</span> (2.05 MB)\n",
       "</pre>\n"
      ],
      "text/plain": [
       "\u001b[1m Trainable params: \u001b[0m\u001b[38;5;34m537,587\u001b[0m (2.05 MB)\n"
      ]
     },
     "metadata": {},
     "output_type": "display_data"
    },
    {
     "data": {
      "text/html": [
       "<pre style=\"white-space:pre;overflow-x:auto;line-height:normal;font-family:Menlo,'DejaVu Sans Mono',consolas,'Courier New',monospace\"><span style=\"font-weight: bold\"> Non-trainable params: </span><span style=\"color: #00af00; text-decoration-color: #00af00\">0</span> (0.00 B)\n",
       "</pre>\n"
      ],
      "text/plain": [
       "\u001b[1m Non-trainable params: \u001b[0m\u001b[38;5;34m0\u001b[0m (0.00 B)\n"
      ]
     },
     "metadata": {},
     "output_type": "display_data"
    }
   ],
   "source": [
    "model = Sequential()\n",
    "model.add(Conv2D(filters = 16, kernel_size = 3,  padding='same', activation = 'relu', input_shape = (35,35,3)))\n",
    "model.add(MaxPooling2D(pool_size = 2))\n",
    "model.add(Conv2D(filters = 32, kernel_size = 3,  padding='same', activation = 'relu'))\n",
    "model.add(MaxPooling2D(pool_size = 2))\n",
    "model.add(Conv2D(filters = 64, kernel_size = 3,  padding='same', activation = 'relu'))\n",
    "model.add(MaxPooling2D(pool_size = 2))\n",
    "model.add(Dropout(0.3))\n",
    "model.add(Flatten())\n",
    "model.add(Dense(units = 500, activation = 'relu'))\n",
    "model.add(Dropout(0.3))\n",
    "model.add(Dense(units = 3, activation = 'softmax'))\n",
    "\n",
    "model.summary()"
   ]
  },
  {
   "cell_type": "code",
   "execution_count": 20,
   "id": "fc4b57cb-d65d-4c18-b709-aaa5fb1b2609",
   "metadata": {},
   "outputs": [
    {
     "name": "stdout",
     "output_type": "stream",
     "text": [
      "Found 3254 images belonging to 3 classes.\n",
      "Found 572 images belonging to 3 classes.\n",
      "Found 243 images belonging to 3 classes.\n"
     ]
    }
   ],
   "source": [
    "batch_size = 8\n",
    "epochs = 50\n",
    "\n",
    "datagen = ImageDataGenerator(\n",
    "    rescale=1.0 / 255, horizontal_flip=True, zoom_range=0.1, shear_range=0.2, width_shift_range=0.1,\n",
    "    height_shift_range=0.1, rotation_range=4, vertical_flip=False\n",
    "\n",
    ")\n",
    "\n",
    "val_datagen = ImageDataGenerator(\n",
    "    rescale=1.0 / 255\n",
    ")\n",
    " \n",
    "\n",
    "train_generator = datagen.flow_from_directory(\n",
    "    directory=r\"D:\\face_mask\\train\", \n",
    "    target_size=(35, 35),\n",
    "    class_mode=\"categorical\", batch_size=batch_size, shuffle=True\n",
    ")\n",
    "\n",
    "# Validation data\n",
    "val_generator = val_datagen.flow_from_directory(\n",
    "    directory=r\"D:\\face_mask\\val\", \n",
    "    target_size=(35, 35),\n",
    "    class_mode=\"categorical\", batch_size=batch_size, shuffle=True\n",
    ")\n",
    "\n",
    "# Test data\n",
    "test_generator = val_datagen.flow_from_directory(\n",
    "    directory=r\"D:\\face_mask\\test\", \n",
    "    target_size=(35, 35),\n",
    "    class_mode=\"categorical\", batch_size=batch_size, shuffle=False\n",
    ")"
   ]
  },
  {
   "cell_type": "code",
   "execution_count": 21,
   "id": "dfe1f3eb-e183-4f2b-9c1d-3ffa817fb8aa",
   "metadata": {},
   "outputs": [
    {
     "name": "stdout",
     "output_type": "stream",
     "text": [
      "steps_per_epoch: 50\n",
      "val_steps: 9\n"
     ]
    }
   ],
   "source": [
    "data_size = len(train_generator)\n",
    "\n",
    "steps_per_epoch = int(data_size / batch_size)\n",
    "print(f\"steps_per_epoch: {steps_per_epoch}\")\n",
    "\n",
    "val_steps = int(len(val_generator) // batch_size)\n",
    "print(f\"val_steps: {val_steps}\")"
   ]
  },
  {
   "cell_type": "code",
   "execution_count": 22,
   "id": "4f8fb78d-2ca4-46d9-9493-de5f2351eddb",
   "metadata": {},
   "outputs": [],
   "source": [
    "model.compile(\n",
    "    optimizer=\"adam\",\n",
    "    loss=\"categorical_crossentropy\",\n",
    "    metrics=['accuracy', 'Recall', 'Precision', 'AUC']\n",
    ")"
   ]
  },
  {
   "cell_type": "code",
   "execution_count": 23,
   "id": "6a3c587f-7d73-4b4a-835b-61005cec2174",
   "metadata": {},
   "outputs": [],
   "source": [
    "early_stopping = EarlyStopping(monitor='val_loss', patience=8, restore_best_weights=True)"
   ]
  },
  {
   "cell_type": "code",
   "execution_count": 24,
   "id": "3935eda1-9932-48fe-b34e-390824c43ae3",
   "metadata": {},
   "outputs": [],
   "source": [
    "lrr = ReduceLROnPlateau(monitor='val_loss',patience=8,verbose=1,factor=0.5, min_lr=0.00001)\n"
   ]
  },
  {
   "cell_type": "code",
   "execution_count": 25,
   "id": "2d5a28e0-84af-4463-9cc5-314c74053e88",
   "metadata": {},
   "outputs": [
    {
     "name": "stdout",
     "output_type": "stream",
     "text": [
      "Epoch 1/50\n"
     ]
    },
    {
     "name": "stderr",
     "output_type": "stream",
     "text": [
      "c:\\Users\\mrroy\\AppData\\Local\\Programs\\Python\\Python312\\Lib\\site-packages\\keras\\src\\trainers\\data_adapters\\py_dataset_adapter.py:121: UserWarning: Your `PyDataset` class should call `super().__init__(**kwargs)` in its constructor. `**kwargs` can include `workers`, `use_multiprocessing`, `max_queue_size`. Do not pass these arguments to `fit()`, as they will be ignored.\n",
      "  self._warn_if_super_not_called()\n"
     ]
    },
    {
     "name": "stdout",
     "output_type": "stream",
     "text": [
      "\u001b[1m50/50\u001b[0m \u001b[32m━━━━━━━━━━━━━━━━━━━━\u001b[0m\u001b[37m\u001b[0m \u001b[1m2s\u001b[0m 19ms/step - AUC: 0.8810 - Precision: 0.7532 - Recall: 0.6909 - accuracy: 0.7730 - loss: 0.6693 - val_AUC: 0.9293 - val_Precision: 0.7639 - val_Recall: 0.7639 - val_accuracy: 0.7639 - val_loss: 0.9118 - learning_rate: 0.0010\n",
      "Epoch 2/50\n",
      "\u001b[1m50/50\u001b[0m \u001b[32m━━━━━━━━━━━━━━━━━━━━\u001b[0m\u001b[37m\u001b[0m \u001b[1m1s\u001b[0m 12ms/step - AUC: 0.8842 - Precision: 0.7727 - Recall: 0.7723 - accuracy: 0.7723 - loss: 0.7245 - val_AUC: 0.9807 - val_Precision: 0.8611 - val_Recall: 0.8611 - val_accuracy: 0.8611 - val_loss: 0.3826 - learning_rate: 0.0010\n",
      "Epoch 3/50\n",
      "\u001b[1m50/50\u001b[0m \u001b[32m━━━━━━━━━━━━━━━━━━━━\u001b[0m\u001b[37m\u001b[0m \u001b[1m1s\u001b[0m 11ms/step - AUC: 0.9483 - Precision: 0.8171 - Recall: 0.7859 - accuracy: 0.7965 - loss: 0.4897 - val_AUC: 0.9623 - val_Precision: 0.8429 - val_Recall: 0.8194 - val_accuracy: 0.8194 - val_loss: 0.3756 - learning_rate: 0.0010\n",
      "Epoch 4/50\n",
      "\u001b[1m50/50\u001b[0m \u001b[32m━━━━━━━━━━━━━━━━━━━━\u001b[0m\u001b[37m\u001b[0m \u001b[1m1s\u001b[0m 12ms/step - AUC: 0.9698 - Precision: 0.9023 - Recall: 0.8711 - accuracy: 0.8930 - loss: 0.3413 - val_AUC: 0.9603 - val_Precision: 0.9014 - val_Recall: 0.8889 - val_accuracy: 0.8889 - val_loss: 0.3505 - learning_rate: 0.0010\n",
      "Epoch 5/50\n",
      "\u001b[1m50/50\u001b[0m \u001b[32m━━━━━━━━━━━━━━━━━━━━\u001b[0m\u001b[37m\u001b[0m \u001b[1m0s\u001b[0m 10ms/step - AUC: 0.9769 - Precision: 0.9328 - Recall: 0.8968 - accuracy: 0.9199 - loss: 0.3018 - val_AUC: 0.9855 - val_Precision: 0.9429 - val_Recall: 0.9167 - val_accuracy: 0.9167 - val_loss: 0.2681 - learning_rate: 0.0010\n",
      "Epoch 6/50\n",
      "\u001b[1m50/50\u001b[0m \u001b[32m━━━━━━━━━━━━━━━━━━━━\u001b[0m\u001b[37m\u001b[0m \u001b[1m0s\u001b[0m 10ms/step - AUC: 0.9590 - Precision: 0.9018 - Recall: 0.8735 - accuracy: 0.8896 - loss: 0.3843 - val_AUC: 0.9845 - val_Precision: 0.9306 - val_Recall: 0.9306 - val_accuracy: 0.9306 - val_loss: 0.2233 - learning_rate: 0.0010\n",
      "Epoch 7/50\n",
      "\u001b[1m50/50\u001b[0m \u001b[32m━━━━━━━━━━━━━━━━━━━━\u001b[0m\u001b[37m\u001b[0m \u001b[1m0s\u001b[0m 9ms/step - AUC: 0.9593 - Precision: 0.8987 - Recall: 0.8875 - accuracy: 0.8930 - loss: 0.3718 - val_AUC: 0.9924 - val_Precision: 0.9437 - val_Recall: 0.9306 - val_accuracy: 0.9444 - val_loss: 0.2197 - learning_rate: 0.0010\n",
      "Epoch 8/50\n",
      "\u001b[1m50/50\u001b[0m \u001b[32m━━━━━━━━━━━━━━━━━━━━\u001b[0m\u001b[37m\u001b[0m \u001b[1m0s\u001b[0m 9ms/step - AUC: 0.9754 - Precision: 0.9162 - Recall: 0.8960 - accuracy: 0.9093 - loss: 0.2928 - val_AUC: 0.9486 - val_Precision: 0.8451 - val_Recall: 0.8333 - val_accuracy: 0.8472 - val_loss: 0.4381 - learning_rate: 0.0010\n",
      "Epoch 9/50\n",
      "\u001b[1m50/50\u001b[0m \u001b[32m━━━━━━━━━━━━━━━━━━━━\u001b[0m\u001b[37m\u001b[0m \u001b[1m0s\u001b[0m 2ms/step - AUC: 0.9558 - Precision: 0.9072 - Recall: 0.8908 - accuracy: 0.8908 - loss: 0.3554 - val_AUC: 0.9795 - val_Precision: 0.9437 - val_Recall: 0.9306 - val_accuracy: 0.9306 - val_loss: 0.2457 - learning_rate: 0.0010\n",
      "Epoch 10/50\n",
      "\u001b[1m 7/50\u001b[0m \u001b[32m━━\u001b[0m\u001b[37m━━━━━━━━━━━━━━━━━━\u001b[0m \u001b[1m0s\u001b[0m 9ms/step - AUC: 0.9937 - Precision: 0.9267 - Recall: 0.9267 - accuracy: 0.9267 - loss: 0.1751 "
     ]
    },
    {
     "name": "stderr",
     "output_type": "stream",
     "text": [
      "c:\\Users\\mrroy\\AppData\\Local\\Programs\\Python\\Python312\\Lib\\site-packages\\keras\\src\\trainers\\epoch_iterator.py:107: UserWarning: Your input ran out of data; interrupting training. Make sure that your dataset or generator can generate at least `steps_per_epoch * epochs` batches. You may need to use the `.repeat()` function when building your dataset.\n",
      "  self._interrupted_warning()\n"
     ]
    },
    {
     "name": "stdout",
     "output_type": "stream",
     "text": [
      "\u001b[1m50/50\u001b[0m \u001b[32m━━━━━━━━━━━━━━━━━━━━\u001b[0m\u001b[37m\u001b[0m \u001b[1m0s\u001b[0m 10ms/step - AUC: 0.9842 - Precision: 0.9194 - Recall: 0.9104 - accuracy: 0.9133 - loss: 0.2385 - val_AUC: 0.9907 - val_Precision: 0.9437 - val_Recall: 0.9306 - val_accuracy: 0.9444 - val_loss: 0.1833 - learning_rate: 0.0010\n",
      "Epoch 11/50\n",
      "\u001b[1m50/50\u001b[0m \u001b[32m━━━━━━━━━━━━━━━━━━━━\u001b[0m\u001b[37m\u001b[0m \u001b[1m0s\u001b[0m 9ms/step - AUC: 0.9858 - Precision: 0.9286 - Recall: 0.9109 - accuracy: 0.9192 - loss: 0.2251 - val_AUC: 0.9803 - val_Precision: 0.9306 - val_Recall: 0.9306 - val_accuracy: 0.9306 - val_loss: 0.2916 - learning_rate: 0.0010\n",
      "Epoch 12/50\n",
      "\u001b[1m50/50\u001b[0m \u001b[32m━━━━━━━━━━━━━━━━━━━━\u001b[0m\u001b[37m\u001b[0m \u001b[1m0s\u001b[0m 10ms/step - AUC: 0.9864 - Precision: 0.9461 - Recall: 0.9278 - accuracy: 0.9355 - loss: 0.2067 - val_AUC: 0.9882 - val_Precision: 0.9577 - val_Recall: 0.9444 - val_accuracy: 0.9583 - val_loss: 0.1980 - learning_rate: 0.0010\n",
      "Epoch 13/50\n",
      "\u001b[1m50/50\u001b[0m \u001b[32m━━━━━━━━━━━━━━━━━━━━\u001b[0m\u001b[37m\u001b[0m \u001b[1m0s\u001b[0m 9ms/step - AUC: 0.9844 - Precision: 0.9518 - Recall: 0.9429 - accuracy: 0.9471 - loss: 0.1993 - val_AUC: 0.9962 - val_Precision: 0.9718 - val_Recall: 0.9583 - val_accuracy: 0.9722 - val_loss: 0.1427 - learning_rate: 0.0010\n",
      "Epoch 14/50\n",
      "\u001b[1m50/50\u001b[0m \u001b[32m━━━━━━━━━━━━━━━━━━━━\u001b[0m\u001b[37m\u001b[0m \u001b[1m0s\u001b[0m 9ms/step - AUC: 0.9804 - Precision: 0.9269 - Recall: 0.9209 - accuracy: 0.9214 - loss: 0.2647 - val_AUC: 0.9834 - val_Precision: 0.8889 - val_Recall: 0.8889 - val_accuracy: 0.8889 - val_loss: 0.2540 - learning_rate: 0.0010\n",
      "Epoch 15/50\n",
      "\u001b[1m50/50\u001b[0m \u001b[32m━━━━━━━━━━━━━━━━━━━━\u001b[0m\u001b[37m\u001b[0m \u001b[1m1s\u001b[0m 13ms/step - AUC: 0.9838 - Precision: 0.9572 - Recall: 0.9506 - accuracy: 0.9513 - loss: 0.2175 - val_AUC: 0.9778 - val_Precision: 0.9420 - val_Recall: 0.9028 - val_accuracy: 0.9444 - val_loss: 0.2683 - learning_rate: 0.0010\n",
      "Epoch 16/50\n",
      "\u001b[1m50/50\u001b[0m \u001b[32m━━━━━━━━━━━━━━━━━━━━\u001b[0m\u001b[37m\u001b[0m \u001b[1m1s\u001b[0m 16ms/step - AUC: 0.9823 - Precision: 0.9253 - Recall: 0.9163 - accuracy: 0.9171 - loss: 0.2516 - val_AUC: 0.9754 - val_Precision: 0.9028 - val_Recall: 0.9028 - val_accuracy: 0.9028 - val_loss: 0.3012 - learning_rate: 0.0010\n",
      "Epoch 17/50\n",
      "\u001b[1m50/50\u001b[0m \u001b[32m━━━━━━━━━━━━━━━━━━━━\u001b[0m\u001b[37m\u001b[0m \u001b[1m1s\u001b[0m 15ms/step - AUC: 0.9831 - Precision: 0.9334 - Recall: 0.9326 - accuracy: 0.9334 - loss: 0.2408 - val_AUC: 0.9947 - val_Precision: 0.9571 - val_Recall: 0.9306 - val_accuracy: 0.9444 - val_loss: 0.2438 - learning_rate: 0.0010\n",
      "Epoch 18/50\n",
      "\u001b[1m50/50\u001b[0m \u001b[32m━━━━━━━━━━━━━━━━━━━━\u001b[0m\u001b[37m\u001b[0m \u001b[1m0s\u001b[0m 3ms/step - AUC: 0.9857 - Precision: 0.9215 - Recall: 0.9069 - accuracy: 0.9226 - loss: 0.2636 - val_AUC: 0.9824 - val_Precision: 0.9444 - val_Recall: 0.9444 - val_accuracy: 0.9444 - val_loss: 0.2617 - learning_rate: 0.0010\n",
      "Epoch 19/50\n",
      "\u001b[1m50/50\u001b[0m \u001b[32m━━━━━━━━━━━━━━━━━━━━\u001b[0m\u001b[37m\u001b[0m \u001b[1m1s\u001b[0m 18ms/step - AUC: 0.9818 - Precision: 0.9532 - Recall: 0.9444 - accuracy: 0.9458 - loss: 0.2347 - val_AUC: 0.9951 - val_Precision: 0.9444 - val_Recall: 0.9444 - val_accuracy: 0.9444 - val_loss: 0.1773 - learning_rate: 0.0010\n",
      "Epoch 20/50\n",
      "\u001b[1m50/50\u001b[0m \u001b[32m━━━━━━━━━━━━━━━━━━━━\u001b[0m\u001b[37m\u001b[0m \u001b[1m1s\u001b[0m 18ms/step - AUC: 0.9792 - Precision: 0.9093 - Recall: 0.8982 - accuracy: 0.9038 - loss: 0.2642 - val_AUC: 0.9946 - val_Precision: 0.9710 - val_Recall: 0.9306 - val_accuracy: 0.9583 - val_loss: 0.1702 - learning_rate: 0.0010\n",
      "Epoch 21/50\n",
      "\u001b[1m48/50\u001b[0m \u001b[32m━━━━━━━━━━━━━━━━━━━\u001b[0m\u001b[37m━\u001b[0m \u001b[1m0s\u001b[0m 15ms/step - AUC: 0.9868 - Precision: 0.9267 - Recall: 0.9194 - accuracy: 0.9234 - loss: 0.2133\n",
      "Epoch 21: ReduceLROnPlateau reducing learning rate to 0.0005000000237487257.\n",
      "\u001b[1m50/50\u001b[0m \u001b[32m━━━━━━━━━━━━━━━━━━━━\u001b[0m\u001b[37m\u001b[0m \u001b[1m1s\u001b[0m 18ms/step - AUC: 0.9868 - Precision: 0.9270 - Recall: 0.9198 - accuracy: 0.9237 - loss: 0.2133 - val_AUC: 0.9829 - val_Precision: 0.8750 - val_Recall: 0.8750 - val_accuracy: 0.8750 - val_loss: 0.2872 - learning_rate: 0.0010\n"
     ]
    }
   ],
   "source": [
    "model_history = model.fit(\n",
    "    x=train_generator,\n",
    "    steps_per_epoch=steps_per_epoch,\n",
    "    epochs=epochs,\n",
    "    shuffle=True,\n",
    "    validation_data=val_generator,\n",
    "    validation_steps=val_steps,\n",
    "    callbacks=[early_stopping, lrr]\n",
    ")\n"
   ]
  },
  {
   "cell_type": "code",
   "execution_count": 26,
   "id": "dc8496b7-c74c-4669-9703-d7712ed57bf9",
   "metadata": {},
   "outputs": [
    {
     "name": "stdout",
     "output_type": "stream",
     "text": [
      "\u001b[1m31/31\u001b[0m \u001b[32m━━━━━━━━━━━━━━━━━━━━\u001b[0m\u001b[37m\u001b[0m \u001b[1m0s\u001b[0m 8ms/step - AUC: 0.9636 - Precision: 0.8488 - Recall: 0.8251 - accuracy: 0.8523 - loss: 0.3262\n",
      "0.24566411972045898 || 91.35802388191223 || 89.71193432807922 || 91.59663915634155 || 98.7459659576416\n"
     ]
    }
   ],
   "source": [
    "model_loss, model_acc, recall, precision, auc = model.evaluate(test_generator)\n",
    "print(f'{model_loss} || {model_acc*100} || {recall*100} || {precision*100} || {auc*100}')"
   ]
  },
  {
   "cell_type": "code",
   "execution_count": 27,
   "id": "e90e6db3-f37d-4d79-a05d-42c96ed5d02f",
   "metadata": {},
   "outputs": [
    {
     "name": "stdout",
     "output_type": "stream",
     "text": [
      "\u001b[1m31/31\u001b[0m \u001b[32m━━━━━━━━━━━━━━━━━━━━\u001b[0m\u001b[37m\u001b[0m \u001b[1m0s\u001b[0m 5ms/step\n"
     ]
    },
    {
     "data": {
      "text/plain": [
       "array([[2.29510978e-01, 7.63827026e-01, 6.66201022e-03],\n",
       "       [1.76641420e-01, 7.25946367e-01, 9.74121764e-02],\n",
       "       [2.86471069e-01, 5.24047077e-01, 1.89481825e-01],\n",
       "       [2.60441184e-01, 7.00080812e-01, 3.94779667e-02],\n",
       "       [2.78890282e-01, 7.02812254e-01, 1.82974450e-02],\n",
       "       [4.46004987e-01, 2.91323781e-01, 2.62671262e-01],\n",
       "       [2.01753423e-01, 5.44292867e-01, 2.53953695e-01],\n",
       "       [1.49116619e-02, 9.85017180e-01, 7.12144538e-05],\n",
       "       [8.09040815e-02, 9.08356905e-01, 1.07389577e-02],\n",
       "       [5.83024286e-02, 9.31568444e-01, 1.01291584e-02],\n",
       "       [2.89383586e-02, 9.67913032e-01, 3.14857461e-03],\n",
       "       [4.16962756e-03, 9.95809793e-01, 2.06142540e-05],\n",
       "       [8.05312674e-03, 9.91783261e-01, 1.63602730e-04],\n",
       "       [2.67515164e-02, 9.73024905e-01, 2.23609124e-04],\n",
       "       [1.33367211e-01, 8.24526727e-01, 4.21060026e-02],\n",
       "       [7.85246305e-03, 9.92078960e-01, 6.85372142e-05],\n",
       "       [1.13705218e-01, 7.96727836e-01, 8.95669162e-02],\n",
       "       [6.16971739e-02, 9.28382516e-01, 9.92033724e-03],\n",
       "       [4.13314924e-02, 9.56904888e-01, 1.76365406e-03],\n",
       "       [4.55942340e-02, 9.41811740e-01, 1.25939772e-02],\n",
       "       [6.19634688e-02, 9.36033964e-01, 2.00261152e-03],\n",
       "       [5.65591715e-02, 9.39474046e-01, 3.96678830e-03],\n",
       "       [2.25474238e-02, 9.75871503e-01, 1.58103672e-03],\n",
       "       [3.21315341e-02, 9.67656791e-01, 2.11719773e-04],\n",
       "       [1.04719825e-01, 8.46916735e-01, 4.83633876e-02],\n",
       "       [2.05172598e-02, 9.78766322e-01, 7.16399052e-04],\n",
       "       [1.93771794e-02, 5.19811735e-02, 9.28641677e-01],\n",
       "       [5.26924133e-02, 9.41211522e-01, 6.09602034e-03],\n",
       "       [4.01624385e-03, 9.95943844e-01, 3.99464225e-05],\n",
       "       [4.13772017e-02, 2.95081764e-01, 6.63541019e-01],\n",
       "       [1.94581792e-01, 6.43082440e-01, 1.62335783e-01],\n",
       "       [1.44418374e-01, 8.38271677e-01, 1.73099041e-02],\n",
       "       [2.78131247e-01, 6.15282238e-01, 1.06586471e-01],\n",
       "       [4.81048599e-03, 9.95177269e-01, 1.22031397e-05],\n",
       "       [6.42689988e-02, 9.31368291e-01, 4.36264835e-03],\n",
       "       [7.50740394e-02, 5.92990398e-01, 3.31935585e-01],\n",
       "       [2.07693577e-02, 9.69979882e-01, 9.25078522e-03],\n",
       "       [1.25630811e-01, 7.81739354e-01, 9.26298425e-02],\n",
       "       [3.63977179e-02, 9.61651564e-01, 1.95064640e-03],\n",
       "       [1.15160607e-02, 9.88449395e-01, 3.45868248e-05],\n",
       "       [8.03649575e-02, 7.98677623e-01, 1.20957397e-01],\n",
       "       [1.63398609e-02, 9.83595014e-01, 6.50585353e-05],\n",
       "       [2.95120198e-02, 9.64300811e-01, 6.18711719e-03],\n",
       "       [1.11845456e-01, 8.58487725e-01, 2.96667926e-02],\n",
       "       [5.65258227e-02, 9.36855316e-01, 6.61884993e-03],\n",
       "       [5.75501248e-02, 9.36304748e-01, 6.14512805e-03],\n",
       "       [3.35307091e-01, 5.15895188e-01, 1.48797691e-01],\n",
       "       [1.50959894e-01, 8.34757626e-01, 1.42824892e-02],\n",
       "       [1.15881771e-01, 8.70296538e-01, 1.38217239e-02],\n",
       "       [5.80470636e-03, 9.94034111e-01, 1.61249511e-04],\n",
       "       [5.66619113e-02, 9.40817893e-01, 2.52015772e-03],\n",
       "       [7.58188441e-02, 9.16401744e-01, 7.77938031e-03],\n",
       "       [3.00278608e-02, 9.69030023e-01, 9.42131621e-04],\n",
       "       [6.78852424e-02, 9.25434530e-01, 6.68019243e-03],\n",
       "       [1.96346402e-01, 4.87522572e-01, 3.16131055e-01],\n",
       "       [1.25702813e-01, 8.61009598e-01, 1.32875964e-02],\n",
       "       [5.09070195e-02, 9.47032869e-01, 2.06011231e-03],\n",
       "       [1.36217698e-01, 7.71201849e-01, 9.25804749e-02],\n",
       "       [2.07465198e-02, 9.78875279e-01, 3.78131954e-04],\n",
       "       [6.85979798e-02, 3.40343624e-01, 5.91058373e-01],\n",
       "       [7.15158954e-02, 8.94629478e-01, 3.38546187e-02],\n",
       "       [1.08005345e-01, 6.75224602e-01, 2.16770127e-01],\n",
       "       [2.41448637e-02, 9.74965274e-01, 8.89835355e-04],\n",
       "       [4.42818590e-02, 9.54066873e-01, 1.65132119e-03],\n",
       "       [8.95822644e-02, 9.05677319e-01, 4.74038022e-03],\n",
       "       [4.19906750e-02, 9.56895590e-01, 1.11376820e-03],\n",
       "       [5.69606274e-02, 9.39962208e-01, 3.07719875e-03],\n",
       "       [3.29863206e-02, 2.16419816e-01, 7.50593841e-01],\n",
       "       [7.98771456e-02, 9.13916945e-01, 6.20594248e-03],\n",
       "       [2.73290761e-02, 9.68276441e-01, 4.39447816e-03],\n",
       "       [1.01269186e-02, 9.89707947e-01, 1.65118065e-04],\n",
       "       [4.38674688e-02, 9.52678680e-01, 3.45388264e-03],\n",
       "       [9.97086242e-02, 8.94174993e-01, 6.11635670e-03],\n",
       "       [3.21166813e-02, 9.63494360e-01, 4.38894983e-03],\n",
       "       [6.30599186e-02, 7.04421937e-01, 2.32518137e-01],\n",
       "       [7.40497047e-03, 9.92559195e-01, 3.57976460e-05],\n",
       "       [9.45255253e-03, 9.90509033e-01, 3.83990773e-05],\n",
       "       [1.28548378e-02, 9.86868024e-01, 2.77154817e-04],\n",
       "       [2.99442206e-02, 2.87780821e-01, 6.82274878e-01],\n",
       "       [1.99954826e-02, 9.79163349e-01, 8.41140281e-04],\n",
       "       [7.25519359e-02, 9.20368552e-01, 7.07954401e-03],\n",
       "       [1.16885968e-01, 8.60393584e-01, 2.27204431e-02],\n",
       "       [1.59377400e-02, 9.83354867e-01, 7.07410101e-04],\n",
       "       [3.45101058e-02, 9.63560224e-01, 1.92970596e-03],\n",
       "       [2.42826734e-02, 9.73160684e-01, 2.55661574e-03],\n",
       "       [5.16263880e-02, 9.40808475e-01, 7.56508205e-03],\n",
       "       [4.46811169e-02, 9.54363406e-01, 9.55481606e-04],\n",
       "       [4.25149091e-02, 9.57015812e-01, 4.69307764e-04],\n",
       "       [1.93015430e-02, 9.79612589e-01, 1.08586310e-03],\n",
       "       [2.49871146e-02, 9.74850178e-01, 1.62724755e-04],\n",
       "       [5.32967970e-02, 5.19229650e-01, 4.27473545e-01],\n",
       "       [7.71014243e-02, 8.99727464e-01, 2.31711362e-02],\n",
       "       [9.71741080e-02, 8.80202055e-01, 2.26238687e-02],\n",
       "       [8.50257464e-04, 9.99149442e-01, 2.91389966e-07],\n",
       "       [5.70678012e-03, 9.94251728e-01, 4.15145805e-05],\n",
       "       [1.36140242e-01, 6.66364312e-01, 1.97495431e-01],\n",
       "       [1.47811174e-01, 7.54162550e-01, 9.80262905e-02],\n",
       "       [1.85508028e-01, 4.69480008e-01, 3.45011890e-01],\n",
       "       [1.51415542e-01, 3.54455709e-01, 4.94128793e-01],\n",
       "       [2.48360075e-03, 9.97014165e-01, 5.02289680e-04],\n",
       "       [2.65278518e-02, 9.73236859e-01, 2.35247309e-04],\n",
       "       [1.95553098e-02, 9.76949036e-01, 3.49564198e-03],\n",
       "       [2.21207626e-02, 9.76902366e-01, 9.76814772e-04],\n",
       "       [8.52231309e-02, 8.98991466e-01, 1.57854278e-02],\n",
       "       [7.38754570e-02, 8.64880741e-01, 6.12437688e-02],\n",
       "       [4.85576205e-02, 9.38601553e-01, 1.28408493e-02],\n",
       "       [5.35200834e-02, 9.38467085e-01, 8.01283866e-03],\n",
       "       [7.69392177e-02, 9.11841691e-01, 1.12191383e-02],\n",
       "       [1.56268489e-03, 9.98436391e-01, 9.45209365e-07],\n",
       "       [2.05134749e-02, 6.42449200e-01, 3.37037295e-01],\n",
       "       [3.99803743e-02, 4.59942997e-01, 5.00076592e-01],\n",
       "       [4.42539789e-02, 9.49440837e-01, 6.30513532e-03],\n",
       "       [5.56720272e-02, 9.26609695e-01, 1.77182145e-02],\n",
       "       [8.31831470e-02, 8.32662523e-01, 8.41542780e-02],\n",
       "       [1.33100953e-02, 9.86488998e-01, 2.00946830e-04],\n",
       "       [3.51823121e-02, 9.64209259e-01, 6.08414121e-04],\n",
       "       [9.31476280e-02, 8.37337494e-01, 6.95148706e-02],\n",
       "       [3.71247455e-02, 9.61029232e-01, 1.84601895e-03],\n",
       "       [6.11167699e-02, 9.06327844e-01, 3.25553380e-02],\n",
       "       [2.46970318e-02, 9.73785639e-01, 1.51741086e-03],\n",
       "       [4.31278674e-03, 9.95649159e-01, 3.80315105e-05],\n",
       "       [9.35816169e-02, 8.92983198e-01, 1.34352138e-02],\n",
       "       [2.87143141e-02, 9.66703355e-01, 4.58236225e-03],\n",
       "       [1.30210686e-02, 9.86883700e-01, 9.53007548e-05],\n",
       "       [1.84202995e-02, 9.81423438e-01, 1.56275157e-04],\n",
       "       [1.79867502e-02, 9.72473502e-01, 9.53979697e-03],\n",
       "       [1.39802471e-02, 1.26499340e-01, 8.59520376e-01],\n",
       "       [1.11356601e-01, 8.60303104e-01, 2.83403080e-02],\n",
       "       [2.22932664e-03, 9.97764349e-01, 6.30030490e-06],\n",
       "       [2.12031621e-02, 9.64325309e-01, 1.44715225e-02],\n",
       "       [1.29221845e-02, 9.86873329e-01, 2.04461467e-04],\n",
       "       [2.18029711e-02, 9.76689339e-01, 1.50773034e-03],\n",
       "       [4.07577232e-02, 9.57431853e-01, 1.81046152e-03],\n",
       "       [4.37351270e-03, 9.95613456e-01, 1.30251501e-05],\n",
       "       [1.75454170e-02, 9.73722637e-01, 8.73194635e-03],\n",
       "       [1.51076550e-02, 9.84500885e-01, 3.91465641e-04],\n",
       "       [6.88957721e-02, 9.15320039e-01, 1.57841649e-02],\n",
       "       [4.11572792e-02, 9.53745246e-01, 5.09753358e-03],\n",
       "       [6.86315149e-02, 9.23654377e-01, 7.71409413e-03],\n",
       "       [6.48490265e-02, 9.11296070e-01, 2.38549076e-02],\n",
       "       [4.99605350e-02, 9.17339563e-01, 3.26999128e-02],\n",
       "       [4.34639212e-03, 9.95141149e-01, 5.12447732e-04],\n",
       "       [1.00088201e-01, 8.80733430e-01, 1.91784147e-02],\n",
       "       [1.32110372e-01, 5.88605404e-01, 2.79284149e-01],\n",
       "       [2.34692339e-02, 9.71571207e-01, 4.95954650e-03],\n",
       "       [1.20863700e-02, 9.87762332e-01, 1.51300745e-04],\n",
       "       [1.10330909e-01, 8.84482980e-01, 5.18616661e-03],\n",
       "       [5.12892082e-02, 9.44891095e-01, 3.81971151e-03],\n",
       "       [1.07982226e-01, 8.84875476e-01, 7.14234635e-03],\n",
       "       [4.77148732e-03, 9.95191097e-01, 3.74499359e-05],\n",
       "       [3.88444997e-02, 1.85533270e-01, 7.75622249e-01],\n",
       "       [5.65047860e-02, 9.37539876e-01, 5.95538272e-03],\n",
       "       [1.99103609e-01, 6.12701535e-01, 1.88194916e-01],\n",
       "       [4.31681573e-02, 9.55081820e-01, 1.74999668e-03],\n",
       "       [6.26852037e-03, 9.93194699e-01, 5.36776613e-04],\n",
       "       [5.98519854e-02, 7.51829207e-01, 1.88318804e-01],\n",
       "       [5.67375496e-02, 9.31654930e-01, 1.16074765e-02],\n",
       "       [8.43849704e-02, 8.94524276e-01, 2.10907869e-02],\n",
       "       [6.02518618e-02, 9.35959160e-01, 3.78897018e-03],\n",
       "       [9.59249884e-02, 7.78090656e-01, 1.25984326e-01],\n",
       "       [7.75488140e-03, 9.92181420e-01, 6.37464909e-05],\n",
       "       [5.27902283e-02, 3.78862202e-01, 5.68347573e-01],\n",
       "       [9.10913479e-03, 9.90865529e-01, 2.53458511e-05],\n",
       "       [2.45343577e-02, 9.75350261e-01, 1.15349278e-04],\n",
       "       [9.05290432e-03, 9.90884483e-01, 6.25939647e-05],\n",
       "       [1.48599625e-01, 8.43643606e-01, 7.75677245e-03],\n",
       "       [5.69208041e-02, 9.36814725e-01, 6.26450684e-03],\n",
       "       [1.02034822e-01, 8.92082036e-01, 5.88306785e-03],\n",
       "       [1.45310583e-02, 9.85337317e-01, 1.31663692e-04],\n",
       "       [5.23542613e-03, 9.94740307e-01, 2.42805436e-05],\n",
       "       [2.32129358e-02, 9.76526439e-01, 2.60703440e-04],\n",
       "       [1.95401302e-03, 9.98039305e-01, 6.70814825e-06],\n",
       "       [6.33309111e-02, 9.16149378e-01, 2.05196906e-02],\n",
       "       [1.14887297e-01, 8.78664732e-01, 6.44792430e-03],\n",
       "       [7.96561688e-02, 2.54626542e-01, 6.65717244e-01],\n",
       "       [1.96890086e-02, 1.26300693e-01, 8.54010344e-01],\n",
       "       [1.70740448e-02, 9.82669592e-01, 2.56410538e-04],\n",
       "       [1.01496890e-01, 8.82651806e-01, 1.58512723e-02],\n",
       "       [9.64736789e-02, 8.92295361e-01, 1.12309586e-02],\n",
       "       [4.06007394e-02, 9.51509953e-01, 7.88929500e-03],\n",
       "       [1.22182161e-01, 8.54572952e-01, 2.32448950e-02],\n",
       "       [8.17842036e-02, 9.05617177e-01, 1.25986515e-02],\n",
       "       [1.33237464e-03, 9.98667479e-01, 1.66185373e-07],\n",
       "       [1.02525719e-01, 8.78833592e-01, 1.86407045e-02],\n",
       "       [1.25899255e-01, 8.39005709e-01, 3.50950658e-02],\n",
       "       [1.74554408e-01, 6.75813615e-01, 1.49632022e-01],\n",
       "       [1.64307237e-01, 4.94498998e-01, 3.41193795e-01],\n",
       "       [1.59180671e-01, 8.34324419e-01, 6.49495563e-03],\n",
       "       [1.16736221e-03, 9.98831809e-01, 8.82106633e-07],\n",
       "       [5.24502955e-02, 9.45012033e-01, 2.53765774e-03],\n",
       "       [1.41033545e-01, 8.53162527e-01, 5.80389192e-03],\n",
       "       [4.77918684e-02, 9.50839341e-01, 1.36875489e-03],\n",
       "       [1.06467247e-01, 8.78762066e-01, 1.47707528e-02],\n",
       "       [2.04247870e-02, 9.79319036e-01, 2.56113737e-04],\n",
       "       [3.37642990e-02, 9.65121269e-01, 1.11443666e-03],\n",
       "       [9.18726157e-03, 9.90644932e-01, 1.67843464e-04],\n",
       "       [2.99514867e-02, 9.68801916e-01, 1.24657003e-03],\n",
       "       [4.45166677e-02, 7.21583128e-01, 2.33900249e-01],\n",
       "       [5.64286746e-02, 6.96042955e-01, 2.47528404e-01],\n",
       "       [2.40791608e-02, 9.75736320e-01, 1.84547825e-04],\n",
       "       [4.70901579e-02, 9.51293409e-01, 1.61648449e-03],\n",
       "       [5.49010783e-02, 1.65182576e-01, 7.79916346e-01],\n",
       "       [2.59855501e-02, 9.42963585e-02, 8.79718065e-01],\n",
       "       [3.20369154e-02, 9.07744840e-02, 8.77188563e-01],\n",
       "       [2.65296046e-02, 1.25499353e-01, 8.47971082e-01],\n",
       "       [3.62048149e-02, 1.13588683e-01, 8.50206494e-01],\n",
       "       [5.34321927e-02, 7.60768771e-01, 1.85798973e-01],\n",
       "       [3.80282514e-02, 1.53196424e-01, 8.08775246e-01],\n",
       "       [8.00289772e-03, 2.19411310e-02, 9.70056057e-01],\n",
       "       [2.74553485e-02, 1.47525147e-01, 8.25019419e-01],\n",
       "       [3.94090042e-02, 1.89742133e-01, 7.70848811e-01],\n",
       "       [7.29586482e-02, 2.61249691e-01, 6.65791631e-01],\n",
       "       [3.34000699e-02, 1.68613732e-01, 7.97986209e-01],\n",
       "       [8.45123734e-03, 3.71583551e-02, 9.54390407e-01],\n",
       "       [3.83197814e-02, 1.89472616e-01, 7.72207558e-01],\n",
       "       [2.46327370e-02, 1.20575465e-01, 8.54791820e-01],\n",
       "       [2.49251928e-02, 1.16303384e-01, 8.58771443e-01],\n",
       "       [9.71996784e-02, 6.99798822e-01, 2.03001514e-01],\n",
       "       [3.61307003e-02, 8.07127133e-02, 8.83156598e-01],\n",
       "       [3.25277783e-02, 1.59786552e-01, 8.07685673e-01],\n",
       "       [3.22290733e-02, 1.70757174e-01, 7.97013760e-01],\n",
       "       [2.40525194e-02, 1.46713689e-01, 8.29233706e-01],\n",
       "       [3.32318209e-02, 1.30287930e-01, 8.36480260e-01],\n",
       "       [3.97575870e-02, 1.57231107e-01, 8.03011298e-01],\n",
       "       [2.44455151e-02, 1.08348645e-01, 8.67205858e-01],\n",
       "       [7.53559405e-03, 3.22930962e-02, 9.60171342e-01],\n",
       "       [4.32150736e-02, 1.67548284e-01, 7.89236605e-01],\n",
       "       [3.07475310e-02, 8.90838951e-02, 8.80168498e-01],\n",
       "       [2.76452973e-02, 1.00494817e-01, 8.71859848e-01],\n",
       "       [3.90015393e-02, 2.32614934e-01, 7.28383541e-01],\n",
       "       [1.05115864e-02, 4.60385643e-02, 9.43449855e-01],\n",
       "       [4.66770642e-02, 1.59420282e-01, 7.93902576e-01],\n",
       "       [1.95900977e-01, 6.12691700e-01, 1.91407382e-01],\n",
       "       [2.62525920e-02, 1.31492302e-01, 8.42255116e-01],\n",
       "       [3.25441919e-02, 1.60785615e-01, 8.06670249e-01],\n",
       "       [3.68790776e-02, 1.35631084e-01, 8.27489913e-01],\n",
       "       [2.43378580e-02, 4.86802869e-02, 9.26981926e-01],\n",
       "       [4.78485972e-02, 1.43463194e-01, 8.08688164e-01],\n",
       "       [9.76073369e-02, 2.02897280e-01, 6.99495435e-01],\n",
       "       [3.49016003e-02, 1.75555348e-01, 7.89543033e-01],\n",
       "       [1.59813911e-02, 7.60000497e-02, 9.08018589e-01],\n",
       "       [2.57252697e-02, 1.06823958e-01, 8.67450774e-01],\n",
       "       [9.84221473e-02, 3.38273138e-01, 5.63304663e-01]], dtype=float32)"
      ]
     },
     "execution_count": 27,
     "metadata": {},
     "output_type": "execute_result"
    }
   ],
   "source": [
    "predictions = model.predict(test_generator)\n",
    "predictions"
   ]
  },
  {
   "cell_type": "code",
   "execution_count": 28,
   "id": "ea6e1819-9fa4-453c-b751-c70832526e2d",
   "metadata": {},
   "outputs": [],
   "source": [
    "def plot_loss_and_accuracy(history):\n",
    "    history_df = pd.DataFrame(history)\n",
    "    fig, ax = plt.subplots(1,2, figsize=(12, 6))\n",
    "    \n",
    "    history_df.loc[0:, ['loss', 'val_loss']].plot(ax=ax[0])\n",
    "    ax[0].set(xlabel = 'epoch number', ylabel = 'loss')\n",
    "\n",
    "    history_df.loc[0:, ['accuracy', 'val_accuracy']].plot(ax=ax[1])\n",
    "    ax[1].set(xlabel = 'epoch number', ylabel = 'accuracy')"
   ]
  },
  {
   "cell_type": "code",
   "execution_count": 29,
   "id": "b5e362a5-a2ae-42f6-8666-b303bd794893",
   "metadata": {},
   "outputs": [
    {
     "data": {
      "image/png": "[encoded data removed]",
      "text/plain": [
       "<Figure size 1200x600 with 2 Axes>"
      ]
     },
     "metadata": {},
     "output_type": "display_data"
    }
   ],
   "source": [
    "plot_loss_and_accuracy(model_history.history)"
   ]
  },
  {
   "cell_type": "code",
   "execution_count": 30,
   "id": "2a45c22a-04ca-42de-9a71-b8759bf0d320",
   "metadata": {},
   "outputs": [
    {
     "name": "stdout",
     "output_type": "stream",
     "text": [
      "\u001b[1m31/31\u001b[0m \u001b[32m━━━━━━━━━━━━━━━━━━━━\u001b[0m\u001b[37m\u001b[0m \u001b[1m0s\u001b[0m 4ms/step\n",
      "with_mask || with_mask\\maksssksksss230_(np.int64(196), np.int64(39)).png\n"
     ]
    },
    {
     "data": {
      "image/png": "[encoded data removed]",
      "text/plain": [
       "<Figure size 640x480 with 1 Axes>"
      ]
     },
     "metadata": {},
     "output_type": "display_data"
    }
   ],
   "source": [
    "paths = test_generator.filenames\n",
    "y_pred = model.predict(test_generator).argmax(axis=1)\n",
    "classes = test_generator.class_indices\n",
    "\n",
    "a_img_rand = np.random.randint(0,len(paths))\n",
    "img = cv2.imread(os.path.join(output_data_path,'test', paths[a_img_rand]))      \n",
    "colored_img = cv2.cvtColor(img, cv2.COLOR_RGB2BGR)\n",
    "\n",
    "plt.imshow(colored_img)\n",
    "true_label = paths[a_img_rand].split('/')[0]\n",
    "predicted_label = list(classes)[y_pred[a_img_rand]]\n",
    "print(f'{predicted_label} || {true_label}')"
   ]
  },
  {
   "cell_type": "code",
   "execution_count": 31,
   "id": "9f078bb0-074e-4e06-9110-b53384830449",
   "metadata": {},
   "outputs": [],
   "source": [
    "def evaluation(y, y_hat, title = 'Confusion Matrix'):\n",
    "    cm = confusion_matrix(y, y_hat)\n",
    "    sns.heatmap(cm,  cmap= 'PuBu', annot=True, fmt='g', annot_kws={'size':20})\n",
    "    plt.xlabel('predicted', fontsize=18)\n",
    "    plt.ylabel('actual', fontsize=18)\n",
    "    plt.title(title, fontsize=18)\n",
    "    \n",
    "    plt.show()"
   ]
  },
  {
   "cell_type": "code",
   "execution_count": 32,
   "id": "e95bf01b-7ed4-474e-91ff-a00b68b8a4f8",
   "metadata": {},
   "outputs": [
    {
     "name": "stdout",
     "output_type": "stream",
     "text": [
      "\u001b[1m31/31\u001b[0m \u001b[32m━━━━━━━━━━━━━━━━━━━━\u001b[0m\u001b[37m\u001b[0m \u001b[1m0s\u001b[0m 4ms/step\n"
     ]
    },
    {
     "data": {
      "image/png": "[encoded data removed]",
      "text/plain": [
       "<Figure size 640x480 with 2 Axes>"
      ]
     },
     "metadata": {},
     "output_type": "display_data"
    }
   ],
   "source": [
    "y_true = test_generator.labels\n",
    "y_pred = model.predict(test_generator).argmax(axis=1) # Predict prob and get Class Indices\n",
    "\n",
    "evaluation(y_true, y_pred)\n"
   ]
  },
  {
   "cell_type": "code",
   "execution_count": 33,
   "id": "1a0c5b6d-734d-45f6-9d56-b7fce4fcada9",
   "metadata": {},
   "outputs": [
    {
     "data": {
      "text/plain": [
       "{'mask_weared_incorrect': 0, 'with_mask': 1, 'without_mask': 2}"
      ]
     },
     "metadata": {},
     "output_type": "display_data"
    },
    {
     "data": {
      "text/plain": [
       "array([  1, 191,  51])"
      ]
     },
     "execution_count": 33,
     "metadata": {},
     "output_type": "execute_result"
    }
   ],
   "source": [
    "display(classes)\n",
    "np.bincount(y_pred)"
   ]
  },
  {
   "cell_type": "code",
   "execution_count": 34,
   "id": "d699c0fd-41ed-44b3-ae3d-a35e0f07f855",
   "metadata": {},
   "outputs": [],
   "source": [
    "def predict_single_image(model, image_path, class_indices, target_size=(35, 35)):\n",
    "    # Load and preprocess the image\n",
    "    img = Image.open(image_path).convert(\"RGB\")  # Ensure 3 channels\n",
    "    img = img.resize(target_size)  # Resize image\n",
    "    img_array = np.array(img) / 255.0  # Normalize to [0,1]\n",
    "    img_array = np.expand_dims(img_array, axis=0)  # Add batch dimension\n",
    "\n",
    "    # Make predictions\n",
    "    prediction = model.predict(img_array)\n",
    "    predicted_class = np.argmax(prediction, axis=1)[0]\n",
    "    class_labels = {v: k for k, v in class_indices.items()}  # Reverse class_indices\n",
    "    predicted_label = class_labels[predicted_class]\n",
    "\n",
    "    # Display result\n",
    "    plt.imshow(img)\n",
    "    plt.axis('off')\n",
    "    plt.title(f'Predicted: {predicted_label}')\n",
    "    plt.show()\n",
    "\n",
    "    print(f\"Prediction Probabilities: {prediction[0]}\")\n",
    "    print(f\"Predicted Class: {predicted_label}\")\n"
   ]
  },
  {
   "cell_type": "code",
   "execution_count": 41,
   "id": "f1193472-4ce8-4510-a0a4-0486ac6c03fb",
   "metadata": {},
   "outputs": [
    {
     "name": "stdout",
     "output_type": "stream",
     "text": [
      "\u001b[1m1/1\u001b[0m \u001b[32m━━━━━━━━━━━━━━━━━━━━\u001b[0m\u001b[37m\u001b[0m \u001b[1m0s\u001b[0m 24ms/step\n"
     ]
    },
    {
     "data": {
      "image/png": "[encoded data removed]",
      "text/plain": [
       "<Figure size 640x480 with 1 Axes>"
      ]
     },
     "metadata": {},
     "output_type": "display_data"
    },
    {
     "name": "stdout",
     "output_type": "stream",
     "text": [
      "Prediction Probabilities: [0.01820087 0.06547909 0.91631997]\n",
      "Predicted Class: without_mask\n"
     ]
    }
   ],
   "source": [
    "# Path to your single image\n",
    "image_path = r\"K:\\pics\\IMG20241217215358.jpg\"\n",
    "\n",
    "# Predict the result\n",
    "predict_single_image(model, image_path, test_generator.class_indices)\n"
   ]
  },
  {
   "cell_type": "code",
   "execution_count": 99,
   "id": "03dc3c1c-dccf-44a8-abfa-36497a87a91e",
   "metadata": {},
   "outputs": [
    {
     "name": "stdout",
     "output_type": "stream",
     "text": [
      "\u001b[1m1/1\u001b[0m \u001b[32m━━━━━━━━━━━━━━━━━━━━\u001b[0m\u001b[37m\u001b[0m \u001b[1m0s\u001b[0m 43ms/step\n"
     ]
    },
    {
     "data": {
      "image/png": "[encoded data removed]",
      "text/plain": [
       "<Figure size 640x480 with 1 Axes>"
      ]
     },
     "metadata": {},
     "output_type": "display_data"
    },
    {
     "name": "stdout",
     "output_type": "stream",
     "text": [
      "Prediction Probabilities: [0.03668873 0.6087325  0.35457882]\n",
      "Predicted Class: with_mask\n"
     ]
    }
   ],
   "source": [
    "# Path to your single image\n",
    "image_path = r\"K:\\pics\\IMG-20241217-WA0012.jpg\"\n",
    "\n",
    "# Predict the result\n",
    "predict_single_image(model, image_path, test_generator.class_indices)\n"
   ]
  },
  {
   "cell_type": "code",
   "execution_count": 42,
   "id": "76ff9f38-b1f2-461a-8f38-9b557e26256f",
   "metadata": {},
   "outputs": [
    {
     "name": "stderr",
     "output_type": "stream",
     "text": [
      "WARNING:absl:You are saving your model as an HDF5 file via `model.save()` or `keras.saving.save_model(model)`. This file format is considered legacy. We recommend using instead the native Keras format, e.g. `model.save('my_model.keras')` or `keras.saving.save_model(model, 'my_model.keras')`. \n"
     ]
    },
    {
     "name": "stdout",
     "output_type": "stream",
     "text": [
      "Model saved successfully to saved_models/mask_detection_model.h5\n"
     ]
    }
   ],
   "source": [
    "# Save the trained model\n",
    "# Make sure the 'saved_models' directory exists in your project root\n",
    "import os\n",
    "if not os.path.exists('saved_models'):\n",
    "    os.makedirs('saved_models')\n",
    "model.save('saved_models/mask_detection_model.h5')\n",
    "print(\"Model saved successfully to saved_models/mask_detection_model.h5\")"
   ]
  }
 ],
 "metadata": {
  "kernelspec": {
   "display_name": "Python 3",
   "language": "python",
   "name": "python3"
  },
  "language_info": {
   "codemirror_mode": {
    "name": "ipython",
    "version": 3
   },
   "file_extension": ".py",
   "mimetype": "text/x-python",
   "name": "python",
   "nbconvert_exporter": "python",
   "pygments_lexer": "ipython3",
   "version": "3.12.0"
  }
 },
 "nbformat": 4,
 "nbformat_minor": 5
}
