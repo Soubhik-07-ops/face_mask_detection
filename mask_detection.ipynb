{
 "cells": [
  {
   "cell_type": "code",
   "execution_count": 10,
   "id": "707e7d2c-eee7-4113-adfb-a90b40de8bb2",
   "metadata": {},
   "outputs": [],
   "source": [
    "import numpy as np\n",
    "import pandas as pd\n",
    "import matplotlib.pyplot as plt\n",
    "import os\n",
    "import xml.etree.ElementTree as ET\n",
    "import glob\n",
    "from PIL import Image\n",
    "from sklearn.model_selection import train_test_split\n",
    "from tensorflow.keras.models import Sequential\n",
    "from tensorflow.keras.layers import Conv2D, MaxPooling2D, Flatten, Dense, Dropout\n",
    "from tensorflow.keras.preprocessing.image import ImageDataGenerator\n",
    "from tensorflow.keras.callbacks import EarlyStopping, ReduceLROnPlateau\n",
    "from sklearn.metrics import confusion_matrix, classification_report\n",
    "from sklearn.metrics import precision_score, recall_score, accuracy_score,f1_score, classification_report\n",
    "import cv2\n",
    "import seaborn as sns \n",
    "\n",
    "\n",
    "input_data_path = \"D:/face_mask/images\"\n",
    "annotations_path = \"D:/face_mask/annotations\"\n",
    "images = [*os.listdir(input_data_path)]\n",
    "output_data_path =  '.'"
   ]
  },
  {
   "cell_type": "code",
   "execution_count": 11,
   "id": "7c474b6f-4cf7-47bf-9e15-7f9b6af4480b",
   "metadata": {},
   "outputs": [],
   "source": [
    "def parse_annotation(path):\n",
    "    tree = ET.parse(path)\n",
    "    root = tree.getroot()\n",
    "    constants = {}\n",
    "    objects = [child for child in root if child.tag == 'object']\n",
    "    for element in tree.iter():\n",
    "        if element.tag == 'filename':\n",
    "            constants['file'] = element.text[0:-4]\n",
    "        if element.tag == 'size':\n",
    "            for dim in list(element):\n",
    "                if dim.tag == 'width':\n",
    "                    constants['width'] = int(dim.text)\n",
    "                if dim.tag == 'height':\n",
    "                    constants['height'] = int(dim.text)\n",
    "                if dim.tag == 'depth':\n",
    "                    constants['depth'] = int(dim.text)\n",
    "    object_params = [parse_annotation_object(obj) for obj in objects]\n",
    "    #print(constants)\n",
    "    full_result = [merge(constants,ob) for ob in object_params]\n",
    "    return full_result\n",
    "\n",
    "def parse_annotation_object(annotation_object):\n",
    "    params = {}\n",
    "    for param in list(annotation_object):\n",
    "        if param.tag == 'name':\n",
    "            params['name'] = param.text\n",
    "        if param.tag == 'bndbox':\n",
    "            for coord in list(param):\n",
    "                if coord.tag == 'xmin':\n",
    "                    params['xmin'] = int(coord.text)              \n",
    "                if coord.tag == 'ymin':\n",
    "                    params['ymin'] = int(coord.text)\n",
    "                if coord.tag == 'xmax':\n",
    "                    params['xmax'] = int(coord.text)\n",
    "                if coord.tag == 'ymax':\n",
    "                    params['ymax'] = int(coord.text)\n",
    "            \n",
    "    return params       \n",
    " \n",
    "def merge(dict1, dict2):\n",
    "    res = {**dict1, **dict2}\n",
    "    return res"
   ]
  },
  {
   "cell_type": "code",
   "execution_count": 12,
   "id": "220426ff-1087-428f-9e29-0f721b18d458",
   "metadata": {},
   "outputs": [
    {
     "data": {
      "text/plain": [
       "(4072, 9)"
      ]
     },
     "execution_count": 12,
     "metadata": {},
     "output_type": "execute_result"
    }
   ],
   "source": [
    "dataset = [parse_annotation(anno) for anno in glob.glob(annotations_path+\"/*.xml\") ]\n",
    "\n",
    "full_dataset = sum(dataset, [])\n",
    "\n",
    "df = pd.DataFrame(full_dataset)\n",
    "df.shape"
   ]
  },
  {
   "cell_type": "code",
   "execution_count": 13,
   "id": "b6b34b0c-d427-48b6-9e4a-a6d0a191c17e",
   "metadata": {},
   "outputs": [
    {
     "data": {
      "text/html": [
       "<div>\n",
       "<style scoped>\n",
       "    .dataframe tbody tr th:only-of-type {\n",
       "        vertical-align: middle;\n",
       "    }\n",
       "\n",
       "    .dataframe tbody tr th {\n",
       "        vertical-align: top;\n",
       "    }\n",
       "\n",
       "    .dataframe thead th {\n",
       "        text-align: right;\n",
       "    }\n",
       "</style>\n",
       "<table border=\"1\" class=\"dataframe\">\n",
       "  <thead>\n",
       "    <tr style=\"text-align: right;\">\n",
       "      <th></th>\n",
       "      <th>file</th>\n",
       "      <th>width</th>\n",
       "      <th>height</th>\n",
       "      <th>depth</th>\n",
       "      <th>name</th>\n",
       "      <th>xmin</th>\n",
       "      <th>ymin</th>\n",
       "      <th>xmax</th>\n",
       "      <th>ymax</th>\n",
       "    </tr>\n",
       "  </thead>\n",
       "  <tbody>\n",
       "    <tr>\n",
       "      <th>0</th>\n",
       "      <td>maksssksksss0</td>\n",
       "      <td>512</td>\n",
       "      <td>366</td>\n",
       "      <td>3</td>\n",
       "      <td>without_mask</td>\n",
       "      <td>79</td>\n",
       "      <td>105</td>\n",
       "      <td>109</td>\n",
       "      <td>142</td>\n",
       "    </tr>\n",
       "    <tr>\n",
       "      <th>1</th>\n",
       "      <td>maksssksksss0</td>\n",
       "      <td>512</td>\n",
       "      <td>366</td>\n",
       "      <td>3</td>\n",
       "      <td>with_mask</td>\n",
       "      <td>185</td>\n",
       "      <td>100</td>\n",
       "      <td>226</td>\n",
       "      <td>144</td>\n",
       "    </tr>\n",
       "    <tr>\n",
       "      <th>2</th>\n",
       "      <td>maksssksksss0</td>\n",
       "      <td>512</td>\n",
       "      <td>366</td>\n",
       "      <td>3</td>\n",
       "      <td>without_mask</td>\n",
       "      <td>325</td>\n",
       "      <td>90</td>\n",
       "      <td>360</td>\n",
       "      <td>141</td>\n",
       "    </tr>\n",
       "    <tr>\n",
       "      <th>3</th>\n",
       "      <td>maksssksksss1</td>\n",
       "      <td>400</td>\n",
       "      <td>156</td>\n",
       "      <td>3</td>\n",
       "      <td>with_mask</td>\n",
       "      <td>321</td>\n",
       "      <td>34</td>\n",
       "      <td>354</td>\n",
       "      <td>69</td>\n",
       "    </tr>\n",
       "    <tr>\n",
       "      <th>4</th>\n",
       "      <td>maksssksksss1</td>\n",
       "      <td>400</td>\n",
       "      <td>156</td>\n",
       "      <td>3</td>\n",
       "      <td>with_mask</td>\n",
       "      <td>224</td>\n",
       "      <td>38</td>\n",
       "      <td>261</td>\n",
       "      <td>73</td>\n",
       "    </tr>\n",
       "  </tbody>\n",
       "</table>\n",
       "</div>"
      ],
      "text/plain": [
       "            file  width  height  depth          name  xmin  ymin  xmax  ymax\n",
       "0  maksssksksss0    512     366      3  without_mask    79   105   109   142\n",
       "1  maksssksksss0    512     366      3     with_mask   185   100   226   144\n",
       "2  maksssksksss0    512     366      3  without_mask   325    90   360   141\n",
       "3  maksssksksss1    400     156      3     with_mask   321    34   354    69\n",
       "4  maksssksksss1    400     156      3     with_mask   224    38   261    73"
      ]
     },
     "execution_count": 13,
     "metadata": {},
     "output_type": "execute_result"
    }
   ],
   "source": [
    "df.head()"
   ]
  },
  {
   "cell_type": "code",
   "execution_count": 14,
   "id": "ab8ce410-15f4-4e02-9303-f71ccd17dc38",
   "metadata": {},
   "outputs": [],
   "source": [
    "final_test_image = 'maksssksksss0'\n",
    "df_final_test = df.loc[df[\"file\"] == final_test_image]\n",
    "images.remove(f'{final_test_image}.png')\n",
    "df = df.loc[df[\"file\"] != final_test_image]"
   ]
  },
  {
   "cell_type": "code",
   "execution_count": 15,
   "id": "eeffa524-5751-415b-af52-13d051cf4115",
   "metadata": {},
   "outputs": [
    {
     "data": {
      "text/html": [
       "<div>\n",
       "<style scoped>\n",
       "    .dataframe tbody tr th:only-of-type {\n",
       "        vertical-align: middle;\n",
       "    }\n",
       "\n",
       "    .dataframe tbody tr th {\n",
       "        vertical-align: top;\n",
       "    }\n",
       "\n",
       "    .dataframe thead th {\n",
       "        text-align: right;\n",
       "    }\n",
       "</style>\n",
       "<table border=\"1\" class=\"dataframe\">\n",
       "  <thead>\n",
       "    <tr style=\"text-align: right;\">\n",
       "      <th></th>\n",
       "      <th>file</th>\n",
       "      <th>width</th>\n",
       "      <th>height</th>\n",
       "      <th>depth</th>\n",
       "      <th>name</th>\n",
       "      <th>xmin</th>\n",
       "      <th>ymin</th>\n",
       "      <th>xmax</th>\n",
       "      <th>ymax</th>\n",
       "    </tr>\n",
       "  </thead>\n",
       "  <tbody>\n",
       "    <tr>\n",
       "      <th>3</th>\n",
       "      <td>maksssksksss1</td>\n",
       "      <td>400</td>\n",
       "      <td>156</td>\n",
       "      <td>3</td>\n",
       "      <td>with_mask</td>\n",
       "      <td>321</td>\n",
       "      <td>34</td>\n",
       "      <td>354</td>\n",
       "      <td>69</td>\n",
       "    </tr>\n",
       "    <tr>\n",
       "      <th>4</th>\n",
       "      <td>maksssksksss1</td>\n",
       "      <td>400</td>\n",
       "      <td>156</td>\n",
       "      <td>3</td>\n",
       "      <td>with_mask</td>\n",
       "      <td>224</td>\n",
       "      <td>38</td>\n",
       "      <td>261</td>\n",
       "      <td>73</td>\n",
       "    </tr>\n",
       "    <tr>\n",
       "      <th>5</th>\n",
       "      <td>maksssksksss1</td>\n",
       "      <td>400</td>\n",
       "      <td>156</td>\n",
       "      <td>3</td>\n",
       "      <td>with_mask</td>\n",
       "      <td>299</td>\n",
       "      <td>58</td>\n",
       "      <td>315</td>\n",
       "      <td>81</td>\n",
       "    </tr>\n",
       "    <tr>\n",
       "      <th>6</th>\n",
       "      <td>maksssksksss1</td>\n",
       "      <td>400</td>\n",
       "      <td>156</td>\n",
       "      <td>3</td>\n",
       "      <td>with_mask</td>\n",
       "      <td>143</td>\n",
       "      <td>74</td>\n",
       "      <td>174</td>\n",
       "      <td>115</td>\n",
       "    </tr>\n",
       "    <tr>\n",
       "      <th>7</th>\n",
       "      <td>maksssksksss1</td>\n",
       "      <td>400</td>\n",
       "      <td>156</td>\n",
       "      <td>3</td>\n",
       "      <td>with_mask</td>\n",
       "      <td>74</td>\n",
       "      <td>69</td>\n",
       "      <td>95</td>\n",
       "      <td>99</td>\n",
       "    </tr>\n",
       "    <tr>\n",
       "      <th>...</th>\n",
       "      <td>...</td>\n",
       "      <td>...</td>\n",
       "      <td>...</td>\n",
       "      <td>...</td>\n",
       "      <td>...</td>\n",
       "      <td>...</td>\n",
       "      <td>...</td>\n",
       "      <td>...</td>\n",
       "      <td>...</td>\n",
       "    </tr>\n",
       "    <tr>\n",
       "      <th>4067</th>\n",
       "      <td>maksssksksss98</td>\n",
       "      <td>400</td>\n",
       "      <td>267</td>\n",
       "      <td>3</td>\n",
       "      <td>with_mask</td>\n",
       "      <td>263</td>\n",
       "      <td>62</td>\n",
       "      <td>287</td>\n",
       "      <td>85</td>\n",
       "    </tr>\n",
       "    <tr>\n",
       "      <th>4068</th>\n",
       "      <td>maksssksksss98</td>\n",
       "      <td>400</td>\n",
       "      <td>267</td>\n",
       "      <td>3</td>\n",
       "      <td>with_mask</td>\n",
       "      <td>344</td>\n",
       "      <td>80</td>\n",
       "      <td>377</td>\n",
       "      <td>106</td>\n",
       "    </tr>\n",
       "    <tr>\n",
       "      <th>4069</th>\n",
       "      <td>maksssksksss99</td>\n",
       "      <td>400</td>\n",
       "      <td>267</td>\n",
       "      <td>3</td>\n",
       "      <td>mask_weared_incorrect</td>\n",
       "      <td>181</td>\n",
       "      <td>54</td>\n",
       "      <td>273</td>\n",
       "      <td>162</td>\n",
       "    </tr>\n",
       "    <tr>\n",
       "      <th>4070</th>\n",
       "      <td>maksssksksss99</td>\n",
       "      <td>400</td>\n",
       "      <td>267</td>\n",
       "      <td>3</td>\n",
       "      <td>with_mask</td>\n",
       "      <td>99</td>\n",
       "      <td>87</td>\n",
       "      <td>176</td>\n",
       "      <td>165</td>\n",
       "    </tr>\n",
       "    <tr>\n",
       "      <th>4071</th>\n",
       "      <td>maksssksksss99</td>\n",
       "      <td>400</td>\n",
       "      <td>267</td>\n",
       "      <td>3</td>\n",
       "      <td>with_mask</td>\n",
       "      <td>289</td>\n",
       "      <td>99</td>\n",
       "      <td>355</td>\n",
       "      <td>233</td>\n",
       "    </tr>\n",
       "  </tbody>\n",
       "</table>\n",
       "<p>4069 rows × 9 columns</p>\n",
       "</div>"
      ],
      "text/plain": [
       "                file  width  height  depth                   name  xmin  ymin  \\\n",
       "3      maksssksksss1    400     156      3              with_mask   321    34   \n",
       "4      maksssksksss1    400     156      3              with_mask   224    38   \n",
       "5      maksssksksss1    400     156      3              with_mask   299    58   \n",
       "6      maksssksksss1    400     156      3              with_mask   143    74   \n",
       "7      maksssksksss1    400     156      3              with_mask    74    69   \n",
       "...              ...    ...     ...    ...                    ...   ...   ...   \n",
       "4067  maksssksksss98    400     267      3              with_mask   263    62   \n",
       "4068  maksssksksss98    400     267      3              with_mask   344    80   \n",
       "4069  maksssksksss99    400     267      3  mask_weared_incorrect   181    54   \n",
       "4070  maksssksksss99    400     267      3              with_mask    99    87   \n",
       "4071  maksssksksss99    400     267      3              with_mask   289    99   \n",
       "\n",
       "      xmax  ymax  \n",
       "3      354    69  \n",
       "4      261    73  \n",
       "5      315    81  \n",
       "6      174   115  \n",
       "7       95    99  \n",
       "...    ...   ...  \n",
       "4067   287    85  \n",
       "4068   377   106  \n",
       "4069   273   162  \n",
       "4070   176   165  \n",
       "4071   355   233  \n",
       "\n",
       "[4069 rows x 9 columns]"
      ]
     },
     "execution_count": 15,
     "metadata": {},
     "output_type": "execute_result"
    }
   ],
   "source": [
    "df"
   ]
  },
  {
   "cell_type": "code",
   "execution_count": 16,
   "id": "4580142b-1e36-4ba5-a865-18655b21ac68",
   "metadata": {},
   "outputs": [
    {
     "data": {
      "text/plain": [
       "name\n",
       "with_mask                3231\n",
       "without_mask              715\n",
       "mask_weared_incorrect     123\n",
       "Name: count, dtype: int64"
      ]
     },
     "execution_count": 16,
     "metadata": {},
     "output_type": "execute_result"
    }
   ],
   "source": [
    "df[\"name\"].value_counts()"
   ]
  },
  {
   "cell_type": "code",
   "execution_count": 17,
   "id": "30cb25b5-4f36-4bd1-83d4-a240396f657c",
   "metadata": {},
   "outputs": [
    {
     "data": {
      "text/plain": [
       "Text(0, 0.5, 'name')"
      ]
     },
     "execution_count": 17,
     "metadata": {},
     "output_type": "execute_result"
    },
    {
     "data": {
      "image/png": "[encoded data removed]",
      "text/plain": [
       "<Figure size 640x480 with 1 Axes>"
      ]
     },
     "metadata": {},
     "output_type": "display_data"
    }
   ],
   "source": [
    "df[\"name\"].value_counts().plot(kind='barh')\n",
    "plt.xlabel('Count', fontsize = 10, fontweight = 'bold')\n",
    "plt.ylabel('name', fontsize = 10, fontweight = 'bold')"
   ]
  },
  {
   "cell_type": "code",
   "execution_count": 18,
   "id": "f1379f2a-1e13-47df-8d3b-f7996b1302e7",
   "metadata": {},
   "outputs": [],
   "source": [
    "labels = df['name'].unique()\n",
    "directory = ['train', 'test', 'val']\n",
    "output_data_path =  '.'\n",
    "\n",
    "import os\n",
    "for label in labels:\n",
    "    for d in directory:\n",
    "        path = os.path.join(output_data_path, d, label)\n",
    "        if not os.path.exists(path):\n",
    "            os.makedirs(path)"
   ]
  },
  {
   "cell_type": "code",
   "execution_count": 19,
   "id": "44a78da3-2a85-4987-b69f-2d89971129c0",
   "metadata": {},
   "outputs": [],
   "source": [
    "def crop_img(image_path, x_min, y_min, x_max, y_max):\n",
    "    x_shift = (x_max - x_min) * 0.1\n",
    "    y_shift = (y_max - y_min) * 0.1\n",
    "    img = Image.open(image_path)\n",
    "    cropped = img.crop((x_min - x_shift, y_min - y_shift, x_max + x_shift, y_max + y_shift))\n",
    "    return cropped"
   ]
  },
  {
   "cell_type": "code",
   "execution_count": 20,
   "id": "97fb408f-acbc-48f0-864f-47e48fa2b979",
   "metadata": {},
   "outputs": [],
   "source": [
    "def extract_faces(image_name, image_info):\n",
    "    faces = []\n",
    "    df_one_img = image_info[image_info['file'] == image_name[:-4]][['xmin', 'ymin', 'xmax', 'ymax', 'name']]\n",
    "    for row_num in range(len(df_one_img)):\n",
    "        x_min, y_min, x_max, y_max, label = df_one_img.iloc[row_num] \n",
    "        image_path = os.path.join(input_data_path, image_name)\n",
    "        faces.append((crop_img(image_path, x_min, y_min, x_max, y_max), label,f'{image_name[:-4]}_{(x_min, y_min)}'))\n",
    "    return faces"
   ]
  },
  {
   "cell_type": "code",
   "execution_count": 21,
   "id": "75a32293-ba1f-47d2-95ca-63e11a63672b",
   "metadata": {},
   "outputs": [],
   "source": [
    "cropped_faces = [extract_faces(img, df) for img in images]"
   ]
  },
  {
   "cell_type": "code",
   "execution_count": 22,
   "id": "d0273db0-727b-4cf3-b84d-b222ab207638",
   "metadata": {},
   "outputs": [],
   "source": [
    "flat_cropped_faces = sum(cropped_faces, [])"
   ]
  },
  {
   "cell_type": "code",
   "execution_count": 23,
   "id": "8364c2e2-731c-40ae-aff2-2bea56c80872",
   "metadata": {},
   "outputs": [],
   "source": [
    "with_mask = [(img, image_name) for img, label,image_name in flat_cropped_faces if label == \"with_mask\"]\n",
    "mask_weared_incorrect = [(img, image_name) for img, label,image_name in flat_cropped_faces if label == \"mask_weared_incorrect\"]\n",
    "without_mask = [(img, image_name) for img, label,image_name in flat_cropped_faces if label == \"without_mask\"]"
   ]
  },
  {
   "cell_type": "code",
   "execution_count": 24,
   "id": "b1d365f4-840d-4130-8903-02399ce4fbc4",
   "metadata": {},
   "outputs": [
    {
     "name": "stdout",
     "output_type": "stream",
     "text": [
      "3231\n",
      "715\n",
      "123\n",
      "4069\n"
     ]
    }
   ],
   "source": [
    "print(len(with_mask))\n",
    "print(len(without_mask))\n",
    "print(len(mask_weared_incorrect))\n",
    "print(len(with_mask) + len(without_mask) + len(mask_weared_incorrect))"
   ]
  },
  {
   "cell_type": "code",
   "execution_count": 25,
   "id": "a391e990-f499-410a-8fe1-9c0d24971b66",
   "metadata": {},
   "outputs": [],
   "source": [
    "train_with_mask, test_with_mask = train_test_split(with_mask, test_size=0.20, random_state=42)\n",
    "test_with_mask, val_with_mask = train_test_split(test_with_mask, test_size=0.7, random_state=42)\n",
    "\n",
    "train_mask_weared_incorrect, test_mask_weared_incorrect = train_test_split(mask_weared_incorrect, test_size=0.20, random_state=42)\n",
    "test_mask_weared_incorrect, val_mask_weared_incorrect = train_test_split(test_mask_weared_incorrect, test_size=0.7, random_state=42)\n",
    "\n",
    "train_without_mask, test_without_mask = train_test_split(without_mask, test_size=0.20, random_state=42)\n",
    "test_without_mask, val_without_mask = train_test_split(test_without_mask, test_size=0.7, random_state=42)"
   ]
  },
  {
   "cell_type": "code",
   "execution_count": 26,
   "id": "41e0aefc-307d-4249-836f-a1b03f0ddacb",
   "metadata": {},
   "outputs": [],
   "source": [
    "def save_image(image, image_name, output_data_path,  dataset_type, label):\n",
    "    output_path = os.path.join(output_data_path, dataset_type, label ,f'{image_name}.png')\n",
    "    image.save(output_path)"
   ]
  },
  {
   "cell_type": "code",
   "execution_count": 27,
   "id": "61997ea9-18a2-4695-900f-0add3ba2f36e",
   "metadata": {},
   "outputs": [],
   "source": [
    "for image, image_name in train_with_mask:\n",
    "    save_image(image, image_name, output_data_path, 'train', 'with_mask')\n",
    "\n",
    "for image, image_name in train_mask_weared_incorrect:\n",
    "    save_image(image, image_name, output_data_path, 'train', 'mask_weared_incorrect')\n",
    "\n",
    "for image, image_name in train_without_mask:\n",
    "    save_image(image, image_name, output_data_path, 'train', 'without_mask')\n",
    "\n",
    "for image, image_name in test_with_mask:\n",
    "    save_image(image, image_name, output_data_path, 'test', 'with_mask')\n",
    "\n",
    "for image, image_name in test_mask_weared_incorrect:\n",
    "    save_image(image, image_name, output_data_path, 'test', 'mask_weared_incorrect')\n",
    "\n",
    "for image, image_name in test_without_mask:\n",
    "    save_image(image, image_name, output_data_path, 'test', 'without_mask')\n",
    "        \n",
    "for image, image_name in val_with_mask:\n",
    "    save_image(image, image_name, output_data_path, 'val', 'with_mask')\n",
    "\n",
    "for image, image_name in val_without_mask:\n",
    "    save_image(image, image_name, output_data_path, 'val', 'without_mask')\n",
    "\n",
    "for image, image_name in val_mask_weared_incorrect:\n",
    "    save_image(image, image_name, output_data_path, 'val', 'mask_weared_incorrect')"
   ]
  },
  {
   "cell_type": "code",
   "execution_count": 28,
   "id": "2d7ce113-ca53-4852-954e-2dd9f3a9faa0",
   "metadata": {},
   "outputs": [
    {
     "name": "stderr",
     "output_type": "stream",
     "text": [
      "C:\\Users\\mrroy\\AppData\\Local\\Programs\\Python\\Python312\\Lib\\site-packages\\keras\\src\\layers\\convolutional\\base_conv.py:107: UserWarning: Do not pass an `input_shape`/`input_dim` argument to a layer. When using Sequential models, prefer using an `Input(shape)` object as the first layer in the model instead.\n",
      "  super().__init__(activity_regularizer=activity_regularizer, **kwargs)\n"
     ]
    },
    {
     "data": {
      "text/html": [
       "<pre style=\"white-space:pre;overflow-x:auto;line-height:normal;font-family:Menlo,'DejaVu Sans Mono',consolas,'Courier New',monospace\"><span style=\"font-weight: bold\">Model: \"sequential\"</span>\n",
       "</pre>\n"
      ],
      "text/plain": [
       "\u001b[1mModel: \"sequential\"\u001b[0m\n"
      ]
     },
     "metadata": {},
     "output_type": "display_data"
    },
    {
     "data": {
      "text/html": [
       "<pre style=\"white-space:pre;overflow-x:auto;line-height:normal;font-family:Menlo,'DejaVu Sans Mono',consolas,'Courier New',monospace\">┏━━━━━━━━━━━━━━━━━━━━━━━━━━━━━━━━━━━━━━┳━━━━━━━━━━━━━━━━━━━━━━━━━━━━━┳━━━━━━━━━━━━━━━━━┓\n",
       "┃<span style=\"font-weight: bold\"> Layer (type)                         </span>┃<span style=\"font-weight: bold\"> Output Shape                </span>┃<span style=\"font-weight: bold\">         Param # </span>┃\n",
       "┡━━━━━━━━━━━━━━━━━━━━━━━━━━━━━━━━━━━━━━╇━━━━━━━━━━━━━━━━━━━━━━━━━━━━━╇━━━━━━━━━━━━━━━━━┩\n",
       "│ conv2d (<span style=\"color: #0087ff; text-decoration-color: #0087ff\">Conv2D</span>)                      │ (<span style=\"color: #00d7ff; text-decoration-color: #00d7ff\">None</span>, <span style=\"color: #00af00; text-decoration-color: #00af00\">35</span>, <span style=\"color: #00af00; text-decoration-color: #00af00\">35</span>, <span style=\"color: #00af00; text-decoration-color: #00af00\">16</span>)          │             <span style=\"color: #00af00; text-decoration-color: #00af00\">448</span> │\n",
       "├──────────────────────────────────────┼─────────────────────────────┼─────────────────┤\n",
       "│ max_pooling2d (<span style=\"color: #0087ff; text-decoration-color: #0087ff\">MaxPooling2D</span>)         │ (<span style=\"color: #00d7ff; text-decoration-color: #00d7ff\">None</span>, <span style=\"color: #00af00; text-decoration-color: #00af00\">17</span>, <span style=\"color: #00af00; text-decoration-color: #00af00\">17</span>, <span style=\"color: #00af00; text-decoration-color: #00af00\">16</span>)          │               <span style=\"color: #00af00; text-decoration-color: #00af00\">0</span> │\n",
       "├──────────────────────────────────────┼─────────────────────────────┼─────────────────┤\n",
       "│ conv2d_1 (<span style=\"color: #0087ff; text-decoration-color: #0087ff\">Conv2D</span>)                    │ (<span style=\"color: #00d7ff; text-decoration-color: #00d7ff\">None</span>, <span style=\"color: #00af00; text-decoration-color: #00af00\">17</span>, <span style=\"color: #00af00; text-decoration-color: #00af00\">17</span>, <span style=\"color: #00af00; text-decoration-color: #00af00\">32</span>)          │           <span style=\"color: #00af00; text-decoration-color: #00af00\">4,640</span> │\n",
       "├──────────────────────────────────────┼─────────────────────────────┼─────────────────┤\n",
       "│ max_pooling2d_1 (<span style=\"color: #0087ff; text-decoration-color: #0087ff\">MaxPooling2D</span>)       │ (<span style=\"color: #00d7ff; text-decoration-color: #00d7ff\">None</span>, <span style=\"color: #00af00; text-decoration-color: #00af00\">8</span>, <span style=\"color: #00af00; text-decoration-color: #00af00\">8</span>, <span style=\"color: #00af00; text-decoration-color: #00af00\">32</span>)            │               <span style=\"color: #00af00; text-decoration-color: #00af00\">0</span> │\n",
       "├──────────────────────────────────────┼─────────────────────────────┼─────────────────┤\n",
       "│ conv2d_2 (<span style=\"color: #0087ff; text-decoration-color: #0087ff\">Conv2D</span>)                    │ (<span style=\"color: #00d7ff; text-decoration-color: #00d7ff\">None</span>, <span style=\"color: #00af00; text-decoration-color: #00af00\">8</span>, <span style=\"color: #00af00; text-decoration-color: #00af00\">8</span>, <span style=\"color: #00af00; text-decoration-color: #00af00\">64</span>)            │          <span style=\"color: #00af00; text-decoration-color: #00af00\">18,496</span> │\n",
       "├──────────────────────────────────────┼─────────────────────────────┼─────────────────┤\n",
       "│ max_pooling2d_2 (<span style=\"color: #0087ff; text-decoration-color: #0087ff\">MaxPooling2D</span>)       │ (<span style=\"color: #00d7ff; text-decoration-color: #00d7ff\">None</span>, <span style=\"color: #00af00; text-decoration-color: #00af00\">4</span>, <span style=\"color: #00af00; text-decoration-color: #00af00\">4</span>, <span style=\"color: #00af00; text-decoration-color: #00af00\">64</span>)            │               <span style=\"color: #00af00; text-decoration-color: #00af00\">0</span> │\n",
       "├──────────────────────────────────────┼─────────────────────────────┼─────────────────┤\n",
       "│ dropout (<span style=\"color: #0087ff; text-decoration-color: #0087ff\">Dropout</span>)                    │ (<span style=\"color: #00d7ff; text-decoration-color: #00d7ff\">None</span>, <span style=\"color: #00af00; text-decoration-color: #00af00\">4</span>, <span style=\"color: #00af00; text-decoration-color: #00af00\">4</span>, <span style=\"color: #00af00; text-decoration-color: #00af00\">64</span>)            │               <span style=\"color: #00af00; text-decoration-color: #00af00\">0</span> │\n",
       "├──────────────────────────────────────┼─────────────────────────────┼─────────────────┤\n",
       "│ flatten (<span style=\"color: #0087ff; text-decoration-color: #0087ff\">Flatten</span>)                    │ (<span style=\"color: #00d7ff; text-decoration-color: #00d7ff\">None</span>, <span style=\"color: #00af00; text-decoration-color: #00af00\">1024</span>)                │               <span style=\"color: #00af00; text-decoration-color: #00af00\">0</span> │\n",
       "├──────────────────────────────────────┼─────────────────────────────┼─────────────────┤\n",
       "│ dense (<span style=\"color: #0087ff; text-decoration-color: #0087ff\">Dense</span>)                        │ (<span style=\"color: #00d7ff; text-decoration-color: #00d7ff\">None</span>, <span style=\"color: #00af00; text-decoration-color: #00af00\">500</span>)                 │         <span style=\"color: #00af00; text-decoration-color: #00af00\">512,500</span> │\n",
       "├──────────────────────────────────────┼─────────────────────────────┼─────────────────┤\n",
       "│ dropout_1 (<span style=\"color: #0087ff; text-decoration-color: #0087ff\">Dropout</span>)                  │ (<span style=\"color: #00d7ff; text-decoration-color: #00d7ff\">None</span>, <span style=\"color: #00af00; text-decoration-color: #00af00\">500</span>)                 │               <span style=\"color: #00af00; text-decoration-color: #00af00\">0</span> │\n",
       "├──────────────────────────────────────┼─────────────────────────────┼─────────────────┤\n",
       "│ dense_1 (<span style=\"color: #0087ff; text-decoration-color: #0087ff\">Dense</span>)                      │ (<span style=\"color: #00d7ff; text-decoration-color: #00d7ff\">None</span>, <span style=\"color: #00af00; text-decoration-color: #00af00\">3</span>)                   │           <span style=\"color: #00af00; text-decoration-color: #00af00\">1,503</span> │\n",
       "└──────────────────────────────────────┴─────────────────────────────┴─────────────────┘\n",
       "</pre>\n"
      ],
      "text/plain": [
       "┏━━━━━━━━━━━━━━━━━━━━━━━━━━━━━━━━━━━━━━┳━━━━━━━━━━━━━━━━━━━━━━━━━━━━━┳━━━━━━━━━━━━━━━━━┓\n",
       "┃\u001b[1m \u001b[0m\u001b[1mLayer (type)                        \u001b[0m\u001b[1m \u001b[0m┃\u001b[1m \u001b[0m\u001b[1mOutput Shape               \u001b[0m\u001b[1m \u001b[0m┃\u001b[1m \u001b[0m\u001b[1m        Param #\u001b[0m\u001b[1m \u001b[0m┃\n",
       "┡━━━━━━━━━━━━━━━━━━━━━━━━━━━━━━━━━━━━━━╇━━━━━━━━━━━━━━━━━━━━━━━━━━━━━╇━━━━━━━━━━━━━━━━━┩\n",
       "│ conv2d (\u001b[38;5;33mConv2D\u001b[0m)                      │ (\u001b[38;5;45mNone\u001b[0m, \u001b[38;5;34m35\u001b[0m, \u001b[38;5;34m35\u001b[0m, \u001b[38;5;34m16\u001b[0m)          │             \u001b[38;5;34m448\u001b[0m │\n",
       "├──────────────────────────────────────┼─────────────────────────────┼─────────────────┤\n",
       "│ max_pooling2d (\u001b[38;5;33mMaxPooling2D\u001b[0m)         │ (\u001b[38;5;45mNone\u001b[0m, \u001b[38;5;34m17\u001b[0m, \u001b[38;5;34m17\u001b[0m, \u001b[38;5;34m16\u001b[0m)          │               \u001b[38;5;34m0\u001b[0m │\n",
       "├──────────────────────────────────────┼─────────────────────────────┼─────────────────┤\n",
       "│ conv2d_1 (\u001b[38;5;33mConv2D\u001b[0m)                    │ (\u001b[38;5;45mNone\u001b[0m, \u001b[38;5;34m17\u001b[0m, \u001b[38;5;34m17\u001b[0m, \u001b[38;5;34m32\u001b[0m)          │           \u001b[38;5;34m4,640\u001b[0m │\n",
       "├──────────────────────────────────────┼─────────────────────────────┼─────────────────┤\n",
       "│ max_pooling2d_1 (\u001b[38;5;33mMaxPooling2D\u001b[0m)       │ (\u001b[38;5;45mNone\u001b[0m, \u001b[38;5;34m8\u001b[0m, \u001b[38;5;34m8\u001b[0m, \u001b[38;5;34m32\u001b[0m)            │               \u001b[38;5;34m0\u001b[0m │\n",
       "├──────────────────────────────────────┼─────────────────────────────┼─────────────────┤\n",
       "│ conv2d_2 (\u001b[38;5;33mConv2D\u001b[0m)                    │ (\u001b[38;5;45mNone\u001b[0m, \u001b[38;5;34m8\u001b[0m, \u001b[38;5;34m8\u001b[0m, \u001b[38;5;34m64\u001b[0m)            │          \u001b[38;5;34m18,496\u001b[0m │\n",
       "├──────────────────────────────────────┼─────────────────────────────┼─────────────────┤\n",
       "│ max_pooling2d_2 (\u001b[38;5;33mMaxPooling2D\u001b[0m)       │ (\u001b[38;5;45mNone\u001b[0m, \u001b[38;5;34m4\u001b[0m, \u001b[38;5;34m4\u001b[0m, \u001b[38;5;34m64\u001b[0m)            │               \u001b[38;5;34m0\u001b[0m │\n",
       "├──────────────────────────────────────┼─────────────────────────────┼─────────────────┤\n",
       "│ dropout (\u001b[38;5;33mDropout\u001b[0m)                    │ (\u001b[38;5;45mNone\u001b[0m, \u001b[38;5;34m4\u001b[0m, \u001b[38;5;34m4\u001b[0m, \u001b[38;5;34m64\u001b[0m)            │               \u001b[38;5;34m0\u001b[0m │\n",
       "├──────────────────────────────────────┼─────────────────────────────┼─────────────────┤\n",
       "│ flatten (\u001b[38;5;33mFlatten\u001b[0m)                    │ (\u001b[38;5;45mNone\u001b[0m, \u001b[38;5;34m1024\u001b[0m)                │               \u001b[38;5;34m0\u001b[0m │\n",
       "├──────────────────────────────────────┼─────────────────────────────┼─────────────────┤\n",
       "│ dense (\u001b[38;5;33mDense\u001b[0m)                        │ (\u001b[38;5;45mNone\u001b[0m, \u001b[38;5;34m500\u001b[0m)                 │         \u001b[38;5;34m512,500\u001b[0m │\n",
       "├──────────────────────────────────────┼─────────────────────────────┼─────────────────┤\n",
       "│ dropout_1 (\u001b[38;5;33mDropout\u001b[0m)                  │ (\u001b[38;5;45mNone\u001b[0m, \u001b[38;5;34m500\u001b[0m)                 │               \u001b[38;5;34m0\u001b[0m │\n",
       "├──────────────────────────────────────┼─────────────────────────────┼─────────────────┤\n",
       "│ dense_1 (\u001b[38;5;33mDense\u001b[0m)                      │ (\u001b[38;5;45mNone\u001b[0m, \u001b[38;5;34m3\u001b[0m)                   │           \u001b[38;5;34m1,503\u001b[0m │\n",
       "└──────────────────────────────────────┴─────────────────────────────┴─────────────────┘\n"
      ]
     },
     "metadata": {},
     "output_type": "display_data"
    },
    {
     "data": {
      "text/html": [
       "<pre style=\"white-space:pre;overflow-x:auto;line-height:normal;font-family:Menlo,'DejaVu Sans Mono',consolas,'Courier New',monospace\"><span style=\"font-weight: bold\"> Total params: </span><span style=\"color: #00af00; text-decoration-color: #00af00\">537,587</span> (2.05 MB)\n",
       "</pre>\n"
      ],
      "text/plain": [
       "\u001b[1m Total params: \u001b[0m\u001b[38;5;34m537,587\u001b[0m (2.05 MB)\n"
      ]
     },
     "metadata": {},
     "output_type": "display_data"
    },
    {
     "data": {
      "text/html": [
       "<pre style=\"white-space:pre;overflow-x:auto;line-height:normal;font-family:Menlo,'DejaVu Sans Mono',consolas,'Courier New',monospace\"><span style=\"font-weight: bold\"> Trainable params: </span><span style=\"color: #00af00; text-decoration-color: #00af00\">537,587</span> (2.05 MB)\n",
       "</pre>\n"
      ],
      "text/plain": [
       "\u001b[1m Trainable params: \u001b[0m\u001b[38;5;34m537,587\u001b[0m (2.05 MB)\n"
      ]
     },
     "metadata": {},
     "output_type": "display_data"
    },
    {
     "data": {
      "text/html": [
       "<pre style=\"white-space:pre;overflow-x:auto;line-height:normal;font-family:Menlo,'DejaVu Sans Mono',consolas,'Courier New',monospace\"><span style=\"font-weight: bold\"> Non-trainable params: </span><span style=\"color: #00af00; text-decoration-color: #00af00\">0</span> (0.00 B)\n",
       "</pre>\n"
      ],
      "text/plain": [
       "\u001b[1m Non-trainable params: \u001b[0m\u001b[38;5;34m0\u001b[0m (0.00 B)\n"
      ]
     },
     "metadata": {},
     "output_type": "display_data"
    }
   ],
   "source": [
    "model = Sequential()\n",
    "model.add(Conv2D(filters = 16, kernel_size = 3,  padding='same', activation = 'relu', input_shape = (35,35,3)))\n",
    "model.add(MaxPooling2D(pool_size = 2))\n",
    "model.add(Conv2D(filters = 32, kernel_size = 3,  padding='same', activation = 'relu'))\n",
    "model.add(MaxPooling2D(pool_size = 2))\n",
    "model.add(Conv2D(filters = 64, kernel_size = 3,  padding='same', activation = 'relu'))\n",
    "model.add(MaxPooling2D(pool_size = 2))\n",
    "model.add(Dropout(0.3))\n",
    "model.add(Flatten())\n",
    "model.add(Dense(units = 500, activation = 'relu'))\n",
    "model.add(Dropout(0.3))\n",
    "model.add(Dense(units = 3, activation = 'softmax'))\n",
    "\n",
    "model.summary()"
   ]
  },
  {
   "cell_type": "code",
   "execution_count": 31,
   "id": "fc4b57cb-d65d-4c18-b709-aaa5fb1b2609",
   "metadata": {},
   "outputs": [
    {
     "name": "stdout",
     "output_type": "stream",
     "text": [
      "Found 3254 images belonging to 3 classes.\n",
      "Found 572 images belonging to 3 classes.\n",
      "Found 243 images belonging to 3 classes.\n"
     ]
    }
   ],
   "source": [
    "batch_size = 8\n",
    "epochs = 50\n",
    "\n",
    "datagen = ImageDataGenerator(\n",
    "    rescale=1.0 / 255, horizontal_flip=True, zoom_range=0.1, shear_range=0.2, width_shift_range=0.1,\n",
    "    height_shift_range=0.1, rotation_range=4, vertical_flip=False\n",
    "\n",
    ")\n",
    "\n",
    "val_datagen = ImageDataGenerator(\n",
    "    rescale=1.0 / 255\n",
    ")\n",
    " \n",
    "\n",
    "train_generator = datagen.flow_from_directory(\n",
    "    directory=r\"D:\\face_mask\\train\", \n",
    "    target_size=(35, 35),\n",
    "    class_mode=\"categorical\", batch_size=batch_size, shuffle=True\n",
    ")\n",
    "\n",
    "# Validation data\n",
    "val_generator = val_datagen.flow_from_directory(\n",
    "    directory=r\"D:\\face_mask\\val\", \n",
    "    target_size=(35, 35),\n",
    "    class_mode=\"categorical\", batch_size=batch_size, shuffle=True\n",
    ")\n",
    "\n",
    "# Test data\n",
    "test_generator = val_datagen.flow_from_directory(\n",
    "    directory=r\"D:\\face_mask\\test\", \n",
    "    target_size=(35, 35),\n",
    "    class_mode=\"categorical\", batch_size=batch_size, shuffle=False\n",
    ")"
   ]
  },
  {
   "cell_type": "code",
   "execution_count": 32,
   "id": "dfe1f3eb-e183-4f2b-9c1d-3ffa817fb8aa",
   "metadata": {},
   "outputs": [
    {
     "name": "stdout",
     "output_type": "stream",
     "text": [
      "steps_per_epoch: 50\n",
      "val_steps: 9\n"
     ]
    }
   ],
   "source": [
    "data_size = len(train_generator)\n",
    "\n",
    "steps_per_epoch = int(data_size / batch_size)\n",
    "print(f\"steps_per_epoch: {steps_per_epoch}\")\n",
    "\n",
    "val_steps = int(len(val_generator) // batch_size)\n",
    "print(f\"val_steps: {val_steps}\")"
   ]
  },
  {
   "cell_type": "code",
   "execution_count": 33,
   "id": "4f8fb78d-2ca4-46d9-9493-de5f2351eddb",
   "metadata": {},
   "outputs": [],
   "source": [
    "model.compile(\n",
    "    optimizer=\"adam\",\n",
    "    loss=\"categorical_crossentropy\",\n",
    "    metrics=['accuracy', 'Recall', 'Precision', 'AUC']\n",
    ")"
   ]
  },
  {
   "cell_type": "code",
   "execution_count": 34,
   "id": "6a3c587f-7d73-4b4a-835b-61005cec2174",
   "metadata": {},
   "outputs": [],
   "source": [
    "early_stopping = EarlyStopping(monitor='val_loss', patience=8, restore_best_weights=True)"
   ]
  },
  {
   "cell_type": "code",
   "execution_count": 35,
   "id": "3935eda1-9932-48fe-b34e-390824c43ae3",
   "metadata": {},
   "outputs": [],
   "source": [
    "lrr = ReduceLROnPlateau(monitor='val_loss',patience=8,verbose=1,factor=0.5, min_lr=0.00001)\n"
   ]
  },
  {
   "cell_type": "code",
   "execution_count": 37,
   "id": "2d5a28e0-84af-4463-9cc5-314c74053e88",
   "metadata": {},
   "outputs": [
    {
     "name": "stdout",
     "output_type": "stream",
     "text": [
      "Epoch 1/50\n"
     ]
    },
    {
     "name": "stderr",
     "output_type": "stream",
     "text": [
      "C:\\Users\\mrroy\\AppData\\Local\\Programs\\Python\\Python312\\Lib\\site-packages\\keras\\src\\trainers\\data_adapters\\py_dataset_adapter.py:121: UserWarning: Your `PyDataset` class should call `super().__init__(**kwargs)` in its constructor. `**kwargs` can include `workers`, `use_multiprocessing`, `max_queue_size`. Do not pass these arguments to `fit()`, as they will be ignored.\n",
      "  self._warn_if_super_not_called()\n"
     ]
    },
    {
     "name": "stdout",
     "output_type": "stream",
     "text": [
      "\u001b[1m50/50\u001b[0m \u001b[32m━━━━━━━━━━━━━━━━━━━━\u001b[0m\u001b[37m\u001b[0m \u001b[1m4s\u001b[0m 27ms/step - AUC: 0.8617 - Precision: 0.7482 - Recall: 0.6156 - accuracy: 0.7062 - loss: 0.7153 - val_AUC: 0.9606 - val_Precision: 0.9206 - val_Recall: 0.8056 - val_accuracy: 0.8889 - val_loss: 0.3868 - learning_rate: 0.0010\n",
      "Epoch 2/50\n",
      "\u001b[1m50/50\u001b[0m \u001b[32m━━━━━━━━━━━━━━━━━━━━\u001b[0m\u001b[37m\u001b[0m \u001b[1m1s\u001b[0m 18ms/step - AUC: 0.9563 - Precision: 0.9069 - Recall: 0.8383 - accuracy: 0.8977 - loss: 0.3989 - val_AUC: 0.9880 - val_Precision: 0.9444 - val_Recall: 0.9444 - val_accuracy: 0.9444 - val_loss: 0.2169 - learning_rate: 0.0010\n",
      "Epoch 3/50\n",
      "\u001b[1m50/50\u001b[0m \u001b[32m━━━━━━━━━━━━━━━━━━━━\u001b[0m\u001b[37m\u001b[0m \u001b[1m1s\u001b[0m 17ms/step - AUC: 0.9691 - Precision: 0.9297 - Recall: 0.9221 - accuracy: 0.9273 - loss: 0.3055 - val_AUC: 0.9674 - val_Precision: 0.9000 - val_Recall: 0.8750 - val_accuracy: 0.8889 - val_loss: 0.3584 - learning_rate: 0.0010\n",
      "Epoch 4/50\n",
      "\u001b[1m50/50\u001b[0m \u001b[32m━━━━━━━━━━━━━━━━━━━━\u001b[0m\u001b[37m\u001b[0m \u001b[1m1s\u001b[0m 17ms/step - AUC: 0.9791 - Precision: 0.9245 - Recall: 0.9131 - accuracy: 0.9202 - loss: 0.2717 - val_AUC: 0.9847 - val_Precision: 0.9306 - val_Recall: 0.9306 - val_accuracy: 0.9306 - val_loss: 0.2242 - learning_rate: 0.0010\n",
      "Epoch 5/50\n",
      "\u001b[1m50/50\u001b[0m \u001b[32m━━━━━━━━━━━━━━━━━━━━\u001b[0m\u001b[37m\u001b[0m \u001b[1m1s\u001b[0m 16ms/step - AUC: 0.9833 - Precision: 0.9394 - Recall: 0.9369 - accuracy: 0.9378 - loss: 0.2212 - val_AUC: 0.9832 - val_Precision: 0.9155 - val_Recall: 0.9028 - val_accuracy: 0.9167 - val_loss: 0.2483 - learning_rate: 0.0010\n",
      "Epoch 6/50\n",
      "\u001b[1m50/50\u001b[0m \u001b[32m━━━━━━━━━━━━━━━━━━━━\u001b[0m\u001b[37m\u001b[0m \u001b[1m1s\u001b[0m 17ms/step - AUC: 0.9912 - Precision: 0.9414 - Recall: 0.9374 - accuracy: 0.9391 - loss: 0.1591 - val_AUC: 0.9644 - val_Precision: 0.9028 - val_Recall: 0.9028 - val_accuracy: 0.9028 - val_loss: 0.4228 - learning_rate: 0.0010\n",
      "Epoch 7/50\n",
      "\u001b[1m50/50\u001b[0m \u001b[32m━━━━━━━━━━━━━━━━━━━━\u001b[0m\u001b[37m\u001b[0m \u001b[1m1s\u001b[0m 16ms/step - AUC: 0.9668 - Precision: 0.9187 - Recall: 0.8986 - accuracy: 0.9028 - loss: 0.3136 - val_AUC: 0.9718 - val_Precision: 0.8873 - val_Recall: 0.8750 - val_accuracy: 0.8750 - val_loss: 0.3547 - learning_rate: 0.0010\n",
      "Epoch 8/50\n",
      "\u001b[1m50/50\u001b[0m \u001b[32m━━━━━━━━━━━━━━━━━━━━\u001b[0m\u001b[37m\u001b[0m \u001b[1m1s\u001b[0m 15ms/step - AUC: 0.9936 - Precision: 0.9409 - Recall: 0.9378 - accuracy: 0.9411 - loss: 0.1572 - val_AUC: 0.9867 - val_Precision: 0.9306 - val_Recall: 0.9306 - val_accuracy: 0.9306 - val_loss: 0.2223 - learning_rate: 0.0010\n",
      "Epoch 9/50\n",
      "\u001b[1m50/50\u001b[0m \u001b[32m━━━━━━━━━━━━━━━━━━━━\u001b[0m\u001b[37m\u001b[0m \u001b[1m0s\u001b[0m 4ms/step - AUC: 0.9997 - Precision: 0.9834 - Recall: 0.9834 - accuracy: 0.9834 - loss: 0.0638 - val_AUC: 0.9825 - val_Precision: 0.9014 - val_Recall: 0.8889 - val_accuracy: 0.8889 - val_loss: 0.2831 - learning_rate: 0.0010\n",
      "Epoch 10/50\n"
     ]
    },
    {
     "name": "stderr",
     "output_type": "stream",
     "text": [
      "C:\\Users\\mrroy\\AppData\\Local\\Programs\\Python\\Python312\\Lib\\site-packages\\keras\\src\\trainers\\epoch_iterator.py:107: UserWarning: Your input ran out of data; interrupting training. Make sure that your dataset or generator can generate at least `steps_per_epoch * epochs` batches. You may need to use the `.repeat()` function when building your dataset.\n",
      "  self._interrupted_warning()\n"
     ]
    },
    {
     "name": "stdout",
     "output_type": "stream",
     "text": [
      "\n",
      "Epoch 10: ReduceLROnPlateau reducing learning rate to 0.0005000000237487257.\n",
      "\u001b[1m50/50\u001b[0m \u001b[32m━━━━━━━━━━━━━━━━━━━━\u001b[0m\u001b[37m\u001b[0m \u001b[1m1s\u001b[0m 17ms/step - AUC: 0.9776 - Precision: 0.9081 - Recall: 0.9020 - accuracy: 0.9039 - loss: 0.2896 - val_AUC: 0.9758 - val_Precision: 0.9444 - val_Recall: 0.9444 - val_accuracy: 0.9444 - val_loss: 0.2556 - learning_rate: 0.0010\n"
     ]
    }
   ],
   "source": [
    "model_history = model.fit(\n",
    "    x=train_generator,\n",
    "    steps_per_epoch=steps_per_epoch,\n",
    "    epochs=epochs,\n",
    "    shuffle=True,\n",
    "    validation_data=val_generator,\n",
    "    validation_steps=val_steps,\n",
    "    callbacks=[early_stopping, lrr]\n",
    ")\n"
   ]
  },
  {
   "cell_type": "code",
   "execution_count": 38,
   "id": "dc8496b7-c74c-4669-9703-d7712ed57bf9",
   "metadata": {},
   "outputs": [
    {
     "name": "stdout",
     "output_type": "stream",
     "text": [
      "\u001b[1m31/31\u001b[0m \u001b[32m━━━━━━━━━━━━━━━━━━━━\u001b[0m\u001b[37m\u001b[0m \u001b[1m0s\u001b[0m 7ms/step - AUC: 0.9247 - Precision: 0.8297 - Recall: 0.8260 - accuracy: 0.8267 - loss: 0.5423 \n",
      "0.2964501976966858 || 90.53497910499573 || 90.12345671653748 || 91.25000238418579 || 97.3661720752716\n"
     ]
    }
   ],
   "source": [
    "model_loss, model_acc, recall, precision, auc = model.evaluate(test_generator)\n",
    "print(f'{model_loss} || {model_acc*100} || {recall*100} || {precision*100} || {auc*100}')"
   ]
  },
  {
   "cell_type": "code",
   "execution_count": 39,
   "id": "e90e6db3-f37d-4d79-a05d-42c96ed5d02f",
   "metadata": {},
   "outputs": [
    {
     "name": "stdout",
     "output_type": "stream",
     "text": [
      "\u001b[1m31/31\u001b[0m \u001b[32m━━━━━━━━━━━━━━━━━━━━\u001b[0m\u001b[37m\u001b[0m \u001b[1m0s\u001b[0m 10ms/step\n"
     ]
    },
    {
     "data": {
      "text/plain": [
       "array([[2.83598322e-02, 9.54769015e-01, 1.68711580e-02],\n",
       "       [3.95307839e-02, 8.76249790e-01, 8.42194706e-02],\n",
       "       [7.94552043e-02, 8.27635884e-01, 9.29089263e-02],\n",
       "       [4.70835045e-02, 8.93819988e-01, 5.90964854e-02],\n",
       "       [2.51458921e-02, 9.52903092e-01, 2.19509825e-02],\n",
       "       [4.34700288e-02, 8.79251957e-01, 7.72779733e-02],\n",
       "       [4.31386232e-02, 9.11245406e-01, 4.56159711e-02],\n",
       "       [7.97330216e-03, 9.88843083e-01, 3.18363938e-03],\n",
       "       [3.48335877e-02, 7.77706206e-01, 1.87460169e-01],\n",
       "       [3.81847061e-02, 8.97221863e-01, 6.45933896e-02],\n",
       "       [1.79763436e-02, 9.66612458e-01, 1.54112484e-02],\n",
       "       [4.28323261e-03, 9.94896114e-01, 8.20598972e-04],\n",
       "       [1.45241907e-02, 9.81332421e-01, 4.14341455e-03],\n",
       "       [1.53575148e-02, 9.82503712e-01, 2.13869824e-03],\n",
       "       [3.80352214e-02, 8.35432410e-01, 1.26532346e-01],\n",
       "       [5.89961512e-03, 9.85669374e-01, 8.43101274e-03],\n",
       "       [7.94221833e-02, 7.45206654e-01, 1.75371185e-01],\n",
       "       [4.32161912e-02, 9.14887369e-01, 4.18964177e-02],\n",
       "       [1.75028853e-02, 9.76952195e-01, 5.54488646e-03],\n",
       "       [4.90232483e-02, 6.41456008e-01, 3.09520781e-01],\n",
       "       [1.96224824e-02, 9.72064018e-01, 8.31348076e-03],\n",
       "       [2.72008851e-02, 9.32681143e-01, 4.01179902e-02],\n",
       "       [1.93866044e-02, 9.56958711e-01, 2.36546937e-02],\n",
       "       [1.15903951e-02, 9.86475289e-01, 1.93428830e-03],\n",
       "       [4.42784540e-02, 7.89734781e-01, 1.65986761e-01],\n",
       "       [9.43198707e-03, 9.87152040e-01, 3.41594964e-03],\n",
       "       [3.74518801e-03, 4.84252945e-02, 9.47829545e-01],\n",
       "       [8.69450159e-03, 9.77461994e-01, 1.38435075e-02],\n",
       "       [3.68011021e-03, 9.95525420e-01, 7.94501277e-04],\n",
       "       [2.71642637e-02, 1.76744610e-01, 7.96091199e-01],\n",
       "       [4.82930839e-02, 8.04127097e-01, 1.47579804e-01],\n",
       "       [2.52505019e-02, 9.13701475e-01, 6.10480905e-02],\n",
       "       [6.32757917e-02, 8.53603542e-01, 8.31206217e-02],\n",
       "       [2.86377710e-03, 9.96508300e-01, 6.27954607e-04],\n",
       "       [7.90388137e-03, 9.77784157e-01, 1.43119711e-02],\n",
       "       [7.92091787e-02, 5.28226197e-01, 3.92564595e-01],\n",
       "       [9.99855176e-02, 6.10502899e-01, 2.89511621e-01],\n",
       "       [1.09579861e-01, 5.27220845e-01, 3.63199234e-01],\n",
       "       [1.69348363e-02, 9.65634644e-01, 1.74305718e-02],\n",
       "       [3.59480688e-03, 9.95827258e-01, 5.77870815e-04],\n",
       "       [6.54350072e-02, 7.31710017e-01, 2.02855021e-01],\n",
       "       [1.69559959e-02, 9.68990624e-01, 1.40533298e-02],\n",
       "       [4.67215851e-02, 8.74078989e-01, 7.91993737e-02],\n",
       "       [3.46879661e-02, 8.93493652e-01, 7.18183443e-02],\n",
       "       [1.50890658e-02, 9.72293258e-01, 1.26176877e-02],\n",
       "       [1.27892829e-02, 8.98087025e-01, 8.91236290e-02],\n",
       "       [6.63985536e-02, 8.78896654e-01, 5.47047928e-02],\n",
       "       [3.45553756e-02, 9.45904911e-01, 1.95396934e-02],\n",
       "       [2.39381492e-02, 9.59765434e-01, 1.62964314e-02],\n",
       "       [5.95012726e-03, 9.92124021e-01, 1.92583643e-03],\n",
       "       [1.28022078e-02, 9.79037523e-01, 8.16026423e-03],\n",
       "       [1.78233292e-02, 9.66378927e-01, 1.57977659e-02],\n",
       "       [8.87515303e-03, 9.85887468e-01, 5.23735024e-03],\n",
       "       [2.74109002e-02, 9.40775692e-01, 3.18134427e-02],\n",
       "       [4.38913144e-02, 8.03571105e-01, 1.52537614e-01],\n",
       "       [4.74117324e-02, 9.26183224e-01, 2.64050160e-02],\n",
       "       [1.03416843e-02, 9.79237437e-01, 1.04208477e-02],\n",
       "       [3.15266252e-02, 8.20026696e-01, 1.48446724e-01],\n",
       "       [5.62885078e-03, 9.93167996e-01, 1.20307889e-03],\n",
       "       [3.47652510e-02, 2.39723220e-01, 7.25511432e-01],\n",
       "       [1.74543783e-02, 9.58709657e-01, 2.38359142e-02],\n",
       "       [1.28479060e-02, 7.05106497e-01, 2.82045603e-01],\n",
       "       [1.12608662e-02, 9.80453253e-01, 8.28584656e-03],\n",
       "       [1.56716462e-02, 9.76124644e-01, 8.20379797e-03],\n",
       "       [2.32738685e-02, 9.54686642e-01, 2.20395625e-02],\n",
       "       [8.75666272e-03, 9.87112343e-01, 4.13101492e-03],\n",
       "       [2.36906689e-02, 9.70121562e-01, 6.18778635e-03],\n",
       "       [2.24906597e-02, 2.27471456e-01, 7.50037849e-01],\n",
       "       [1.88902859e-02, 9.55656767e-01, 2.54529770e-02],\n",
       "       [3.09578720e-02, 9.38287139e-01, 3.07549369e-02],\n",
       "       [7.21291825e-03, 9.90714312e-01, 2.07280926e-03],\n",
       "       [1.79475937e-02, 9.74748671e-01, 7.30380276e-03],\n",
       "       [1.15363495e-02, 9.86549675e-01, 1.91396789e-03],\n",
       "       [1.42274322e-02, 9.62103546e-01, 2.36689970e-02],\n",
       "       [1.57677829e-02, 3.36251348e-01, 6.47980928e-01],\n",
       "       [1.81616948e-03, 9.98043060e-01, 1.40797478e-04],\n",
       "       [5.76261804e-03, 9.91782784e-01, 2.45456281e-03],\n",
       "       [1.00808488e-02, 9.85786319e-01, 4.13286686e-03],\n",
       "       [4.22638133e-02, 3.38754714e-01, 6.18981481e-01],\n",
       "       [2.58450937e-02, 9.47275639e-01, 2.68792603e-02],\n",
       "       [4.72101197e-02, 8.92020583e-01, 6.07692972e-02],\n",
       "       [6.19248375e-02, 8.75930190e-01, 6.21450357e-02],\n",
       "       [9.16782394e-03, 9.79331613e-01, 1.15006091e-02],\n",
       "       [1.98807884e-02, 9.59902167e-01, 2.02169996e-02],\n",
       "       [2.39843912e-02, 9.55776751e-01, 2.02388521e-02],\n",
       "       [4.27783988e-02, 9.17507350e-01, 3.97142358e-02],\n",
       "       [1.35047426e-02, 9.82004881e-01, 4.49032104e-03],\n",
       "       [6.39121514e-03, 9.91015911e-01, 2.59290100e-03],\n",
       "       [2.05035862e-02, 9.72057462e-01, 7.43899820e-03],\n",
       "       [1.27602220e-02, 9.79663670e-01, 7.57614011e-03],\n",
       "       [8.04880485e-02, 4.04834777e-01, 5.14677227e-01],\n",
       "       [1.37401074e-02, 9.52360988e-01, 3.38989049e-02],\n",
       "       [3.83078419e-02, 8.81724238e-01, 7.99678713e-02],\n",
       "       [1.04518200e-03, 9.98878419e-01, 7.64158613e-05],\n",
       "       [3.83613748e-03, 9.94686365e-01, 1.47742627e-03],\n",
       "       [3.29391621e-02, 6.25585139e-01, 3.41475695e-01],\n",
       "       [5.48390597e-02, 8.15208316e-01, 1.29952624e-01],\n",
       "       [7.11959526e-02, 7.31908619e-01, 1.96895480e-01],\n",
       "       [8.02959055e-02, 5.71084619e-01, 3.48619431e-01],\n",
       "       [2.38891635e-02, 7.82582819e-01, 1.93527967e-01],\n",
       "       [1.30190738e-02, 9.67539370e-01, 1.94415729e-02],\n",
       "       [3.92147042e-02, 6.61049962e-01, 2.99735248e-01],\n",
       "       [6.05671620e-03, 9.82416987e-01, 1.15263611e-02],\n",
       "       [1.68002956e-02, 9.67973590e-01, 1.52261890e-02],\n",
       "       [5.68264313e-02, 8.29759419e-01, 1.13414168e-01],\n",
       "       [3.31192240e-02, 9.07129347e-01, 5.97513616e-02],\n",
       "       [2.41622925e-02, 9.34767187e-01, 4.10704911e-02],\n",
       "       [2.47372873e-02, 9.29368079e-01, 4.58946154e-02],\n",
       "       [1.62108382e-03, 9.98267651e-01, 1.11211215e-04],\n",
       "       [3.18689458e-02, 1.38298601e-01, 8.29832375e-01],\n",
       "       [1.51531175e-02, 4.77966279e-01, 5.06880581e-01],\n",
       "       [3.54458541e-02, 8.98448527e-01, 6.61055893e-02],\n",
       "       [2.31036656e-02, 9.21640038e-01, 5.52563444e-02],\n",
       "       [2.57648472e-02, 8.93326581e-01, 8.09086338e-02],\n",
       "       [7.41265854e-03, 9.89713669e-01, 2.87374784e-03],\n",
       "       [2.11053174e-02, 9.63343918e-01, 1.55507475e-02],\n",
       "       [3.16656232e-02, 6.76283360e-01, 2.92050987e-01],\n",
       "       [7.23672425e-03, 9.91048455e-01, 1.71473681e-03],\n",
       "       [3.58620547e-02, 6.61295652e-01, 3.02842319e-01],\n",
       "       [2.31914893e-02, 9.50153947e-01, 2.66545098e-02],\n",
       "       [7.70630734e-03, 9.90804076e-01, 1.48965139e-03],\n",
       "       [5.84302843e-02, 9.07257617e-01, 3.43121663e-02],\n",
       "       [3.99958305e-02, 9.05464232e-01, 5.45399636e-02],\n",
       "       [5.87242050e-03, 9.93342221e-01, 7.85370823e-04],\n",
       "       [2.89202994e-03, 9.96738851e-01, 3.69077170e-04],\n",
       "       [1.24888504e-02, 8.74740660e-01, 1.12770543e-01],\n",
       "       [3.47166657e-02, 5.67723930e-01, 3.97559434e-01],\n",
       "       [2.62223221e-02, 9.58413839e-01, 1.53639046e-02],\n",
       "       [4.99046734e-03, 9.94193733e-01, 8.15794687e-04],\n",
       "       [1.78021695e-02, 4.31235641e-01, 5.50962150e-01],\n",
       "       [1.13344379e-02, 9.82372820e-01, 6.29274594e-03],\n",
       "       [1.38425594e-02, 9.53522563e-01, 3.26348469e-02],\n",
       "       [1.95615105e-02, 9.70244288e-01, 1.01941573e-02],\n",
       "       [4.11497895e-03, 9.95105505e-01, 7.79505586e-04],\n",
       "       [1.45515837e-02, 8.58817041e-01, 1.26631364e-01],\n",
       "       [2.78146262e-03, 9.96656895e-01, 5.61657362e-04],\n",
       "       [4.58509028e-02, 8.94792080e-01, 5.93569987e-02],\n",
       "       [2.45763864e-02, 9.23662663e-01, 5.17610162e-02],\n",
       "       [4.26803380e-02, 9.01686430e-01, 5.56332022e-02],\n",
       "       [6.38560429e-02, 7.58294582e-01, 1.77849427e-01],\n",
       "       [8.46335888e-02, 5.42480052e-01, 3.72886389e-01],\n",
       "       [3.28213759e-02, 8.80333126e-01, 8.68455619e-02],\n",
       "       [6.32632598e-02, 8.17252934e-01, 1.19483769e-01],\n",
       "       [5.63140064e-02, 4.50035304e-01, 4.93650675e-01],\n",
       "       [1.85516253e-02, 8.99168372e-01, 8.22800323e-02],\n",
       "       [7.20478781e-03, 9.91101623e-01, 1.69357401e-03],\n",
       "       [2.97836587e-02, 9.53498185e-01, 1.67181250e-02],\n",
       "       [2.80205812e-02, 9.59151864e-01, 1.28274960e-02],\n",
       "       [3.65710780e-02, 9.39689815e-01, 2.37391014e-02],\n",
       "       [9.16314498e-03, 9.62405443e-01, 2.84314137e-02],\n",
       "       [1.09108107e-03, 2.12066397e-01, 7.86842585e-01],\n",
       "       [4.59304675e-02, 9.25145745e-01, 2.89238151e-02],\n",
       "       [7.71075785e-02, 6.19468272e-01, 3.03424120e-01],\n",
       "       [2.56308932e-02, 9.60855961e-01, 1.35131255e-02],\n",
       "       [2.78185736e-02, 8.90588105e-01, 8.15933123e-02],\n",
       "       [6.92207143e-02, 5.01885951e-01, 4.28893358e-01],\n",
       "       [9.46707185e-03, 9.41000819e-01, 4.95321676e-02],\n",
       "       [5.70706204e-02, 7.09526241e-01, 2.33403146e-01],\n",
       "       [7.88003393e-03, 9.87805724e-01, 4.31424240e-03],\n",
       "       [4.60177511e-02, 6.20173335e-01, 3.33808899e-01],\n",
       "       [4.95118927e-03, 9.93799746e-01, 1.24907098e-03],\n",
       "       [3.75068113e-02, 4.04006153e-01, 5.58487058e-01],\n",
       "       [5.47116203e-03, 9.93755102e-01, 7.73767068e-04],\n",
       "       [2.85905134e-03, 9.96800303e-01, 3.40681057e-04],\n",
       "       [2.33503687e-03, 9.97482240e-01, 1.82749442e-04],\n",
       "       [1.40007222e-02, 9.70812678e-01, 1.51866442e-02],\n",
       "       [1.36032542e-02, 9.63287830e-01, 2.31088791e-02],\n",
       "       [1.19791506e-02, 9.82241094e-01, 5.77974645e-03],\n",
       "       [3.32924072e-03, 9.96211529e-01, 4.59245755e-04],\n",
       "       [2.16451054e-03, 9.97525990e-01, 3.09483497e-04],\n",
       "       [9.39654559e-03, 9.87588942e-01, 3.01455939e-03],\n",
       "       [2.88929837e-03, 9.96440589e-01, 6.70125650e-04],\n",
       "       [7.49867782e-02, 6.85425580e-01, 2.39587620e-01],\n",
       "       [6.09611906e-03, 9.91892457e-01, 2.01139413e-03],\n",
       "       [6.06664419e-02, 2.85196751e-01, 6.54136777e-01],\n",
       "       [4.03191987e-03, 1.06335908e-01, 8.89632225e-01],\n",
       "       [1.03732310e-02, 9.84406710e-01, 5.22008864e-03],\n",
       "       [2.77901553e-02, 9.62852538e-01, 9.35728010e-03],\n",
       "       [4.34787609e-02, 9.29690838e-01, 2.68303957e-02],\n",
       "       [3.49975340e-02, 8.94829333e-01, 7.01731518e-02],\n",
       "       [4.17874008e-02, 8.91059399e-01, 6.71532005e-02],\n",
       "       [1.71330310e-02, 9.62090790e-01, 2.07762364e-02],\n",
       "       [1.25624484e-03, 9.98566210e-01, 1.77547583e-04],\n",
       "       [1.45643521e-02, 9.46150482e-01, 3.92851457e-02],\n",
       "       [5.80444820e-02, 8.68007421e-01, 7.39481151e-02],\n",
       "       [5.69332540e-02, 8.24634373e-01, 1.18432365e-01],\n",
       "       [5.76338321e-02, 5.72163939e-01, 3.70202184e-01],\n",
       "       [2.62848325e-02, 9.64577794e-01, 9.13742092e-03],\n",
       "       [2.38835649e-03, 9.97358143e-01, 2.53509730e-04],\n",
       "       [1.68368202e-02, 9.09571707e-01, 7.35914484e-02],\n",
       "       [1.99667662e-02, 9.75478768e-01, 4.55454085e-03],\n",
       "       [2.59914305e-02, 9.62975085e-01, 1.10334484e-02],\n",
       "       [5.35908565e-02, 8.84523273e-01, 6.18859120e-02],\n",
       "       [1.76913831e-02, 9.73594368e-01, 8.71425588e-03],\n",
       "       [1.11052357e-02, 9.77472782e-01, 1.14219747e-02],\n",
       "       [3.40280752e-03, 9.85698164e-01, 1.08989934e-02],\n",
       "       [2.73735467e-02, 9.58921850e-01, 1.37045961e-02],\n",
       "       [1.66676715e-02, 9.34258282e-01, 4.90740202e-02],\n",
       "       [2.31832992e-02, 9.07904983e-01, 6.89117461e-02],\n",
       "       [4.75181453e-03, 9.92579639e-01, 2.66853068e-03],\n",
       "       [2.21384466e-02, 9.68690991e-01, 9.17058066e-03],\n",
       "       [1.49135590e-02, 1.35440648e-01, 8.49645793e-01],\n",
       "       [8.85413028e-03, 1.13002568e-01, 8.78143191e-01],\n",
       "       [1.44707141e-02, 8.95791724e-02, 8.95950019e-01],\n",
       "       [4.37575579e-03, 5.67400269e-02, 9.38884139e-01],\n",
       "       [1.10117141e-02, 8.15020576e-02, 9.07486200e-01],\n",
       "       [1.33610636e-01, 4.74788666e-01, 3.91600698e-01],\n",
       "       [3.49904485e-02, 1.65594816e-01, 7.99414694e-01],\n",
       "       [3.58984945e-03, 7.27455989e-02, 9.23664451e-01],\n",
       "       [1.86385829e-02, 1.22721232e-01, 8.58640254e-01],\n",
       "       [1.44981742e-02, 1.86445206e-01, 7.99056590e-01],\n",
       "       [2.94438228e-02, 1.93658233e-01, 7.76897907e-01],\n",
       "       [1.80931129e-02, 1.86214194e-01, 7.95692742e-01],\n",
       "       [4.43324540e-03, 3.08667943e-02, 9.64699924e-01],\n",
       "       [2.00502668e-02, 1.66987464e-01, 8.12962234e-01],\n",
       "       [3.69946212e-02, 1.56393737e-01, 8.06611657e-01],\n",
       "       [5.23964316e-03, 6.51788935e-02, 9.29581463e-01],\n",
       "       [1.44759282e-01, 4.18851167e-01, 4.36389536e-01],\n",
       "       [6.60623536e-02, 1.59372479e-01, 7.74565160e-01],\n",
       "       [9.58057307e-03, 1.25104547e-01, 8.65314841e-01],\n",
       "       [1.65151097e-02, 1.86824918e-01, 7.96660066e-01],\n",
       "       [4.44353335e-02, 1.71511799e-01, 7.84052849e-01],\n",
       "       [3.76657359e-02, 1.64650619e-01, 7.97683656e-01],\n",
       "       [2.15272177e-02, 1.89211711e-01, 7.89261043e-01],\n",
       "       [1.86013095e-02, 1.06991574e-01, 8.74407113e-01],\n",
       "       [1.13502219e-02, 6.31732121e-02, 9.25476611e-01],\n",
       "       [6.98150508e-03, 1.83315679e-01, 8.09702814e-01],\n",
       "       [1.24074221e-02, 1.80687204e-01, 8.06905329e-01],\n",
       "       [2.78102104e-02, 1.45607501e-01, 8.26582313e-01],\n",
       "       [9.73062441e-02, 2.80096620e-01, 6.22597098e-01],\n",
       "       [1.84048880e-02, 7.58060962e-02, 9.05789018e-01],\n",
       "       [1.37341842e-02, 1.21333718e-01, 8.64932120e-01],\n",
       "       [9.01340321e-02, 3.96353602e-01, 5.13512313e-01],\n",
       "       [3.92281776e-03, 8.58572572e-02, 9.10219967e-01],\n",
       "       [1.39523745e-02, 1.04226321e-01, 8.81821394e-01],\n",
       "       [9.96504351e-03, 1.46858439e-01, 8.43176603e-01],\n",
       "       [6.36207461e-02, 1.58855364e-01, 7.77523875e-01],\n",
       "       [2.50426661e-02, 1.42749280e-01, 8.32207978e-01],\n",
       "       [2.47077122e-02, 1.53037816e-01, 8.22254479e-01],\n",
       "       [1.04860794e-02, 1.42696828e-01, 8.46817076e-01],\n",
       "       [4.71561998e-02, 1.50743365e-01, 8.02100480e-01],\n",
       "       [7.97339715e-03, 8.42218697e-02, 9.07804668e-01],\n",
       "       [9.91785973e-02, 2.86620021e-01, 6.14201427e-01]], dtype=float32)"
      ]
     },
     "execution_count": 39,
     "metadata": {},
     "output_type": "execute_result"
    }
   ],
   "source": [
    "predictions = model.predict(test_generator)\n",
    "predictions"
   ]
  },
  {
   "cell_type": "code",
   "execution_count": 40,
   "id": "ea6e1819-9fa4-453c-b751-c70832526e2d",
   "metadata": {},
   "outputs": [],
   "source": [
    "def plot_loss_and_accuracy(history):\n",
    "    history_df = pd.DataFrame(history)\n",
    "    fig, ax = plt.subplots(1,2, figsize=(12, 6))\n",
    "    \n",
    "    history_df.loc[0:, ['loss', 'val_loss']].plot(ax=ax[0])\n",
    "    ax[0].set(xlabel = 'epoch number', ylabel = 'loss')\n",
    "\n",
    "    history_df.loc[0:, ['accuracy', 'val_accuracy']].plot(ax=ax[1])\n",
    "    ax[1].set(xlabel = 'epoch number', ylabel = 'accuracy')"
   ]
  },
  {
   "cell_type": "code",
   "execution_count": 41,
   "id": "b5e362a5-a2ae-42f6-8666-b303bd794893",
   "metadata": {},
   "outputs": [
    {
     "data": {
      "image/png": "[encoded data removed]",
      "text/plain": [
       "<Figure size 1200x600 with 2 Axes>"
      ]
     },
     "metadata": {},
     "output_type": "display_data"
    }
   ],
   "source": [
    "plot_loss_and_accuracy(model_history.history)"
   ]
  },
  {
   "cell_type": "code",
   "execution_count": 46,
   "id": "2a45c22a-04ca-42de-9a71-b8759bf0d320",
   "metadata": {},
   "outputs": [
    {
     "name": "stdout",
     "output_type": "stream",
     "text": [
      "\u001b[1m31/31\u001b[0m \u001b[32m━━━━━━━━━━━━━━━━━━━━\u001b[0m\u001b[37m\u001b[0m \u001b[1m0s\u001b[0m 7ms/step \n",
      "with_mask || with_mask\\maksssksksss52_(np.int64(157), np.int64(61)).png\n"
     ]
    },
    {
     "data": {
      "image/png": "[encoded data removed]",
      "text/plain": [
       "<Figure size 640x480 with 1 Axes>"
      ]
     },
     "metadata": {},
     "output_type": "display_data"
    }
   ],
   "source": [
    "paths = test_generator.filenames\n",
    "y_pred = model.predict(test_generator).argmax(axis=1)\n",
    "classes = test_generator.class_indices\n",
    "\n",
    "a_img_rand = np.random.randint(0,len(paths))\n",
    "img = cv2.imread(os.path.join(output_data_path,'test', paths[a_img_rand]))      \n",
    "colored_img = cv2.cvtColor(img, cv2.COLOR_RGB2BGR)\n",
    "\n",
    "plt.imshow(colored_img)\n",
    "true_label = paths[a_img_rand].split('/')[0]\n",
    "predicted_label = list(classes)[y_pred[a_img_rand]]\n",
    "print(f'{predicted_label} || {true_label}')"
   ]
  },
  {
   "cell_type": "code",
   "execution_count": 47,
   "id": "9f078bb0-074e-4e06-9110-b53384830449",
   "metadata": {},
   "outputs": [],
   "source": [
    "def evaluation(y, y_hat, title = 'Confusion Matrix'):\n",
    "    cm = confusion_matrix(y, y_hat)\n",
    "    sns.heatmap(cm,  cmap= 'PuBu', annot=True, fmt='g', annot_kws={'size':20})\n",
    "    plt.xlabel('predicted', fontsize=18)\n",
    "    plt.ylabel('actual', fontsize=18)\n",
    "    plt.title(title, fontsize=18)\n",
    "    \n",
    "    plt.show()"
   ]
  },
  {
   "cell_type": "code",
   "execution_count": 48,
   "id": "e95bf01b-7ed4-474e-91ff-a00b68b8a4f8",
   "metadata": {},
   "outputs": [
    {
     "name": "stdout",
     "output_type": "stream",
     "text": [
      "\u001b[1m31/31\u001b[0m \u001b[32m━━━━━━━━━━━━━━━━━━━━\u001b[0m\u001b[37m\u001b[0m \u001b[1m0s\u001b[0m 8ms/step \n"
     ]
    },
    {
     "data": {
      "image/png": "[encoded data removed]",
      "text/plain": [
       "<Figure size 640x480 with 2 Axes>"
      ]
     },
     "metadata": {},
     "output_type": "display_data"
    }
   ],
   "source": [
    "y_true = test_generator.labels\n",
    "y_pred = model.predict(test_generator).argmax(axis=1) # Predict prob and get Class Indices\n",
    "\n",
    "evaluation(y_true, y_pred)\n"
   ]
  },
  {
   "cell_type": "code",
   "execution_count": 49,
   "id": "1a0c5b6d-734d-45f6-9d56-b7fce4fcada9",
   "metadata": {},
   "outputs": [
    {
     "data": {
      "text/plain": [
       "{'mask_weared_incorrect': 0, 'with_mask': 1, 'without_mask': 2}"
      ]
     },
     "metadata": {},
     "output_type": "display_data"
    },
    {
     "data": {
      "text/plain": [
       "array([  0, 187,  56])"
      ]
     },
     "execution_count": 49,
     "metadata": {},
     "output_type": "execute_result"
    }
   ],
   "source": [
    "display(classes)\n",
    "np.bincount(y_pred)"
   ]
  },
  {
   "cell_type": "code",
   "execution_count": 55,
   "id": "d699c0fd-41ed-44b3-ae3d-a35e0f07f855",
   "metadata": {},
   "outputs": [],
   "source": [
    "def predict_single_image(model, image_path, class_indices, target_size=(35, 35)):\n",
    "    # Load and preprocess the image\n",
    "    img = Image.open(image_path).convert(\"RGB\")  # Ensure 3 channels\n",
    "    img = img.resize(target_size)  # Resize image\n",
    "    img_array = np.array(img) / 255.0  # Normalize to [0,1]\n",
    "    img_array = np.expand_dims(img_array, axis=0)  # Add batch dimension\n",
    "\n",
    "    # Make predictions\n",
    "    prediction = model.predict(img_array)\n",
    "    predicted_class = np.argmax(prediction, axis=1)[0]\n",
    "    class_labels = {v: k for k, v in class_indices.items()}  # Reverse class_indices\n",
    "    predicted_label = class_labels[predicted_class]\n",
    "\n",
    "    # Display result\n",
    "    plt.imshow(img)\n",
    "    plt.axis('off')\n",
    "    plt.title(f'Predicted: {predicted_label}')\n",
    "    plt.show()\n",
    "\n",
    "    print(f\"Prediction Probabilities: {prediction[0]}\")\n",
    "    print(f\"Predicted Class: {predicted_label}\")\n"
   ]
  },
  {
   "cell_type": "code",
   "execution_count": 59,
   "id": "f1193472-4ce8-4510-a0a4-0486ac6c03fb",
   "metadata": {},
   "outputs": [
    {
     "name": "stderr",
     "output_type": "stream",
     "text": [
      "<>:2: SyntaxWarning: invalid escape sequence '\\m'\n",
      "<>:2: SyntaxWarning: invalid escape sequence '\\m'\n",
      "C:\\Users\\mrroy\\AppData\\Local\\Temp\\ipykernel_30576\\657379167.py:2: SyntaxWarning: invalid escape sequence '\\m'\n",
      "  image_path = \"K:\\my pics\\DSC_0112.jpg\"\n"
     ]
    },
    {
     "name": "stdout",
     "output_type": "stream",
     "text": [
      "\u001b[1m1/1\u001b[0m \u001b[32m━━━━━━━━━━━━━━━━━━━━\u001b[0m\u001b[37m\u001b[0m \u001b[1m0s\u001b[0m 47ms/step\n"
     ]
    },
    {
     "data": {
      "image/png": "[encoded data removed]",
      "text/plain": [
       "<Figure size 640x480 with 1 Axes>"
      ]
     },
     "metadata": {},
     "output_type": "display_data"
    },
    {
     "name": "stdout",
     "output_type": "stream",
     "text": [
      "Prediction Probabilities: [0.04531783 0.36603838 0.58864385]\n",
      "Predicted Class: without_mask\n"
     ]
    }
   ],
   "source": [
    "# Path to your single image\n",
    "image_path = \"K:\\my pics\\DSC_0112.jpg\"\n",
    "\n",
    "# Predict the result\n",
    "predict_single_image(model, image_path, test_generator.class_indices)\n"
   ]
  },
  {
   "cell_type": "code",
   "execution_count": null,
   "id": "ad3aec8b-1e38-4be1-aad0-15918c3e858f",
   "metadata": {},
   "outputs": [],
   "source": []
  }
 ],
 "metadata": {
  "kernelspec": {
   "display_name": "Python 3 (ipykernel)",
   "language": "python",
   "name": "python3"
  },
  "language_info": {
   "codemirror_mode": {
    "name": "ipython",
    "version": 3
   },
   "file_extension": ".py",
   "mimetype": "text/x-python",
   "name": "python",
   "nbconvert_exporter": "python",
   "pygments_lexer": "ipython3",
   "version": "3.12.0"
  }
 },
 "nbformat": 4,
 "nbformat_minor": 5
}
